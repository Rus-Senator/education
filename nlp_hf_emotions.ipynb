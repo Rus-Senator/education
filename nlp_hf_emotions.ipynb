{
  "nbformat": 4,
  "nbformat_minor": 0,
  "metadata": {
    "colab": {
      "provenance": [],
      "include_colab_link": true
    },
    "kernelspec": {
      "name": "python3",
      "display_name": "Python 3"
    },
    "language_info": {
      "name": "python"
    }
  },
  "cells": [
    {
      "cell_type": "markdown",
      "metadata": {
        "id": "view-in-github",
        "colab_type": "text"
      },
      "source": [
        "<a href=\"https://colab.research.google.com/github/Rus-Senator/education/blob/master/nlp_hf_emotions.ipynb\" target=\"_parent\"><img src=\"https://colab.research.google.com/assets/colab-badge.svg\" alt=\"Open In Colab\"/></a>"
      ]
    },
    {
      "cell_type": "markdown",
      "source": [
        "# Определение эмоций в текста с использованием библиотеки Hugging Face"
      ],
      "metadata": {
        "id": "2nqxFEmUEJtN"
      }
    },
    {
      "cell_type": "markdown",
      "source": [
        "Устанавливаем и подключаем необходимые библиотеки"
      ],
      "metadata": {
        "id": "xx5vh22PEaJU"
      }
    },
    {
      "cell_type": "code",
      "execution_count": null,
      "metadata": {
        "id": "W8zXoAgHEHaY"
      },
      "outputs": [],
      "source": [
        "!pip install transformers sentencepiece"
      ]
    },
    {
      "cell_type": "code",
      "source": [
        "from transformers import pipeline"
      ],
      "metadata": {
        "id": "29_zjsOiEVbw"
      },
      "execution_count": null,
      "outputs": []
    },
    {
      "cell_type": "markdown",
      "source": [
        "Создаем pipeline для классификации текста в Hugging Face"
      ],
      "metadata": {
        "id": "f8kqDfHgEc4D"
      }
    },
    {
      "cell_type": "code",
      "source": [
        "classifier = pipeline(\"text-classification\",\n",
        "                      model=\"cointegrated/rubert-tiny2-cedr-emotion-detection\")"
      ],
      "metadata": {
        "id": "RqnjYkLWEo--"
      },
      "execution_count": null,
      "outputs": []
    },
    {
      "cell_type": "markdown",
      "source": [
        "Используем модель для опеределения эмоций в тексте"
      ],
      "metadata": {
        "id": "UyOjgAYOE-jY"
      }
    },
    {
      "cell_type": "code",
      "source": [
        "results = classifier(\"Я в мае сдаю, боюсь сейчас) Ну как же, для себя, просто.\")"
      ],
      "metadata": {
        "id": "T47hpOgVE9ls"
      },
      "execution_count": null,
      "outputs": []
    },
    {
      "cell_type": "code",
      "source": [
        "results"
      ],
      "metadata": {
        "colab": {
          "base_uri": "https://localhost:8080/"
        },
        "id": "6X_5c0MfFJQD",
        "outputId": "47bff028-e842-46b5-ed1a-5862ebe5a3a6"
      },
      "execution_count": null,
      "outputs": [
        {
          "output_type": "execute_result",
          "data": {
            "text/plain": [
              "[{'label': 'fear', 'score': 0.9468780159950256}]"
            ]
          },
          "metadata": {},
          "execution_count": 12
        }
      ]
    },
    {
      "cell_type": "markdown",
      "source": [
        "Выводим все возможные классы"
      ],
      "metadata": {
        "id": "ooNz-WtUIkrp"
      }
    },
    {
      "cell_type": "code",
      "source": [
        "classifier(\"Я в мае сдаю, боюсь сейчас) Ну как же, для себя, просто.\",\n",
        "           return_all_scores=True)"
      ],
      "metadata": {
        "colab": {
          "base_uri": "https://localhost:8080/"
        },
        "id": "0Eo1N4r1IkPA",
        "outputId": "c16d14ce-f958-49ce-a7c5-95ce78e61c01"
      },
      "execution_count": null,
      "outputs": [
        {
          "output_type": "execute_result",
          "data": {
            "text/plain": [
              "[[{'label': 'no_emotion', 'score': 0.027997508645057678},\n",
              "  {'label': 'joy', 'score': 0.07670938223600388},\n",
              "  {'label': 'sadness', 'score': 0.033526286482810974},\n",
              "  {'label': 'surprise', 'score': 0.020482530817389488},\n",
              "  {'label': 'fear', 'score': 0.9468780159950256},\n",
              "  {'label': 'anger', 'score': 0.026538334786891937}]]"
            ]
          },
          "metadata": {},
          "execution_count": 13
        }
      ]
    }
  ]
}