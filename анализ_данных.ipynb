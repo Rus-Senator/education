{
  "cells": [
    {
      "cell_type": "markdown",
      "metadata": {
        "id": "view-in-github",
        "colab_type": "text"
      },
      "source": [
        "<a href=\"https://colab.research.google.com/github/Rus-Senator/education/blob/master/%D0%B0%D0%BD%D0%B0%D0%BB%D0%B8%D0%B7_%D0%B4%D0%B0%D0%BD%D0%BD%D1%8B%D1%85.ipynb\" target=\"_parent\"><img src=\"https://colab.research.google.com/assets/colab-badge.svg\" alt=\"Open In Colab\"/></a>"
      ]
    },
    {
      "cell_type": "markdown",
      "source": [
        "# Анализ данных\n",
        "\n",
        "**Перед началом работы необходимо скачать данные!!!**\n",
        "\n"
      ],
      "metadata": {
        "id": "r0F4DyMqybr6"
      },
      "id": "r0F4DyMqybr6"
    },
    {
      "cell_type": "code",
      "source": [
        "!wget https://raw.githubusercontent.com/Rus-Senator/education/master/Данные.csv"
      ],
      "metadata": {
        "colab": {
          "base_uri": "https://localhost:8080/"
        },
        "id": "F6pTLfFoykb8",
        "outputId": "47f6b1a2-6b45-48e9-b0cc-3524973f4bce"
      },
      "id": "F6pTLfFoykb8",
      "execution_count": null,
      "outputs": [
        {
          "output_type": "stream",
          "name": "stdout",
          "text": [
            "--2024-03-24 09:28:48--  https://raw.githubusercontent.com/Rus-Senator/education/master/%D0%94%D0%B0%D0%BD%D0%BD%D1%8B%D0%B5.csv\n",
            "Resolving raw.githubusercontent.com (raw.githubusercontent.com)... 185.199.108.133, 185.199.109.133, 185.199.110.133, ...\n",
            "Connecting to raw.githubusercontent.com (raw.githubusercontent.com)|185.199.108.133|:443... connected.\n",
            "HTTP request sent, awaiting response... 200 OK\n",
            "Length: 1210305 (1.2M) [text/plain]\n",
            "Saving to: ‘Данные.csv’\n",
            "\n",
            "Данные.csv          100%[===================>]   1.15M  --.-KB/s    in 0.05s   \n",
            "\n",
            "2024-03-24 09:28:48 (21.1 MB/s) - ‘Данные.csv’ saved [1210305/1210305]\n",
            "\n"
          ]
        }
      ]
    },
    {
      "cell_type": "markdown",
      "source": [
        "Подключим библиотеки:"
      ],
      "metadata": {
        "id": "pnrx6Ujeypz7"
      },
      "id": "pnrx6Ujeypz7"
    },
    {
      "cell_type": "code",
      "source": [],
      "metadata": {
        "id": "DIbYjqOBVTK_"
      },
      "id": "DIbYjqOBVTK_",
      "execution_count": null,
      "outputs": []
    },
    {
      "cell_type": "code",
      "execution_count": null,
      "id": "bd8e0822",
      "metadata": {
        "id": "bd8e0822"
      },
      "outputs": [],
      "source": [
        "import numpy as np\n",
        "import matplotlib.pyplot as plt\n",
        "import seaborn as sb\n",
        "import pandas as pd"
      ]
    },
    {
      "cell_type": "markdown",
      "source": [
        "Загрузим таблицу в Pandas:"
      ],
      "metadata": {
        "id": "lCdSvhkCysIv"
      },
      "id": "lCdSvhkCysIv"
    },
    {
      "cell_type": "code",
      "execution_count": null,
      "id": "981da949",
      "metadata": {
        "id": "981da949"
      },
      "outputs": [],
      "source": [
        "df = pd.read_csv('Данные.csv')"
      ]
    },
    {
      "cell_type": "markdown",
      "source": [
        "Отобразим таблицу:"
      ],
      "metadata": {
        "id": "r-celeAeyu0N"
      },
      "id": "r-celeAeyu0N"
    },
    {
      "cell_type": "code",
      "execution_count": null,
      "id": "5b59732e",
      "metadata": {
        "colab": {
          "base_uri": "https://localhost:8080/",
          "height": 424
        },
        "id": "5b59732e",
        "outputId": "11fdf29f-d779-4da1-da91-ad168fb8a5bd"
      },
      "outputs": [
        {
          "output_type": "execute_result",
          "data": {
            "text/plain": [
              "           TIME  OPEN(T)  HIGH(t)  LOW(t)  CLOSE(t)\n",
              "0      10:00:00    87120    87380   87120     87360\n",
              "1      10:00:01    87320    87370   87270     87310\n",
              "2      10:00:02    87310    87370   87290     87320\n",
              "3      10:00:03    87340    87340   87280     87300\n",
              "4      10:00:04    87300    87350   87240     87290\n",
              "...         ...      ...      ...     ...       ...\n",
              "35591  23:49:55    87020    87070   87020     87070\n",
              "35592  23:49:56    87030    87030   87000     87000\n",
              "35593  23:49:57    87000    87060   86980     87070\n",
              "35594  23:49:58    86980    87060   86970     86970\n",
              "35595  23:49:59    87020    87020   87020     87020\n",
              "\n",
              "[35596 rows x 5 columns]"
            ],
            "text/html": [
              "\n",
              "  <div id=\"df-284da9e4-abfe-45e8-866e-5664f1a04ae7\" class=\"colab-df-container\">\n",
              "    <div>\n",
              "<style scoped>\n",
              "    .dataframe tbody tr th:only-of-type {\n",
              "        vertical-align: middle;\n",
              "    }\n",
              "\n",
              "    .dataframe tbody tr th {\n",
              "        vertical-align: top;\n",
              "    }\n",
              "\n",
              "    .dataframe thead th {\n",
              "        text-align: right;\n",
              "    }\n",
              "</style>\n",
              "<table border=\"1\" class=\"dataframe\">\n",
              "  <thead>\n",
              "    <tr style=\"text-align: right;\">\n",
              "      <th></th>\n",
              "      <th>TIME</th>\n",
              "      <th>OPEN(T)</th>\n",
              "      <th>HIGH(t)</th>\n",
              "      <th>LOW(t)</th>\n",
              "      <th>CLOSE(t)</th>\n",
              "    </tr>\n",
              "  </thead>\n",
              "  <tbody>\n",
              "    <tr>\n",
              "      <th>0</th>\n",
              "      <td>10:00:00</td>\n",
              "      <td>87120</td>\n",
              "      <td>87380</td>\n",
              "      <td>87120</td>\n",
              "      <td>87360</td>\n",
              "    </tr>\n",
              "    <tr>\n",
              "      <th>1</th>\n",
              "      <td>10:00:01</td>\n",
              "      <td>87320</td>\n",
              "      <td>87370</td>\n",
              "      <td>87270</td>\n",
              "      <td>87310</td>\n",
              "    </tr>\n",
              "    <tr>\n",
              "      <th>2</th>\n",
              "      <td>10:00:02</td>\n",
              "      <td>87310</td>\n",
              "      <td>87370</td>\n",
              "      <td>87290</td>\n",
              "      <td>87320</td>\n",
              "    </tr>\n",
              "    <tr>\n",
              "      <th>3</th>\n",
              "      <td>10:00:03</td>\n",
              "      <td>87340</td>\n",
              "      <td>87340</td>\n",
              "      <td>87280</td>\n",
              "      <td>87300</td>\n",
              "    </tr>\n",
              "    <tr>\n",
              "      <th>4</th>\n",
              "      <td>10:00:04</td>\n",
              "      <td>87300</td>\n",
              "      <td>87350</td>\n",
              "      <td>87240</td>\n",
              "      <td>87290</td>\n",
              "    </tr>\n",
              "    <tr>\n",
              "      <th>...</th>\n",
              "      <td>...</td>\n",
              "      <td>...</td>\n",
              "      <td>...</td>\n",
              "      <td>...</td>\n",
              "      <td>...</td>\n",
              "    </tr>\n",
              "    <tr>\n",
              "      <th>35591</th>\n",
              "      <td>23:49:55</td>\n",
              "      <td>87020</td>\n",
              "      <td>87070</td>\n",
              "      <td>87020</td>\n",
              "      <td>87070</td>\n",
              "    </tr>\n",
              "    <tr>\n",
              "      <th>35592</th>\n",
              "      <td>23:49:56</td>\n",
              "      <td>87030</td>\n",
              "      <td>87030</td>\n",
              "      <td>87000</td>\n",
              "      <td>87000</td>\n",
              "    </tr>\n",
              "    <tr>\n",
              "      <th>35593</th>\n",
              "      <td>23:49:57</td>\n",
              "      <td>87000</td>\n",
              "      <td>87060</td>\n",
              "      <td>86980</td>\n",
              "      <td>87070</td>\n",
              "    </tr>\n",
              "    <tr>\n",
              "      <th>35594</th>\n",
              "      <td>23:49:58</td>\n",
              "      <td>86980</td>\n",
              "      <td>87060</td>\n",
              "      <td>86970</td>\n",
              "      <td>86970</td>\n",
              "    </tr>\n",
              "    <tr>\n",
              "      <th>35595</th>\n",
              "      <td>23:49:59</td>\n",
              "      <td>87020</td>\n",
              "      <td>87020</td>\n",
              "      <td>87020</td>\n",
              "      <td>87020</td>\n",
              "    </tr>\n",
              "  </tbody>\n",
              "</table>\n",
              "<p>35596 rows × 5 columns</p>\n",
              "</div>\n",
              "    <div class=\"colab-df-buttons\">\n",
              "\n",
              "  <div class=\"colab-df-container\">\n",
              "    <button class=\"colab-df-convert\" onclick=\"convertToInteractive('df-284da9e4-abfe-45e8-866e-5664f1a04ae7')\"\n",
              "            title=\"Convert this dataframe to an interactive table.\"\n",
              "            style=\"display:none;\">\n",
              "\n",
              "  <svg xmlns=\"http://www.w3.org/2000/svg\" height=\"24px\" viewBox=\"0 -960 960 960\">\n",
              "    <path d=\"M120-120v-720h720v720H120Zm60-500h600v-160H180v160Zm220 220h160v-160H400v160Zm0 220h160v-160H400v160ZM180-400h160v-160H180v160Zm440 0h160v-160H620v160ZM180-180h160v-160H180v160Zm440 0h160v-160H620v160Z\"/>\n",
              "  </svg>\n",
              "    </button>\n",
              "\n",
              "  <style>\n",
              "    .colab-df-container {\n",
              "      display:flex;\n",
              "      gap: 12px;\n",
              "    }\n",
              "\n",
              "    .colab-df-convert {\n",
              "      background-color: #E8F0FE;\n",
              "      border: none;\n",
              "      border-radius: 50%;\n",
              "      cursor: pointer;\n",
              "      display: none;\n",
              "      fill: #1967D2;\n",
              "      height: 32px;\n",
              "      padding: 0 0 0 0;\n",
              "      width: 32px;\n",
              "    }\n",
              "\n",
              "    .colab-df-convert:hover {\n",
              "      background-color: #E2EBFA;\n",
              "      box-shadow: 0px 1px 2px rgba(60, 64, 67, 0.3), 0px 1px 3px 1px rgba(60, 64, 67, 0.15);\n",
              "      fill: #174EA6;\n",
              "    }\n",
              "\n",
              "    .colab-df-buttons div {\n",
              "      margin-bottom: 4px;\n",
              "    }\n",
              "\n",
              "    [theme=dark] .colab-df-convert {\n",
              "      background-color: #3B4455;\n",
              "      fill: #D2E3FC;\n",
              "    }\n",
              "\n",
              "    [theme=dark] .colab-df-convert:hover {\n",
              "      background-color: #434B5C;\n",
              "      box-shadow: 0px 1px 3px 1px rgba(0, 0, 0, 0.15);\n",
              "      filter: drop-shadow(0px 1px 2px rgba(0, 0, 0, 0.3));\n",
              "      fill: #FFFFFF;\n",
              "    }\n",
              "  </style>\n",
              "\n",
              "    <script>\n",
              "      const buttonEl =\n",
              "        document.querySelector('#df-284da9e4-abfe-45e8-866e-5664f1a04ae7 button.colab-df-convert');\n",
              "      buttonEl.style.display =\n",
              "        google.colab.kernel.accessAllowed ? 'block' : 'none';\n",
              "\n",
              "      async function convertToInteractive(key) {\n",
              "        const element = document.querySelector('#df-284da9e4-abfe-45e8-866e-5664f1a04ae7');\n",
              "        const dataTable =\n",
              "          await google.colab.kernel.invokeFunction('convertToInteractive',\n",
              "                                                    [key], {});\n",
              "        if (!dataTable) return;\n",
              "\n",
              "        const docLinkHtml = 'Like what you see? Visit the ' +\n",
              "          '<a target=\"_blank\" href=https://colab.research.google.com/notebooks/data_table.ipynb>data table notebook</a>'\n",
              "          + ' to learn more about interactive tables.';\n",
              "        element.innerHTML = '';\n",
              "        dataTable['output_type'] = 'display_data';\n",
              "        await google.colab.output.renderOutput(dataTable, element);\n",
              "        const docLink = document.createElement('div');\n",
              "        docLink.innerHTML = docLinkHtml;\n",
              "        element.appendChild(docLink);\n",
              "      }\n",
              "    </script>\n",
              "  </div>\n",
              "\n",
              "\n",
              "<div id=\"df-89c2dd37-73c9-4d48-aec4-eb7b10d0949e\">\n",
              "  <button class=\"colab-df-quickchart\" onclick=\"quickchart('df-89c2dd37-73c9-4d48-aec4-eb7b10d0949e')\"\n",
              "            title=\"Suggest charts\"\n",
              "            style=\"display:none;\">\n",
              "\n",
              "<svg xmlns=\"http://www.w3.org/2000/svg\" height=\"24px\"viewBox=\"0 0 24 24\"\n",
              "     width=\"24px\">\n",
              "    <g>\n",
              "        <path d=\"M19 3H5c-1.1 0-2 .9-2 2v14c0 1.1.9 2 2 2h14c1.1 0 2-.9 2-2V5c0-1.1-.9-2-2-2zM9 17H7v-7h2v7zm4 0h-2V7h2v10zm4 0h-2v-4h2v4z\"/>\n",
              "    </g>\n",
              "</svg>\n",
              "  </button>\n",
              "\n",
              "<style>\n",
              "  .colab-df-quickchart {\n",
              "      --bg-color: #E8F0FE;\n",
              "      --fill-color: #1967D2;\n",
              "      --hover-bg-color: #E2EBFA;\n",
              "      --hover-fill-color: #174EA6;\n",
              "      --disabled-fill-color: #AAA;\n",
              "      --disabled-bg-color: #DDD;\n",
              "  }\n",
              "\n",
              "  [theme=dark] .colab-df-quickchart {\n",
              "      --bg-color: #3B4455;\n",
              "      --fill-color: #D2E3FC;\n",
              "      --hover-bg-color: #434B5C;\n",
              "      --hover-fill-color: #FFFFFF;\n",
              "      --disabled-bg-color: #3B4455;\n",
              "      --disabled-fill-color: #666;\n",
              "  }\n",
              "\n",
              "  .colab-df-quickchart {\n",
              "    background-color: var(--bg-color);\n",
              "    border: none;\n",
              "    border-radius: 50%;\n",
              "    cursor: pointer;\n",
              "    display: none;\n",
              "    fill: var(--fill-color);\n",
              "    height: 32px;\n",
              "    padding: 0;\n",
              "    width: 32px;\n",
              "  }\n",
              "\n",
              "  .colab-df-quickchart:hover {\n",
              "    background-color: var(--hover-bg-color);\n",
              "    box-shadow: 0 1px 2px rgba(60, 64, 67, 0.3), 0 1px 3px 1px rgba(60, 64, 67, 0.15);\n",
              "    fill: var(--button-hover-fill-color);\n",
              "  }\n",
              "\n",
              "  .colab-df-quickchart-complete:disabled,\n",
              "  .colab-df-quickchart-complete:disabled:hover {\n",
              "    background-color: var(--disabled-bg-color);\n",
              "    fill: var(--disabled-fill-color);\n",
              "    box-shadow: none;\n",
              "  }\n",
              "\n",
              "  .colab-df-spinner {\n",
              "    border: 2px solid var(--fill-color);\n",
              "    border-color: transparent;\n",
              "    border-bottom-color: var(--fill-color);\n",
              "    animation:\n",
              "      spin 1s steps(1) infinite;\n",
              "  }\n",
              "\n",
              "  @keyframes spin {\n",
              "    0% {\n",
              "      border-color: transparent;\n",
              "      border-bottom-color: var(--fill-color);\n",
              "      border-left-color: var(--fill-color);\n",
              "    }\n",
              "    20% {\n",
              "      border-color: transparent;\n",
              "      border-left-color: var(--fill-color);\n",
              "      border-top-color: var(--fill-color);\n",
              "    }\n",
              "    30% {\n",
              "      border-color: transparent;\n",
              "      border-left-color: var(--fill-color);\n",
              "      border-top-color: var(--fill-color);\n",
              "      border-right-color: var(--fill-color);\n",
              "    }\n",
              "    40% {\n",
              "      border-color: transparent;\n",
              "      border-right-color: var(--fill-color);\n",
              "      border-top-color: var(--fill-color);\n",
              "    }\n",
              "    60% {\n",
              "      border-color: transparent;\n",
              "      border-right-color: var(--fill-color);\n",
              "    }\n",
              "    80% {\n",
              "      border-color: transparent;\n",
              "      border-right-color: var(--fill-color);\n",
              "      border-bottom-color: var(--fill-color);\n",
              "    }\n",
              "    90% {\n",
              "      border-color: transparent;\n",
              "      border-bottom-color: var(--fill-color);\n",
              "    }\n",
              "  }\n",
              "</style>\n",
              "\n",
              "  <script>\n",
              "    async function quickchart(key) {\n",
              "      const quickchartButtonEl =\n",
              "        document.querySelector('#' + key + ' button');\n",
              "      quickchartButtonEl.disabled = true;  // To prevent multiple clicks.\n",
              "      quickchartButtonEl.classList.add('colab-df-spinner');\n",
              "      try {\n",
              "        const charts = await google.colab.kernel.invokeFunction(\n",
              "            'suggestCharts', [key], {});\n",
              "      } catch (error) {\n",
              "        console.error('Error during call to suggestCharts:', error);\n",
              "      }\n",
              "      quickchartButtonEl.classList.remove('colab-df-spinner');\n",
              "      quickchartButtonEl.classList.add('colab-df-quickchart-complete');\n",
              "    }\n",
              "    (() => {\n",
              "      let quickchartButtonEl =\n",
              "        document.querySelector('#df-89c2dd37-73c9-4d48-aec4-eb7b10d0949e button');\n",
              "      quickchartButtonEl.style.display =\n",
              "        google.colab.kernel.accessAllowed ? 'block' : 'none';\n",
              "    })();\n",
              "  </script>\n",
              "</div>\n",
              "    </div>\n",
              "  </div>\n"
            ],
            "application/vnd.google.colaboratory.intrinsic+json": {
              "type": "dataframe",
              "variable_name": "df",
              "summary": "{\n  \"name\": \"df\",\n  \"rows\": 35596,\n  \"fields\": [\n    {\n      \"column\": \"TIME\",\n      \"properties\": {\n        \"dtype\": \"object\",\n        \"num_unique_values\": 35596,\n        \"samples\": [\n          \"10:10:59\",\n          \"21:19:19\",\n          \"18:05:35\"\n        ],\n        \"semantic_type\": \"\",\n        \"description\": \"\"\n      }\n    },\n    {\n      \"column\": \"OPEN(T)\",\n      \"properties\": {\n        \"dtype\": \"number\",\n        \"std\": 869,\n        \"min\": 86160,\n        \"max\": 89130,\n        \"num_unique_values\": 298,\n        \"samples\": [\n          87710,\n          88890,\n          88790\n        ],\n        \"semantic_type\": \"\",\n        \"description\": \"\"\n      }\n    },\n    {\n      \"column\": \"HIGH(t)\",\n      \"properties\": {\n        \"dtype\": \"number\",\n        \"std\": 869,\n        \"min\": 86180,\n        \"max\": 89150,\n        \"num_unique_values\": 298,\n        \"samples\": [\n          87760,\n          88910,\n          88800\n        ],\n        \"semantic_type\": \"\",\n        \"description\": \"\"\n      }\n    },\n    {\n      \"column\": \"LOW(t)\",\n      \"properties\": {\n        \"dtype\": \"number\",\n        \"std\": 869,\n        \"min\": 86150,\n        \"max\": 89130,\n        \"num_unique_values\": 299,\n        \"samples\": [\n          89030,\n          88880,\n          87830\n        ],\n        \"semantic_type\": \"\",\n        \"description\": \"\"\n      }\n    },\n    {\n      \"column\": \"CLOSE(t)\",\n      \"properties\": {\n        \"dtype\": \"number\",\n        \"std\": 869,\n        \"min\": 86160,\n        \"max\": 89140,\n        \"num_unique_values\": 299,\n        \"samples\": [\n          89050,\n          88880,\n          87870\n        ],\n        \"semantic_type\": \"\",\n        \"description\": \"\"\n      }\n    }\n  ]\n}"
            }
          },
          "metadata": {},
          "execution_count": 4
        }
      ],
      "source": [
        "df"
      ]
    },
    {
      "cell_type": "markdown",
      "source": [
        "Зададим имя колонки для построения распределения:"
      ],
      "metadata": {
        "id": "VC7M3Dd_yxCD"
      },
      "id": "VC7M3Dd_yxCD"
    },
    {
      "cell_type": "code",
      "execution_count": null,
      "id": "06a0caf3",
      "metadata": {
        "id": "06a0caf3"
      },
      "outputs": [],
      "source": [
        "col_name = 'OPEN(T)'"
      ]
    },
    {
      "cell_type": "markdown",
      "source": [
        "Для начала воспользуемся готовым пакетом, он делает всю работу буквально в пару строчек, но для понимания процесса подготовки данных не подходит:"
      ],
      "metadata": {
        "id": "3nYqMPvby1E3"
      },
      "id": "3nYqMPvby1E3"
    },
    {
      "cell_type": "code",
      "execution_count": null,
      "id": "1154fbbf",
      "metadata": {
        "colab": {
          "base_uri": "https://localhost:8080/",
          "height": 850
        },
        "id": "1154fbbf",
        "outputId": "2af604fa-076f-4d7e-d492-219c57be930f"
      },
      "outputs": [
        {
          "output_type": "display_data",
          "data": {
            "text/plain": [
              "<Figure size 1500x1000 with 1 Axes>"
            ],
            "image/png": "[encoded data removed]"
          },
          "metadata": {}
        }
      ],
      "source": [
        "plt.figure(figsize = (15,10))\n",
        "sb.kdeplot(df[col_name] ,fill = True)\n",
        "plt.show()"
      ]
    },
    {
      "cell_type": "markdown",
      "source": [
        "Теперь подготовим данные самостоятельно. Определим число интервалов для величины, а также определим минимальный и максимальный элемент:"
      ],
      "metadata": {
        "id": "XA2IFQBHzAVf"
      },
      "id": "XA2IFQBHzAVf"
    },
    {
      "cell_type": "code",
      "execution_count": null,
      "id": "93d9a06c",
      "metadata": {
        "id": "93d9a06c"
      },
      "outputs": [],
      "source": [
        "N = 10"
      ]
    },
    {
      "cell_type": "code",
      "execution_count": null,
      "id": "82758162",
      "metadata": {
        "id": "82758162"
      },
      "outputs": [],
      "source": [
        "min_val = df[col_name].min()"
      ]
    },
    {
      "cell_type": "code",
      "execution_count": null,
      "id": "61456eb4",
      "metadata": {
        "id": "61456eb4"
      },
      "outputs": [],
      "source": [
        "max_val = df[col_name].max()"
      ]
    },
    {
      "cell_type": "code",
      "execution_count": null,
      "id": "a2fee8a4",
      "metadata": {
        "colab": {
          "base_uri": "https://localhost:8080/"
        },
        "id": "a2fee8a4",
        "outputId": "f03995f7-0d5d-4d6a-b95a-5ca1ba3fd681"
      },
      "outputs": [
        {
          "output_type": "stream",
          "name": "stdout",
          "text": [
            "86160 89130\n"
          ]
        }
      ],
      "source": [
        "print(min_val, max_val)"
      ]
    },
    {
      "cell_type": "markdown",
      "source": [
        "Ширина каждого интервала:"
      ],
      "metadata": {
        "id": "AGSNZ5xZzJzZ"
      },
      "id": "AGSNZ5xZzJzZ"
    },
    {
      "cell_type": "code",
      "execution_count": null,
      "id": "bcbb542a",
      "metadata": {
        "id": "bcbb542a"
      },
      "outputs": [],
      "source": [
        "width = (max_val - min_val)/N"
      ]
    },
    {
      "cell_type": "markdown",
      "source": [
        "Создадим массив NumPy, в нем будет сначала число элементов из каждого интервала, а затем вероятность попадания:"
      ],
      "metadata": {
        "id": "WB2UT6m4zL77"
      },
      "id": "WB2UT6m4zL77"
    },
    {
      "cell_type": "code",
      "execution_count": null,
      "id": "ed25a300",
      "metadata": {
        "id": "ed25a300"
      },
      "outputs": [],
      "source": [
        "density = np.zeros(N)"
      ]
    },
    {
      "cell_type": "markdown",
      "source": [
        "Перебираем все элементы. Номер интервала легко найти через формулу. Поскольку в каждом интервале правая граница не включена, элемент max_val необходимо руками включить в последний интервал:"
      ],
      "metadata": {
        "id": "7EOAO8V7zSzX"
      },
      "id": "7EOAO8V7zSzX"
    },
    {
      "cell_type": "code",
      "execution_count": null,
      "id": "17c5cea4",
      "metadata": {
        "id": "17c5cea4"
      },
      "outputs": [],
      "source": [
        "for row in df[col_name]:\n",
        "    if row == max_val:\n",
        "      density[N-1] += 1\n",
        "    else:\n",
        "      i = int((row - min_val) / width)\n",
        "      if i < N:\n",
        "          density[i] += 1\n"
      ]
    },
    {
      "cell_type": "markdown",
      "source": [
        "Делим число вхождений в интервал на общее число элементов:"
      ],
      "metadata": {
        "id": "CqGPGk4-zdT5"
      },
      "id": "CqGPGk4-zdT5"
    },
    {
      "cell_type": "code",
      "execution_count": null,
      "id": "b22faab5",
      "metadata": {
        "id": "b22faab5"
      },
      "outputs": [],
      "source": [
        "density = density/len(df[col_name])\n"
      ]
    },
    {
      "cell_type": "markdown",
      "source": [
        "Строим график:"
      ],
      "metadata": {
        "id": "-MmmvIW8z22C"
      },
      "id": "-MmmvIW8z22C"
    },
    {
      "cell_type": "code",
      "execution_count": null,
      "id": "3b3484f0",
      "metadata": {
        "colab": {
          "base_uri": "https://localhost:8080/",
          "height": 559
        },
        "id": "3b3484f0",
        "outputId": "c648ae66-dd9a-49d2-963a-2d7d231770bf"
      },
      "outputs": [
        {
          "output_type": "display_data",
          "data": {
            "text/plain": [
              "<Figure size 1000x500 with 1 Axes>"
            ],
            "image/png": "[encoded data removed]"
          },
          "metadata": {}
        }
      ],
      "source": [
        "plt.figure(figsize=(10, 5))\n",
        "x = [min_val+i*width for i in range(N)]\n",
        "plt.ylabel('Density', size=20) # подпись оси OX (r - raw строки, отключает экранирование символов)\n",
        "plt.plot(x, density) # В качестве координаты X берем сам вектор, а в качестве Y - возводим его во 2 степень\n",
        "plt.grid(True)  # Отобразим сетку\n",
        "plt.xticks(x, [f'{min_val+i*width} - {min_val+(i+1)*width}' for i in range(N)], rotation=90)\n",
        "plt.show() # Рисуем график"
      ]
    },
    {
      "cell_type": "markdown",
      "source": [
        "Исходные данные:"
      ],
      "metadata": {
        "id": "Z8Riq2jhz8CH"
      },
      "id": "Z8Riq2jhz8CH"
    },
    {
      "cell_type": "code",
      "execution_count": null,
      "id": "37aba670",
      "metadata": {
        "colab": {
          "base_uri": "https://localhost:8080/"
        },
        "id": "37aba670",
        "outputId": "c197c51a-1f07-4aa9-ad6c-3f34fd7bd4e8"
      },
      "outputs": [
        {
          "output_type": "execute_result",
          "data": {
            "text/plain": [
              "array([0.08290257, 0.05632655, 0.1199573 , 0.18426228, 0.05396674,\n",
              "       0.05256209, 0.05261827, 0.05239353, 0.27548039, 0.06953028])"
            ]
          },
          "metadata": {},
          "execution_count": 16
        }
      ],
      "source": [
        "density"
      ]
    },
    {
      "cell_type": "markdown",
      "source": [
        "Данные по интервалам. В последний интервал руками включена правая граница:"
      ],
      "metadata": {
        "id": "LruUFgdgz-R5"
      },
      "id": "LruUFgdgz-R5"
    },
    {
      "cell_type": "code",
      "execution_count": null,
      "id": "31749538",
      "metadata": {
        "colab": {
          "base_uri": "https://localhost:8080/"
        },
        "id": "31749538",
        "outputId": "864f210c-ceb6-4644-c4cc-204ae595251d"
      },
      "outputs": [
        {
          "output_type": "stream",
          "name": "stdout",
          "text": [
            "[86160.0 - 86457.0) : 0.08290257332284526\n",
            "[86457.0 - 86754.0) : 0.056326553545342176\n",
            "[86754.0 - 87051.0) : 0.11995729857287335\n",
            "[87051.0 - 87348.0) : 0.1842622766602989\n",
            "[87348.0 - 87645.0) : 0.053966737835711875\n",
            "[87645.0 - 87942.0) : 0.052562085627598606\n",
            "[87942.0 - 88239.0) : 0.052618271715923134\n",
            "[88239.0 - 88536.0) : 0.052393527362625016\n",
            "[88536.0 - 88833.0) : 0.27548039105517474\n",
            "[88833.0 - 89130.0) : 0.06953028430160692\n"
          ]
        }
      ],
      "source": [
        "for i in range(N):\n",
        "    print(f'[{min_val+i*width} - {min_val+(i+1)*width}) : {density[i]}')"
      ]
    },
    {
      "cell_type": "markdown",
      "source": [
        "Проверка, что сумма по всем вероятностям = 1:"
      ],
      "metadata": {
        "id": "W7g4JWix0L1n"
      },
      "id": "W7g4JWix0L1n"
    },
    {
      "cell_type": "code",
      "execution_count": null,
      "id": "1f793b5a",
      "metadata": {
        "colab": {
          "base_uri": "https://localhost:8080/"
        },
        "id": "1f793b5a",
        "outputId": "6f3a0a9c-ed9b-4b4a-cac5-3931f4513092"
      },
      "outputs": [
        {
          "output_type": "execute_result",
          "data": {
            "text/plain": [
              "1.0"
            ]
          },
          "metadata": {},
          "execution_count": 18
        }
      ],
      "source": [
        "sum(density)"
      ]
    }
  ],
  "metadata": {
    "kernelspec": {
      "display_name": "Python 3 (ipykernel)",
      "language": "python",
      "name": "python3"
    },
    "language_info": {
      "codemirror_mode": {
        "name": "ipython",
        "version": 3
      },
      "file_extension": ".py",
      "mimetype": "text/x-python",
      "name": "python",
      "nbconvert_exporter": "python",
      "pygments_lexer": "ipython3",
      "version": "3.10.12"
    },
    "colab": {
      "provenance": [],
      "include_colab_link": true
    }
  },
  "nbformat": 4,
  "nbformat_minor": 5
}