{
  "nbformat": 4,
  "nbformat_minor": 0,
  "metadata": {
    "colab": {
      "provenance": [],
      "include_colab_link": true
    },
    "kernelspec": {
      "name": "python3",
      "display_name": "Python 3"
    }
  },
  "cells": [
    {
      "cell_type": "markdown",
      "metadata": {
        "id": "view-in-github",
        "colab_type": "text"
      },
      "source": [
        "<a href=\"https://colab.research.google.com/github/Rus-Senator/education/blob/master/urfu_dl_regression.ipynb\" target=\"_parent\"><img src=\"https://colab.research.google.com/assets/colab-badge.svg\" alt=\"Open In Colab\"/></a>"
      ]
    },
    {
      "cell_type": "markdown",
      "metadata": {
        "id": "UjfquuN3HkHt"
      },
      "source": [
        "## Решение задачи регрессии с помощью нейронных сетей\n",
        "\n",
        "Определение стоимости недвижимости из набора данных [California Housing Data Set](https://developers.google.com/machine-learning/crash-course/california-housing-data-description).\n",
        "\n",
        "Чтобы запускать и редактировать код, сохраните копию этого ноутбука себе (File->Save a copy in Drive...). Свою копию вы сможете изменять и запускать.\n",
        "\n",
        "Учебный курс \"[Программирование глубоких нейронных сетей на Python](https://openedu.ru/course/urfu/PYDNN/)\"."
      ]
    },
    {
      "cell_type": "code",
      "metadata": {
        "id": "VY9tayQBHh1M"
      },
      "source": [
        "from tensorflow.keras.models import Sequential\n",
        "from tensorflow.keras.layers import Dense\n",
        "import pandas as pd\n",
        "import numpy as np\n",
        "import matplotlib.pyplot as plt\n",
        "%matplotlib inline "
      ],
      "execution_count": null,
      "outputs": []
    },
    {
      "cell_type": "markdown",
      "metadata": {
        "id": "s8hejqycICpn"
      },
      "source": [
        "## Загружаем данные"
      ]
    },
    {
      "cell_type": "markdown",
      "metadata": {
        "id": "s78xf8H8G03s"
      },
      "source": [
        "Просматриваем содержимое каталога с демонстрационными данными Colab"
      ]
    },
    {
      "cell_type": "code",
      "metadata": {
        "id": "aBte_p1uH_NP",
        "outputId": "ad487a8c-8467-43bc-a408-4e9c3fe1c89b",
        "colab": {
          "base_uri": "https://localhost:8080/"
        }
      },
      "source": [
        "!ls sample_data"
      ],
      "execution_count": null,
      "outputs": [
        {
          "output_type": "stream",
          "name": "stdout",
          "text": [
            "anscombe.json\t\t      mnist_test.csv\n",
            "california_housing_test.csv   mnist_train_small.csv\n",
            "california_housing_train.csv  README.md\n"
          ]
        }
      ]
    },
    {
      "cell_type": "markdown",
      "metadata": {
        "id": "kxgTetxpG61J"
      },
      "source": [
        "Загружаем данные для обучения"
      ]
    },
    {
      "cell_type": "code",
      "metadata": {
        "id": "TmRR3ohLG_vG"
      },
      "source": [
        "train = pd.read_csv('sample_data/california_housing_train.csv')"
      ],
      "execution_count": null,
      "outputs": []
    },
    {
      "cell_type": "markdown",
      "metadata": {
        "id": "MaV73VcTIVtf"
      },
      "source": [
        "Загружаем данные для тестирования"
      ]
    },
    {
      "cell_type": "code",
      "metadata": {
        "id": "PaTmvnDKIZKz"
      },
      "source": [
        "test = pd.read_csv('sample_data/california_housing_test.csv')"
      ],
      "execution_count": null,
      "outputs": []
    },
    {
      "cell_type": "markdown",
      "metadata": {
        "id": "q6PgURr6Idor"
      },
      "source": [
        "## Исследуем данные"
      ]
    },
    {
      "cell_type": "markdown",
      "metadata": {
        "id": "TnOrmvP3I1ie"
      },
      "source": [
        "Просматриваем данные для обучения"
      ]
    },
    {
      "cell_type": "code",
      "metadata": {
        "id": "PFsrU1kKHcqy",
        "outputId": "7a95c961-772c-44f6-9854-43980a5d6f7b",
        "colab": {
          "base_uri": "https://localhost:8080/",
          "height": 206
        }
      },
      "source": [
        "train[:5]"
      ],
      "execution_count": null,
      "outputs": [
        {
          "output_type": "execute_result",
          "data": {
            "text/plain": [
              "   longitude  latitude  housing_median_age  total_rooms  total_bedrooms  \\\n",
              "0    -114.31     34.19                15.0       5612.0          1283.0   \n",
              "1    -114.47     34.40                19.0       7650.0          1901.0   \n",
              "2    -114.56     33.69                17.0        720.0           174.0   \n",
              "3    -114.57     33.64                14.0       1501.0           337.0   \n",
              "4    -114.57     33.57                20.0       1454.0           326.0   \n",
              "\n",
              "   population  households  median_income  median_house_value  \n",
              "0      1015.0       472.0         1.4936             66900.0  \n",
              "1      1129.0       463.0         1.8200             80100.0  \n",
              "2       333.0       117.0         1.6509             85700.0  \n",
              "3       515.0       226.0         3.1917             73400.0  \n",
              "4       624.0       262.0         1.9250             65500.0  "
            ],
            "text/html": [
              "\n",
              "  <div id=\"df-1dd8831b-102a-434b-9b1e-9144f0a61a47\">\n",
              "    <div class=\"colab-df-container\">\n",
              "      <div>\n",
              "<style scoped>\n",
              "    .dataframe tbody tr th:only-of-type {\n",
              "        vertical-align: middle;\n",
              "    }\n",
              "\n",
              "    .dataframe tbody tr th {\n",
              "        vertical-align: top;\n",
              "    }\n",
              "\n",
              "    .dataframe thead th {\n",
              "        text-align: right;\n",
              "    }\n",
              "</style>\n",
              "<table border=\"1\" class=\"dataframe\">\n",
              "  <thead>\n",
              "    <tr style=\"text-align: right;\">\n",
              "      <th></th>\n",
              "      <th>longitude</th>\n",
              "      <th>latitude</th>\n",
              "      <th>housing_median_age</th>\n",
              "      <th>total_rooms</th>\n",
              "      <th>total_bedrooms</th>\n",
              "      <th>population</th>\n",
              "      <th>households</th>\n",
              "      <th>median_income</th>\n",
              "      <th>median_house_value</th>\n",
              "    </tr>\n",
              "  </thead>\n",
              "  <tbody>\n",
              "    <tr>\n",
              "      <th>0</th>\n",
              "      <td>-114.31</td>\n",
              "      <td>34.19</td>\n",
              "      <td>15.0</td>\n",
              "      <td>5612.0</td>\n",
              "      <td>1283.0</td>\n",
              "      <td>1015.0</td>\n",
              "      <td>472.0</td>\n",
              "      <td>1.4936</td>\n",
              "      <td>66900.0</td>\n",
              "    </tr>\n",
              "    <tr>\n",
              "      <th>1</th>\n",
              "      <td>-114.47</td>\n",
              "      <td>34.40</td>\n",
              "      <td>19.0</td>\n",
              "      <td>7650.0</td>\n",
              "      <td>1901.0</td>\n",
              "      <td>1129.0</td>\n",
              "      <td>463.0</td>\n",
              "      <td>1.8200</td>\n",
              "      <td>80100.0</td>\n",
              "    </tr>\n",
              "    <tr>\n",
              "      <th>2</th>\n",
              "      <td>-114.56</td>\n",
              "      <td>33.69</td>\n",
              "      <td>17.0</td>\n",
              "      <td>720.0</td>\n",
              "      <td>174.0</td>\n",
              "      <td>333.0</td>\n",
              "      <td>117.0</td>\n",
              "      <td>1.6509</td>\n",
              "      <td>85700.0</td>\n",
              "    </tr>\n",
              "    <tr>\n",
              "      <th>3</th>\n",
              "      <td>-114.57</td>\n",
              "      <td>33.64</td>\n",
              "      <td>14.0</td>\n",
              "      <td>1501.0</td>\n",
              "      <td>337.0</td>\n",
              "      <td>515.0</td>\n",
              "      <td>226.0</td>\n",
              "      <td>3.1917</td>\n",
              "      <td>73400.0</td>\n",
              "    </tr>\n",
              "    <tr>\n",
              "      <th>4</th>\n",
              "      <td>-114.57</td>\n",
              "      <td>33.57</td>\n",
              "      <td>20.0</td>\n",
              "      <td>1454.0</td>\n",
              "      <td>326.0</td>\n",
              "      <td>624.0</td>\n",
              "      <td>262.0</td>\n",
              "      <td>1.9250</td>\n",
              "      <td>65500.0</td>\n",
              "    </tr>\n",
              "  </tbody>\n",
              "</table>\n",
              "</div>\n",
              "      <button class=\"colab-df-convert\" onclick=\"convertToInteractive('df-1dd8831b-102a-434b-9b1e-9144f0a61a47')\"\n",
              "              title=\"Convert this dataframe to an interactive table.\"\n",
              "              style=\"display:none;\">\n",
              "        \n",
              "  <svg xmlns=\"http://www.w3.org/2000/svg\" height=\"24px\"viewBox=\"0 0 24 24\"\n",
              "       width=\"24px\">\n",
              "    <path d=\"M0 0h24v24H0V0z\" fill=\"none\"/>\n",
              "    <path d=\"M18.56 5.44l.94 2.06.94-2.06 2.06-.94-2.06-.94-.94-2.06-.94 2.06-2.06.94zm-11 1L8.5 8.5l.94-2.06 2.06-.94-2.06-.94L8.5 2.5l-.94 2.06-2.06.94zm10 10l.94 2.06.94-2.06 2.06-.94-2.06-.94-.94-2.06-.94 2.06-2.06.94z\"/><path d=\"M17.41 7.96l-1.37-1.37c-.4-.4-.92-.59-1.43-.59-.52 0-1.04.2-1.43.59L10.3 9.45l-7.72 7.72c-.78.78-.78 2.05 0 2.83L4 21.41c.39.39.9.59 1.41.59.51 0 1.02-.2 1.41-.59l7.78-7.78 2.81-2.81c.8-.78.8-2.07 0-2.86zM5.41 20L4 18.59l7.72-7.72 1.47 1.35L5.41 20z\"/>\n",
              "  </svg>\n",
              "      </button>\n",
              "      \n",
              "  <style>\n",
              "    .colab-df-container {\n",
              "      display:flex;\n",
              "      flex-wrap:wrap;\n",
              "      gap: 12px;\n",
              "    }\n",
              "\n",
              "    .colab-df-convert {\n",
              "      background-color: #E8F0FE;\n",
              "      border: none;\n",
              "      border-radius: 50%;\n",
              "      cursor: pointer;\n",
              "      display: none;\n",
              "      fill: #1967D2;\n",
              "      height: 32px;\n",
              "      padding: 0 0 0 0;\n",
              "      width: 32px;\n",
              "    }\n",
              "\n",
              "    .colab-df-convert:hover {\n",
              "      background-color: #E2EBFA;\n",
              "      box-shadow: 0px 1px 2px rgba(60, 64, 67, 0.3), 0px 1px 3px 1px rgba(60, 64, 67, 0.15);\n",
              "      fill: #174EA6;\n",
              "    }\n",
              "\n",
              "    [theme=dark] .colab-df-convert {\n",
              "      background-color: #3B4455;\n",
              "      fill: #D2E3FC;\n",
              "    }\n",
              "\n",
              "    [theme=dark] .colab-df-convert:hover {\n",
              "      background-color: #434B5C;\n",
              "      box-shadow: 0px 1px 3px 1px rgba(0, 0, 0, 0.15);\n",
              "      filter: drop-shadow(0px 1px 2px rgba(0, 0, 0, 0.3));\n",
              "      fill: #FFFFFF;\n",
              "    }\n",
              "  </style>\n",
              "\n",
              "      <script>\n",
              "        const buttonEl =\n",
              "          document.querySelector('#df-1dd8831b-102a-434b-9b1e-9144f0a61a47 button.colab-df-convert');\n",
              "        buttonEl.style.display =\n",
              "          google.colab.kernel.accessAllowed ? 'block' : 'none';\n",
              "\n",
              "        async function convertToInteractive(key) {\n",
              "          const element = document.querySelector('#df-1dd8831b-102a-434b-9b1e-9144f0a61a47');\n",
              "          const dataTable =\n",
              "            await google.colab.kernel.invokeFunction('convertToInteractive',\n",
              "                                                     [key], {});\n",
              "          if (!dataTable) return;\n",
              "\n",
              "          const docLinkHtml = 'Like what you see? Visit the ' +\n",
              "            '<a target=\"_blank\" href=https://colab.research.google.com/notebooks/data_table.ipynb>data table notebook</a>'\n",
              "            + ' to learn more about interactive tables.';\n",
              "          element.innerHTML = '';\n",
              "          dataTable['output_type'] = 'display_data';\n",
              "          await google.colab.output.renderOutput(dataTable, element);\n",
              "          const docLink = document.createElement('div');\n",
              "          docLink.innerHTML = docLinkHtml;\n",
              "          element.appendChild(docLink);\n",
              "        }\n",
              "      </script>\n",
              "    </div>\n",
              "  </div>\n",
              "  "
            ]
          },
          "metadata": {},
          "execution_count": 5
        }
      ]
    },
    {
      "cell_type": "markdown",
      "metadata": {
        "id": "QJht_Q1ZIq3X"
      },
      "source": [
        "**Описание данных**\n",
        "\n",
        "California Housing содержит данные о средней стоимость домов в Калифорнии для квартала. Файл с данными содержит следующие столбцы:\n",
        "\n",
        "*   **longitude** - долгота квартала с недвижимостью.\n",
        "*   **latitude** - широта квартала с недвижимостью.\n",
        "*   **housing_median_age** - медиана возраста домов в квартале.\n",
        "*   **total_rooms** - общее колиичество комнат в квартале.\n",
        "*   **total_bedrooms** - общее количество спален в квартале.\n",
        "*   **population** - население квартала.\n",
        "*   **households** - количество \"домохозяйств\" в квартале (групп людей живущих вместе в одном доме. Как правило это семьи).\n",
        "*   **median_income** - медианный доход в квартале.\n",
        "*   **median_house_value** - медианная стоимость дома в квартале.\n",
        "\n"
      ]
    },
    {
      "cell_type": "markdown",
      "metadata": {
        "id": "fbuFe5HhAxgX"
      },
      "source": [
        "Просматриваем данные для тестирования"
      ]
    },
    {
      "cell_type": "code",
      "metadata": {
        "id": "_595qh0iAz5d",
        "outputId": "fcf3343a-f26a-47c7-f2f9-c4d00319ea01",
        "colab": {
          "base_uri": "https://localhost:8080/",
          "height": 206
        }
      },
      "source": [
        "test[:5]"
      ],
      "execution_count": null,
      "outputs": [
        {
          "output_type": "execute_result",
          "data": {
            "text/plain": [
              "   longitude  latitude  housing_median_age  total_rooms  total_bedrooms  \\\n",
              "0    -122.05     37.37                27.0       3885.0           661.0   \n",
              "1    -118.30     34.26                43.0       1510.0           310.0   \n",
              "2    -117.81     33.78                27.0       3589.0           507.0   \n",
              "3    -118.36     33.82                28.0         67.0            15.0   \n",
              "4    -119.67     36.33                19.0       1241.0           244.0   \n",
              "\n",
              "   population  households  median_income  median_house_value  \n",
              "0      1537.0       606.0         6.6085            344700.0  \n",
              "1       809.0       277.0         3.5990            176500.0  \n",
              "2      1484.0       495.0         5.7934            270500.0  \n",
              "3        49.0        11.0         6.1359            330000.0  \n",
              "4       850.0       237.0         2.9375             81700.0  "
            ],
            "text/html": [
              "\n",
              "  <div id=\"df-38d677a6-5563-4dd1-a0cb-bf1dd0c9f45c\">\n",
              "    <div class=\"colab-df-container\">\n",
              "      <div>\n",
              "<style scoped>\n",
              "    .dataframe tbody tr th:only-of-type {\n",
              "        vertical-align: middle;\n",
              "    }\n",
              "\n",
              "    .dataframe tbody tr th {\n",
              "        vertical-align: top;\n",
              "    }\n",
              "\n",
              "    .dataframe thead th {\n",
              "        text-align: right;\n",
              "    }\n",
              "</style>\n",
              "<table border=\"1\" class=\"dataframe\">\n",
              "  <thead>\n",
              "    <tr style=\"text-align: right;\">\n",
              "      <th></th>\n",
              "      <th>longitude</th>\n",
              "      <th>latitude</th>\n",
              "      <th>housing_median_age</th>\n",
              "      <th>total_rooms</th>\n",
              "      <th>total_bedrooms</th>\n",
              "      <th>population</th>\n",
              "      <th>households</th>\n",
              "      <th>median_income</th>\n",
              "      <th>median_house_value</th>\n",
              "    </tr>\n",
              "  </thead>\n",
              "  <tbody>\n",
              "    <tr>\n",
              "      <th>0</th>\n",
              "      <td>-122.05</td>\n",
              "      <td>37.37</td>\n",
              "      <td>27.0</td>\n",
              "      <td>3885.0</td>\n",
              "      <td>661.0</td>\n",
              "      <td>1537.0</td>\n",
              "      <td>606.0</td>\n",
              "      <td>6.6085</td>\n",
              "      <td>344700.0</td>\n",
              "    </tr>\n",
              "    <tr>\n",
              "      <th>1</th>\n",
              "      <td>-118.30</td>\n",
              "      <td>34.26</td>\n",
              "      <td>43.0</td>\n",
              "      <td>1510.0</td>\n",
              "      <td>310.0</td>\n",
              "      <td>809.0</td>\n",
              "      <td>277.0</td>\n",
              "      <td>3.5990</td>\n",
              "      <td>176500.0</td>\n",
              "    </tr>\n",
              "    <tr>\n",
              "      <th>2</th>\n",
              "      <td>-117.81</td>\n",
              "      <td>33.78</td>\n",
              "      <td>27.0</td>\n",
              "      <td>3589.0</td>\n",
              "      <td>507.0</td>\n",
              "      <td>1484.0</td>\n",
              "      <td>495.0</td>\n",
              "      <td>5.7934</td>\n",
              "      <td>270500.0</td>\n",
              "    </tr>\n",
              "    <tr>\n",
              "      <th>3</th>\n",
              "      <td>-118.36</td>\n",
              "      <td>33.82</td>\n",
              "      <td>28.0</td>\n",
              "      <td>67.0</td>\n",
              "      <td>15.0</td>\n",
              "      <td>49.0</td>\n",
              "      <td>11.0</td>\n",
              "      <td>6.1359</td>\n",
              "      <td>330000.0</td>\n",
              "    </tr>\n",
              "    <tr>\n",
              "      <th>4</th>\n",
              "      <td>-119.67</td>\n",
              "      <td>36.33</td>\n",
              "      <td>19.0</td>\n",
              "      <td>1241.0</td>\n",
              "      <td>244.0</td>\n",
              "      <td>850.0</td>\n",
              "      <td>237.0</td>\n",
              "      <td>2.9375</td>\n",
              "      <td>81700.0</td>\n",
              "    </tr>\n",
              "  </tbody>\n",
              "</table>\n",
              "</div>\n",
              "      <button class=\"colab-df-convert\" onclick=\"convertToInteractive('df-38d677a6-5563-4dd1-a0cb-bf1dd0c9f45c')\"\n",
              "              title=\"Convert this dataframe to an interactive table.\"\n",
              "              style=\"display:none;\">\n",
              "        \n",
              "  <svg xmlns=\"http://www.w3.org/2000/svg\" height=\"24px\"viewBox=\"0 0 24 24\"\n",
              "       width=\"24px\">\n",
              "    <path d=\"M0 0h24v24H0V0z\" fill=\"none\"/>\n",
              "    <path d=\"M18.56 5.44l.94 2.06.94-2.06 2.06-.94-2.06-.94-.94-2.06-.94 2.06-2.06.94zm-11 1L8.5 8.5l.94-2.06 2.06-.94-2.06-.94L8.5 2.5l-.94 2.06-2.06.94zm10 10l.94 2.06.94-2.06 2.06-.94-2.06-.94-.94-2.06-.94 2.06-2.06.94z\"/><path d=\"M17.41 7.96l-1.37-1.37c-.4-.4-.92-.59-1.43-.59-.52 0-1.04.2-1.43.59L10.3 9.45l-7.72 7.72c-.78.78-.78 2.05 0 2.83L4 21.41c.39.39.9.59 1.41.59.51 0 1.02-.2 1.41-.59l7.78-7.78 2.81-2.81c.8-.78.8-2.07 0-2.86zM5.41 20L4 18.59l7.72-7.72 1.47 1.35L5.41 20z\"/>\n",
              "  </svg>\n",
              "      </button>\n",
              "      \n",
              "  <style>\n",
              "    .colab-df-container {\n",
              "      display:flex;\n",
              "      flex-wrap:wrap;\n",
              "      gap: 12px;\n",
              "    }\n",
              "\n",
              "    .colab-df-convert {\n",
              "      background-color: #E8F0FE;\n",
              "      border: none;\n",
              "      border-radius: 50%;\n",
              "      cursor: pointer;\n",
              "      display: none;\n",
              "      fill: #1967D2;\n",
              "      height: 32px;\n",
              "      padding: 0 0 0 0;\n",
              "      width: 32px;\n",
              "    }\n",
              "\n",
              "    .colab-df-convert:hover {\n",
              "      background-color: #E2EBFA;\n",
              "      box-shadow: 0px 1px 2px rgba(60, 64, 67, 0.3), 0px 1px 3px 1px rgba(60, 64, 67, 0.15);\n",
              "      fill: #174EA6;\n",
              "    }\n",
              "\n",
              "    [theme=dark] .colab-df-convert {\n",
              "      background-color: #3B4455;\n",
              "      fill: #D2E3FC;\n",
              "    }\n",
              "\n",
              "    [theme=dark] .colab-df-convert:hover {\n",
              "      background-color: #434B5C;\n",
              "      box-shadow: 0px 1px 3px 1px rgba(0, 0, 0, 0.15);\n",
              "      filter: drop-shadow(0px 1px 2px rgba(0, 0, 0, 0.3));\n",
              "      fill: #FFFFFF;\n",
              "    }\n",
              "  </style>\n",
              "\n",
              "      <script>\n",
              "        const buttonEl =\n",
              "          document.querySelector('#df-38d677a6-5563-4dd1-a0cb-bf1dd0c9f45c button.colab-df-convert');\n",
              "        buttonEl.style.display =\n",
              "          google.colab.kernel.accessAllowed ? 'block' : 'none';\n",
              "\n",
              "        async function convertToInteractive(key) {\n",
              "          const element = document.querySelector('#df-38d677a6-5563-4dd1-a0cb-bf1dd0c9f45c');\n",
              "          const dataTable =\n",
              "            await google.colab.kernel.invokeFunction('convertToInteractive',\n",
              "                                                     [key], {});\n",
              "          if (!dataTable) return;\n",
              "\n",
              "          const docLinkHtml = 'Like what you see? Visit the ' +\n",
              "            '<a target=\"_blank\" href=https://colab.research.google.com/notebooks/data_table.ipynb>data table notebook</a>'\n",
              "            + ' to learn more about interactive tables.';\n",
              "          element.innerHTML = '';\n",
              "          dataTable['output_type'] = 'display_data';\n",
              "          await google.colab.output.renderOutput(dataTable, element);\n",
              "          const docLink = document.createElement('div');\n",
              "          docLink.innerHTML = docLinkHtml;\n",
              "          element.appendChild(docLink);\n",
              "        }\n",
              "      </script>\n",
              "    </div>\n",
              "  </div>\n",
              "  "
            ]
          },
          "metadata": {},
          "execution_count": 6
        }
      ]
    },
    {
      "cell_type": "markdown",
      "metadata": {
        "id": "cALbOq0GA9h8"
      },
      "source": [
        "## Постановка задачи регрессии\n",
        "\n",
        "Необходимо определить медианную стоимость дома в квартале, зная все остальные признаки.\n",
        "\n",
        "**Целевая переменная**: `median_house_value`\n",
        "\n",
        "**Признаки**: `longitude, latitude, housing_median_age, total_rooms, total_bedrooms, population, households,\tmedian_income`\n",
        "\n",
        "Признаки подаются на вход нейронной сети, на выходе сеть должна выдать значение целевой переменной - `median_house_value`"
      ]
    },
    {
      "cell_type": "code",
      "metadata": {
        "id": "8E3aBKGqCU04"
      },
      "source": [
        "features = ['longitude', 'latitude', 'housing_median_age', 'total_rooms', 'total_bedrooms', 'population', 'households', 'median_income']\n",
        "target = 'median_house_value'"
      ],
      "execution_count": null,
      "outputs": []
    },
    {
      "cell_type": "markdown",
      "metadata": {
        "id": "gIpp-lNbBwUt"
      },
      "source": [
        "## Подготовка данных для обучения\n",
        "\n",
        "Делим набор данных на признаки и правильные ответы"
      ]
    },
    {
      "cell_type": "code",
      "metadata": {
        "id": "YCf9T98dB0FS"
      },
      "source": [
        "# Выделяем данные для обучения и преобразуем их в массивы numpy\n",
        "x_train = train[features].values\n",
        "x_test = test[features].values"
      ],
      "execution_count": null,
      "outputs": []
    },
    {
      "cell_type": "code",
      "metadata": {
        "id": "Xpxta56qCq_7",
        "outputId": "a9ac6534-c877-4635-b4aa-76c92de45492",
        "colab": {
          "base_uri": "https://localhost:8080/"
        }
      },
      "source": [
        "x_train[:5]"
      ],
      "execution_count": null,
      "outputs": [
        {
          "output_type": "execute_result",
          "data": {
            "text/plain": [
              "array([[-1.1431e+02,  3.4190e+01,  1.5000e+01,  5.6120e+03,  1.2830e+03,\n",
              "         1.0150e+03,  4.7200e+02,  1.4936e+00],\n",
              "       [-1.1447e+02,  3.4400e+01,  1.9000e+01,  7.6500e+03,  1.9010e+03,\n",
              "         1.1290e+03,  4.6300e+02,  1.8200e+00],\n",
              "       [-1.1456e+02,  3.3690e+01,  1.7000e+01,  7.2000e+02,  1.7400e+02,\n",
              "         3.3300e+02,  1.1700e+02,  1.6509e+00],\n",
              "       [-1.1457e+02,  3.3640e+01,  1.4000e+01,  1.5010e+03,  3.3700e+02,\n",
              "         5.1500e+02,  2.2600e+02,  3.1917e+00],\n",
              "       [-1.1457e+02,  3.3570e+01,  2.0000e+01,  1.4540e+03,  3.2600e+02,\n",
              "         6.2400e+02,  2.6200e+02,  1.9250e+00]])"
            ]
          },
          "metadata": {},
          "execution_count": 9
        }
      ]
    },
    {
      "cell_type": "code",
      "metadata": {
        "id": "5quZ8B_-CO6M"
      },
      "source": [
        "# Выделяем правильные ответы и преобразуем их в массивы numpy\n",
        "y_train = train[target].values\n",
        "y_test = test[target].values"
      ],
      "execution_count": null,
      "outputs": []
    },
    {
      "cell_type": "code",
      "metadata": {
        "id": "dKdOKsj0C0AY",
        "outputId": "cf9364ea-001a-4959-e88c-305a5787f0c1",
        "colab": {
          "base_uri": "https://localhost:8080/"
        }
      },
      "source": [
        "y_train[0:5]"
      ],
      "execution_count": null,
      "outputs": [
        {
          "output_type": "execute_result",
          "data": {
            "text/plain": [
              "array([66900., 80100., 85700., 73400., 65500.])"
            ]
          },
          "metadata": {},
          "execution_count": 11
        }
      ]
    },
    {
      "cell_type": "markdown",
      "metadata": {
        "id": "H2-y8KVEIhHN"
      },
      "source": [
        "**Стандартизация данных**\n",
        "\n",
        "Вычитаем среднее значение и делим на стандартное отклонение"
      ]
    },
    {
      "cell_type": "code",
      "metadata": {
        "id": "YiOT7gOXIp9d"
      },
      "source": [
        "# Среднее значение\n",
        "mean = x_train.mean(axis=0)\n",
        "# Стандартное отклонение\n",
        "std = x_train.std(axis=0)\n",
        "x_train -= mean\n",
        "x_train /= std\n",
        "x_test -= mean\n",
        "x_test /= std"
      ],
      "execution_count": null,
      "outputs": []
    },
    {
      "cell_type": "markdown",
      "metadata": {
        "id": "RmlSp15AK_JG"
      },
      "source": [
        "## Создаем нейронную сеть\n",
        "\n",
        "Выходной слой с одним линейным нейроном - для задачи регрессии функция активации - RELU."
      ]
    },
    {
      "cell_type": "code",
      "metadata": {
        "id": "YnCnMQ91LCKV"
      },
      "source": [
        "model = Sequential()\n",
        "model.add(Dense(64, activation='relu', input_shape=(x_train.shape[1],)))\n",
        "model.add(Dense(32, activation='relu'))\n",
        "model.add(Dense(1, activation='relu'))"
      ],
      "execution_count": null,
      "outputs": []
    },
    {
      "cell_type": "code",
      "metadata": {
        "id": "kFAVtJ1Z5jhy",
        "outputId": "86b7358e-f1f7-41fa-84d3-a95d4b618b98",
        "colab": {
          "base_uri": "https://localhost:8080/"
        }
      },
      "source": [
        "print(model.summary())"
      ],
      "execution_count": null,
      "outputs": [
        {
          "output_type": "stream",
          "name": "stdout",
          "text": [
            "Model: \"sequential\"\n",
            "_________________________________________________________________\n",
            " Layer (type)                Output Shape              Param #   \n",
            "=================================================================\n",
            " dense (Dense)               (None, 64)                576       \n",
            "                                                                 \n",
            " dense_1 (Dense)             (None, 32)                2080      \n",
            "                                                                 \n",
            " dense_2 (Dense)             (None, 1)                 33        \n",
            "                                                                 \n",
            "=================================================================\n",
            "Total params: 2,689\n",
            "Trainable params: 2,689\n",
            "Non-trainable params: 0\n",
            "_________________________________________________________________\n",
            "None\n"
          ]
        }
      ]
    },
    {
      "cell_type": "markdown",
      "metadata": {
        "id": "F3g-CAK5LPx1"
      },
      "source": [
        "**Компилируем сеть**\n",
        "\n",
        "Функция ошибки - среднеквадратичное отклонение. Метрика - среднее абсолютное отклонение."
      ]
    },
    {
      "cell_type": "code",
      "metadata": {
        "id": "WOdqoaTkLNCe"
      },
      "source": [
        "model.compile(optimizer='adam', loss='mse', metrics=['mae'])"
      ],
      "execution_count": null,
      "outputs": []
    },
    {
      "cell_type": "markdown",
      "metadata": {
        "id": "cuE2Ekt1LeUW"
      },
      "source": [
        "## Обучаем нейронную сеть\n",
        "\n"
      ]
    },
    {
      "cell_type": "code",
      "metadata": {
        "id": "1EcFPWZcLmRl",
        "outputId": "c5ca9688-9f22-4f02-dba3-e33de5348163",
        "colab": {
          "base_uri": "https://localhost:8080/",
          "height": 1000
        }
      },
      "source": [
        "history = model.fit(x_train, \n",
        "                    y_train, \n",
        "                    epochs=500, \n",
        "                    validation_split=0.1, \n",
        "                    verbose=2)"
      ],
      "execution_count": null,
      "outputs": [
        {
          "output_type": "stream",
          "name": "stdout",
          "text": [
            "Epoch 1/500\n",
            "479/479 - 2s - loss: 54116782080.0000 - mae: 203107.5781 - val_loss: 75173388288.0000 - val_mae: 240616.3750 - 2s/epoch - 4ms/step\n",
            "Epoch 2/500\n",
            "479/479 - 1s - loss: 51685367808.0000 - mae: 197637.3906 - val_loss: 72709906432.0000 - val_mae: 236121.9375 - 928ms/epoch - 2ms/step\n",
            "Epoch 3/500\n",
            "479/479 - 1s - loss: 44528041984.0000 - mae: 180300.8438 - val_loss: 67831062528.0000 - val_mae: 227045.1250 - 895ms/epoch - 2ms/step\n",
            "Epoch 4/500\n",
            "479/479 - 1s - loss: 34063659008.0000 - mae: 152006.7656 - val_loss: 61343936512.0000 - val_mae: 214255.4688 - 1s/epoch - 3ms/step\n",
            "Epoch 5/500\n",
            "479/479 - 1s - loss: 24339933184.0000 - mae: 122126.0078 - val_loss: 53805359104.0000 - val_mae: 198033.2031 - 1s/epoch - 3ms/step\n",
            "Epoch 6/500\n",
            "479/479 - 1s - loss: 17806927872.0000 - mae: 100102.8984 - val_loss: 45586718720.0000 - val_mae: 178456.9844 - 911ms/epoch - 2ms/step\n",
            "Epoch 7/500\n",
            "479/479 - 1s - loss: 14356652032.0000 - mae: 89053.0547 - val_loss: 38050971648.0000 - val_mae: 158356.9844 - 899ms/epoch - 2ms/step\n",
            "Epoch 8/500\n",
            "479/479 - 1s - loss: 12508122112.0000 - mae: 83462.6484 - val_loss: 32134592512.0000 - val_mae: 141702.9688 - 829ms/epoch - 2ms/step\n",
            "Epoch 9/500\n",
            "479/479 - 1s - loss: 11297136640.0000 - mae: 79271.3750 - val_loss: 27726233600.0000 - val_mae: 128830.1484 - 930ms/epoch - 2ms/step\n",
            "Epoch 10/500\n",
            "479/479 - 1s - loss: 10336841728.0000 - mae: 75341.2969 - val_loss: 24136802304.0000 - val_mae: 118403.2969 - 836ms/epoch - 2ms/step\n",
            "Epoch 11/500\n",
            "479/479 - 1s - loss: 9529654272.0000 - mae: 71754.4062 - val_loss: 21352253440.0000 - val_mae: 110465.4609 - 818ms/epoch - 2ms/step\n",
            "Epoch 12/500\n",
            "479/479 - 1s - loss: 8822573056.0000 - mae: 68463.0156 - val_loss: 18993137664.0000 - val_mae: 103840.3047 - 856ms/epoch - 2ms/step\n",
            "Epoch 13/500\n",
            "479/479 - 1s - loss: 8188493824.0000 - mae: 65511.8555 - val_loss: 17055518720.0000 - val_mae: 98345.8828 - 947ms/epoch - 2ms/step\n",
            "Epoch 14/500\n",
            "479/479 - 1s - loss: 7622004224.0000 - mae: 62906.2656 - val_loss: 15377200128.0000 - val_mae: 93358.1641 - 839ms/epoch - 2ms/step\n",
            "Epoch 15/500\n",
            "479/479 - 1s - loss: 7111228928.0000 - mae: 60623.4023 - val_loss: 13994031104.0000 - val_mae: 89026.2578 - 834ms/epoch - 2ms/step\n",
            "Epoch 16/500\n",
            "479/479 - 1s - loss: 6655865344.0000 - mae: 58552.0781 - val_loss: 12761115648.0000 - val_mae: 84930.2344 - 871ms/epoch - 2ms/step\n",
            "Epoch 17/500\n",
            "479/479 - 1s - loss: 6257914368.0000 - mae: 56752.3398 - val_loss: 11657654272.0000 - val_mae: 81067.8984 - 1s/epoch - 2ms/step\n",
            "Epoch 18/500\n",
            "479/479 - 1s - loss: 5908504064.0000 - mae: 55296.8359 - val_loss: 10773293056.0000 - val_mae: 77809.6094 - 1s/epoch - 3ms/step\n",
            "Epoch 19/500\n",
            "479/479 - 1s - loss: 5609073664.0000 - mae: 54048.5820 - val_loss: 10087517184.0000 - val_mae: 75210.2422 - 996ms/epoch - 2ms/step\n",
            "Epoch 20/500\n",
            "479/479 - 1s - loss: 5361095168.0000 - mae: 52926.2188 - val_loss: 9431090176.0000 - val_mae: 72578.7109 - 911ms/epoch - 2ms/step\n",
            "Epoch 21/500\n",
            "479/479 - 1s - loss: 5166644224.0000 - mae: 52056.6367 - val_loss: 8907856896.0000 - val_mae: 70436.7344 - 900ms/epoch - 2ms/step\n",
            "Epoch 22/500\n",
            "479/479 - 1s - loss: 5015764992.0000 - mae: 51419.4727 - val_loss: 8556219904.0000 - val_mae: 68903.8203 - 895ms/epoch - 2ms/step\n",
            "Epoch 23/500\n",
            "479/479 - 1s - loss: 4903749120.0000 - mae: 50858.1406 - val_loss: 8312212992.0000 - val_mae: 67815.1641 - 853ms/epoch - 2ms/step\n",
            "Epoch 24/500\n",
            "479/479 - 1s - loss: 4816656896.0000 - mae: 50398.8594 - val_loss: 8076137472.0000 - val_mae: 66774.2188 - 809ms/epoch - 2ms/step\n",
            "Epoch 25/500\n",
            "479/479 - 1s - loss: 4747454976.0000 - mae: 50045.3555 - val_loss: 7892767744.0000 - val_mae: 65947.0000 - 956ms/epoch - 2ms/step\n",
            "Epoch 26/500\n",
            "479/479 - 1s - loss: 4689128960.0000 - mae: 49734.0820 - val_loss: 7806767616.0000 - val_mae: 65503.5430 - 827ms/epoch - 2ms/step\n",
            "Epoch 27/500\n",
            "479/479 - 1s - loss: 4642366464.0000 - mae: 49361.8828 - val_loss: 7621067776.0000 - val_mae: 64734.4375 - 855ms/epoch - 2ms/step\n",
            "Epoch 28/500\n",
            "479/479 - 1s - loss: 4599987200.0000 - mae: 49146.1406 - val_loss: 7562094592.0000 - val_mae: 64415.1211 - 911ms/epoch - 2ms/step\n",
            "Epoch 29/500\n",
            "479/479 - 1s - loss: 4563090944.0000 - mae: 48833.9531 - val_loss: 7328311296.0000 - val_mae: 63521.7891 - 841ms/epoch - 2ms/step\n",
            "Epoch 30/500\n",
            "479/479 - 1s - loss: 4532573696.0000 - mae: 48723.9336 - val_loss: 7315178496.0000 - val_mae: 63430.4922 - 1s/epoch - 2ms/step\n",
            "Epoch 31/500\n",
            "479/479 - 1s - loss: 4505308160.0000 - mae: 48462.0391 - val_loss: 7217354752.0000 - val_mae: 62959.9375 - 1s/epoch - 3ms/step\n",
            "Epoch 32/500\n",
            "479/479 - 1s - loss: 4480442368.0000 - mae: 48317.4023 - val_loss: 7222988800.0000 - val_mae: 62916.3828 - 1s/epoch - 2ms/step\n",
            "Epoch 33/500\n",
            "479/479 - 1s - loss: 4458803200.0000 - mae: 48162.3594 - val_loss: 7117733376.0000 - val_mae: 62538.3047 - 865ms/epoch - 2ms/step\n",
            "Epoch 34/500\n",
            "479/479 - 1s - loss: 4440296448.0000 - mae: 48013.5000 - val_loss: 7082046464.0000 - val_mae: 62364.2969 - 940ms/epoch - 2ms/step\n",
            "Epoch 35/500\n",
            "479/479 - 1s - loss: 4422466048.0000 - mae: 47864.2578 - val_loss: 7021842944.0000 - val_mae: 62172.4609 - 836ms/epoch - 2ms/step\n",
            "Epoch 36/500\n",
            "479/479 - 1s - loss: 4406652416.0000 - mae: 47751.5312 - val_loss: 7033235456.0000 - val_mae: 62171.4180 - 951ms/epoch - 2ms/step\n",
            "Epoch 37/500\n",
            "479/479 - 1s - loss: 4391319040.0000 - mae: 47616.1680 - val_loss: 6916979712.0000 - val_mae: 61804.0625 - 886ms/epoch - 2ms/step\n",
            "Epoch 38/500\n",
            "479/479 - 1s - loss: 4380299776.0000 - mae: 47603.2891 - val_loss: 6938614784.0000 - val_mae: 61856.1641 - 892ms/epoch - 2ms/step\n",
            "Epoch 39/500\n",
            "479/479 - 1s - loss: 4367915520.0000 - mae: 47424.1992 - val_loss: 6832200704.0000 - val_mae: 61546.0312 - 974ms/epoch - 2ms/step\n",
            "Epoch 40/500\n",
            "479/479 - 1s - loss: 4356383232.0000 - mae: 47438.8164 - val_loss: 6878832640.0000 - val_mae: 61675.4453 - 929ms/epoch - 2ms/step\n",
            "Epoch 41/500\n",
            "479/479 - 1s - loss: 4346454528.0000 - mae: 47270.5273 - val_loss: 6838392832.0000 - val_mae: 61567.7617 - 965ms/epoch - 2ms/step\n",
            "Epoch 42/500\n",
            "479/479 - 1s - loss: 4336717824.0000 - mae: 47211.5859 - val_loss: 6847727616.0000 - val_mae: 61612.1992 - 849ms/epoch - 2ms/step\n",
            "Epoch 43/500\n",
            "479/479 - 1s - loss: 4327736832.0000 - mae: 47123.0469 - val_loss: 6795354112.0000 - val_mae: 61406.4297 - 1s/epoch - 2ms/step\n",
            "Epoch 44/500\n",
            "479/479 - 1s - loss: 4318544896.0000 - mae: 47146.6250 - val_loss: 6847650816.0000 - val_mae: 61665.0820 - 1s/epoch - 3ms/step\n",
            "Epoch 45/500\n",
            "479/479 - 1s - loss: 4312263168.0000 - mae: 46988.8242 - val_loss: 6772532736.0000 - val_mae: 61481.5859 - 1s/epoch - 2ms/step\n",
            "Epoch 46/500\n",
            "479/479 - 1s - loss: 4304424448.0000 - mae: 46945.3828 - val_loss: 6765113856.0000 - val_mae: 61433.7148 - 900ms/epoch - 2ms/step\n",
            "Epoch 47/500\n",
            "479/479 - 1s - loss: 4296806912.0000 - mae: 46908.7734 - val_loss: 6771397120.0000 - val_mae: 61477.7930 - 940ms/epoch - 2ms/step\n",
            "Epoch 48/500\n",
            "479/479 - 1s - loss: 4290753280.0000 - mae: 46872.6641 - val_loss: 6762395648.0000 - val_mae: 61448.6250 - 817ms/epoch - 2ms/step\n",
            "Epoch 49/500\n",
            "479/479 - 1s - loss: 4283791616.0000 - mae: 46855.3789 - val_loss: 6781176832.0000 - val_mae: 61624.4219 - 909ms/epoch - 2ms/step\n",
            "Epoch 50/500\n",
            "479/479 - 1s - loss: 4278473472.0000 - mae: 46736.1914 - val_loss: 6770515456.0000 - val_mae: 61570.0039 - 814ms/epoch - 2ms/step\n",
            "Epoch 51/500\n",
            "479/479 - 1s - loss: 4273484288.0000 - mae: 46729.0312 - val_loss: 6731920384.0000 - val_mae: 61416.3945 - 810ms/epoch - 2ms/step\n",
            "Epoch 52/500\n",
            "479/479 - 1s - loss: 4266651392.0000 - mae: 46659.4297 - val_loss: 6747888128.0000 - val_mae: 61509.7305 - 821ms/epoch - 2ms/step\n",
            "Epoch 53/500\n",
            "479/479 - 1s - loss: 4262478336.0000 - mae: 46563.7734 - val_loss: 6710775808.0000 - val_mae: 61376.9453 - 897ms/epoch - 2ms/step\n",
            "Epoch 54/500\n",
            "479/479 - 1s - loss: 4257213696.0000 - mae: 46634.0742 - val_loss: 6731981824.0000 - val_mae: 61515.6953 - 841ms/epoch - 2ms/step\n",
            "Epoch 55/500\n",
            "479/479 - 1s - loss: 4252674816.0000 - mae: 46527.9258 - val_loss: 6712418304.0000 - val_mae: 61471.9727 - 827ms/epoch - 2ms/step\n",
            "Epoch 56/500\n",
            "479/479 - 1s - loss: 4246833920.0000 - mae: 46469.3203 - val_loss: 6684000768.0000 - val_mae: 61336.8438 - 887ms/epoch - 2ms/step\n",
            "Epoch 57/500\n",
            "479/479 - 1s - loss: 4242886144.0000 - mae: 46472.8320 - val_loss: 6702505984.0000 - val_mae: 61473.9258 - 1s/epoch - 3ms/step\n",
            "Epoch 58/500\n",
            "479/479 - 1s - loss: 4237006080.0000 - mae: 46363.6172 - val_loss: 6681869312.0000 - val_mae: 61403.0273 - 1s/epoch - 3ms/step\n",
            "Epoch 59/500\n",
            "479/479 - 1s - loss: 4234276352.0000 - mae: 46452.8242 - val_loss: 6736514048.0000 - val_mae: 61669.3281 - 860ms/epoch - 2ms/step\n",
            "Epoch 60/500\n",
            "479/479 - 1s - loss: 4228104960.0000 - mae: 46335.6367 - val_loss: 6698436096.0000 - val_mae: 61554.5352 - 886ms/epoch - 2ms/step\n",
            "Epoch 61/500\n",
            "479/479 - 1s - loss: 4223430656.0000 - mae: 46338.1641 - val_loss: 6746130432.0000 - val_mae: 61725.5000 - 806ms/epoch - 2ms/step\n",
            "Epoch 62/500\n",
            "479/479 - 1s - loss: 4219641856.0000 - mae: 46313.3477 - val_loss: 6743068672.0000 - val_mae: 61780.5039 - 895ms/epoch - 2ms/step\n",
            "Epoch 63/500\n",
            "479/479 - 1s - loss: 4217063680.0000 - mae: 46185.7812 - val_loss: 6663063552.0000 - val_mae: 61512.5508 - 819ms/epoch - 2ms/step\n",
            "Epoch 64/500\n",
            "479/479 - 1s - loss: 4213054976.0000 - mae: 46223.7617 - val_loss: 6688257024.0000 - val_mae: 61601.8477 - 815ms/epoch - 2ms/step\n",
            "Epoch 65/500\n",
            "479/479 - 1s - loss: 4209173504.0000 - mae: 46207.6406 - val_loss: 6705782272.0000 - val_mae: 61612.3008 - 832ms/epoch - 2ms/step\n",
            "Epoch 66/500\n",
            "479/479 - 1s - loss: 4204605440.0000 - mae: 46091.3516 - val_loss: 6671499264.0000 - val_mae: 61465.3125 - 809ms/epoch - 2ms/step\n",
            "Epoch 67/500\n",
            "479/479 - 1s - loss: 4201445632.0000 - mae: 46135.0273 - val_loss: 6688724992.0000 - val_mae: 61624.7070 - 813ms/epoch - 2ms/step\n",
            "Epoch 68/500\n",
            "479/479 - 1s - loss: 4197177088.0000 - mae: 46096.2227 - val_loss: 6687926784.0000 - val_mae: 61620.0859 - 830ms/epoch - 2ms/step\n",
            "Epoch 69/500\n",
            "479/479 - 1s - loss: 4193666304.0000 - mae: 46020.0938 - val_loss: 6677880832.0000 - val_mae: 61571.9102 - 812ms/epoch - 2ms/step\n",
            "Epoch 70/500\n",
            "479/479 - 1s - loss: 4189098752.0000 - mae: 46081.5352 - val_loss: 6740001792.0000 - val_mae: 61870.6680 - 890ms/epoch - 2ms/step\n",
            "Epoch 71/500\n",
            "479/479 - 1s - loss: 4186670336.0000 - mae: 45971.8750 - val_loss: 6700749312.0000 - val_mae: 61734.3633 - 1s/epoch - 3ms/step\n",
            "Epoch 72/500\n",
            "479/479 - 1s - loss: 4183479296.0000 - mae: 45971.5039 - val_loss: 6693189120.0000 - val_mae: 61631.2891 - 1s/epoch - 3ms/step\n",
            "Epoch 73/500\n",
            "479/479 - 1s - loss: 4179915264.0000 - mae: 45937.6211 - val_loss: 6696989184.0000 - val_mae: 61718.9336 - 913ms/epoch - 2ms/step\n",
            "Epoch 74/500\n",
            "479/479 - 1s - loss: 4176102400.0000 - mae: 45906.6836 - val_loss: 6707704320.0000 - val_mae: 61695.4648 - 828ms/epoch - 2ms/step\n",
            "Epoch 75/500\n",
            "479/479 - 1s - loss: 4173129728.0000 - mae: 45873.9258 - val_loss: 6689979392.0000 - val_mae: 61723.3711 - 833ms/epoch - 2ms/step\n",
            "Epoch 76/500\n",
            "479/479 - 1s - loss: 4169560320.0000 - mae: 45866.9688 - val_loss: 6689520640.0000 - val_mae: 61690.4531 - 819ms/epoch - 2ms/step\n",
            "Epoch 77/500\n",
            "479/479 - 1s - loss: 4165479424.0000 - mae: 45826.4766 - val_loss: 6663370240.0000 - val_mae: 61618.2383 - 897ms/epoch - 2ms/step\n",
            "Epoch 78/500\n",
            "479/479 - 1s - loss: 4162458880.0000 - mae: 45812.7031 - val_loss: 6665534464.0000 - val_mae: 61645.0078 - 903ms/epoch - 2ms/step\n",
            "Epoch 79/500\n",
            "479/479 - 1s - loss: 4159276800.0000 - mae: 45754.7773 - val_loss: 6660035584.0000 - val_mae: 61581.5820 - 930ms/epoch - 2ms/step\n",
            "Epoch 80/500\n",
            "479/479 - 1s - loss: 4155747584.0000 - mae: 45764.5898 - val_loss: 6673288704.0000 - val_mae: 61699.9844 - 937ms/epoch - 2ms/step\n",
            "Epoch 81/500\n",
            "479/479 - 1s - loss: 4153103104.0000 - mae: 45729.0508 - val_loss: 6675401216.0000 - val_mae: 61662.9453 - 828ms/epoch - 2ms/step\n",
            "Epoch 82/500\n",
            "479/479 - 1s - loss: 4150033408.0000 - mae: 45715.1914 - val_loss: 6678473728.0000 - val_mae: 61649.3711 - 933ms/epoch - 2ms/step\n",
            "Epoch 83/500\n",
            "479/479 - 1s - loss: 4147025920.0000 - mae: 45650.5234 - val_loss: 6667134464.0000 - val_mae: 61664.7734 - 936ms/epoch - 2ms/step\n",
            "Epoch 84/500\n",
            "479/479 - 1s - loss: 4143409920.0000 - mae: 45681.1797 - val_loss: 6692816896.0000 - val_mae: 61782.3594 - 1s/epoch - 3ms/step\n",
            "Epoch 85/500\n",
            "479/479 - 1s - loss: 4139856896.0000 - mae: 45613.5938 - val_loss: 6680407552.0000 - val_mae: 61777.7188 - 1s/epoch - 3ms/step\n",
            "Epoch 86/500\n",
            "479/479 - 1s - loss: 4138124800.0000 - mae: 45550.2383 - val_loss: 6671278080.0000 - val_mae: 61684.0195 - 931ms/epoch - 2ms/step\n",
            "Epoch 87/500\n",
            "479/479 - 1s - loss: 4133868800.0000 - mae: 45547.5742 - val_loss: 6659103232.0000 - val_mae: 61643.8320 - 851ms/epoch - 2ms/step\n",
            "Epoch 88/500\n",
            "479/479 - 1s - loss: 4131255552.0000 - mae: 45573.3047 - val_loss: 6689386496.0000 - val_mae: 61819.7969 - 845ms/epoch - 2ms/step\n",
            "Epoch 89/500\n",
            "479/479 - 1s - loss: 4128433920.0000 - mae: 45496.4570 - val_loss: 6672884736.0000 - val_mae: 61710.1367 - 908ms/epoch - 2ms/step\n",
            "Epoch 90/500\n",
            "479/479 - 1s - loss: 4125148160.0000 - mae: 45538.6016 - val_loss: 6696077312.0000 - val_mae: 61812.2344 - 831ms/epoch - 2ms/step\n",
            "Epoch 91/500\n",
            "479/479 - 1s - loss: 4121662720.0000 - mae: 45455.0156 - val_loss: 6641110528.0000 - val_mae: 61679.6992 - 813ms/epoch - 2ms/step\n",
            "Epoch 92/500\n",
            "479/479 - 1s - loss: 4119945728.0000 - mae: 45427.8906 - val_loss: 6648722944.0000 - val_mae: 61610.9023 - 815ms/epoch - 2ms/step\n",
            "Epoch 93/500\n",
            "479/479 - 1s - loss: 4116369664.0000 - mae: 45496.2109 - val_loss: 6709919232.0000 - val_mae: 61859.7656 - 810ms/epoch - 2ms/step\n",
            "Epoch 94/500\n",
            "479/479 - 1s - loss: 4113247488.0000 - mae: 45346.9414 - val_loss: 6629991424.0000 - val_mae: 61567.5430 - 835ms/epoch - 2ms/step\n",
            "Epoch 95/500\n",
            "479/479 - 1s - loss: 4111160320.0000 - mae: 45365.8203 - val_loss: 6658860544.0000 - val_mae: 61723.9297 - 934ms/epoch - 2ms/step\n",
            "Epoch 96/500\n",
            "479/479 - 1s - loss: 4108442112.0000 - mae: 45367.6211 - val_loss: 6678846976.0000 - val_mae: 61773.1914 - 917ms/epoch - 2ms/step\n",
            "Epoch 97/500\n",
            "479/479 - 1s - loss: 4105793792.0000 - mae: 45358.7773 - val_loss: 6678766080.0000 - val_mae: 61815.4336 - 972ms/epoch - 2ms/step\n",
            "Epoch 98/500\n",
            "479/479 - 1s - loss: 4102804736.0000 - mae: 45293.7891 - val_loss: 6684492288.0000 - val_mae: 61789.2500 - 1s/epoch - 3ms/step\n",
            "Epoch 99/500\n",
            "479/479 - 1s - loss: 4099844096.0000 - mae: 45294.8828 - val_loss: 6739665408.0000 - val_mae: 62045.9609 - 1s/epoch - 2ms/step\n",
            "Epoch 100/500\n",
            "479/479 - 1s - loss: 4096823552.0000 - mae: 45283.6836 - val_loss: 6669123584.0000 - val_mae: 61821.3555 - 856ms/epoch - 2ms/step\n",
            "Epoch 101/500\n",
            "479/479 - 1s - loss: 4095219200.0000 - mae: 45224.4570 - val_loss: 6677995520.0000 - val_mae: 61864.6602 - 838ms/epoch - 2ms/step\n",
            "Epoch 102/500\n",
            "479/479 - 1s - loss: 4092509696.0000 - mae: 45224.9492 - val_loss: 6691442688.0000 - val_mae: 61881.7891 - 846ms/epoch - 2ms/step\n",
            "Epoch 103/500\n",
            "479/479 - 1s - loss: 4088746752.0000 - mae: 45199.5820 - val_loss: 6657873408.0000 - val_mae: 61849.4258 - 832ms/epoch - 2ms/step\n",
            "Epoch 104/500\n",
            "479/479 - 1s - loss: 4087740416.0000 - mae: 45192.2461 - val_loss: 6697712128.0000 - val_mae: 61945.3867 - 811ms/epoch - 2ms/step\n",
            "Epoch 105/500\n",
            "479/479 - 1s - loss: 4084499200.0000 - mae: 45217.5430 - val_loss: 6698477568.0000 - val_mae: 61969.9922 - 896ms/epoch - 2ms/step\n",
            "Epoch 106/500\n",
            "479/479 - 1s - loss: 4080417024.0000 - mae: 45123.3672 - val_loss: 6632499200.0000 - val_mae: 61696.5000 - 906ms/epoch - 2ms/step\n",
            "Epoch 107/500\n",
            "479/479 - 1s - loss: 4078585088.0000 - mae: 45149.5352 - val_loss: 6691865600.0000 - val_mae: 61881.7305 - 904ms/epoch - 2ms/step\n",
            "Epoch 108/500\n",
            "479/479 - 1s - loss: 4075537920.0000 - mae: 45106.3594 - val_loss: 6713824768.0000 - val_mae: 62064.6875 - 857ms/epoch - 2ms/step\n",
            "Epoch 109/500\n",
            "479/479 - 1s - loss: 4074024192.0000 - mae: 45111.8516 - val_loss: 6728969216.0000 - val_mae: 62086.5977 - 827ms/epoch - 2ms/step\n",
            "Epoch 110/500\n",
            "479/479 - 1s - loss: 4070232576.0000 - mae: 45051.0664 - val_loss: 6695657984.0000 - val_mae: 62007.2188 - 899ms/epoch - 2ms/step\n",
            "Epoch 111/500\n",
            "479/479 - 1s - loss: 4069025280.0000 - mae: 45062.6367 - val_loss: 6687474688.0000 - val_mae: 61892.2109 - 1s/epoch - 2ms/step\n",
            "Epoch 112/500\n",
            "479/479 - 1s - loss: 4064687616.0000 - mae: 45080.7695 - val_loss: 6742704128.0000 - val_mae: 62182.1758 - 1s/epoch - 3ms/step\n",
            "Epoch 113/500\n",
            "479/479 - 1s - loss: 4064543488.0000 - mae: 44942.3789 - val_loss: 6719227904.0000 - val_mae: 62089.6250 - 987ms/epoch - 2ms/step\n",
            "Epoch 114/500\n",
            "479/479 - 1s - loss: 4061874432.0000 - mae: 45018.8281 - val_loss: 6663898112.0000 - val_mae: 61853.7422 - 843ms/epoch - 2ms/step\n",
            "Epoch 115/500\n",
            "479/479 - 1s - loss: 4058363904.0000 - mae: 44982.2344 - val_loss: 6683812864.0000 - val_mae: 61944.0547 - 921ms/epoch - 2ms/step\n",
            "Epoch 116/500\n",
            "479/479 - 1s - loss: 4055849216.0000 - mae: 44958.9336 - val_loss: 6698384896.0000 - val_mae: 62026.9180 - 929ms/epoch - 2ms/step\n",
            "Epoch 117/500\n",
            "479/479 - 1s - loss: 4053237248.0000 - mae: 44903.0664 - val_loss: 6681464832.0000 - val_mae: 61918.2500 - 842ms/epoch - 2ms/step\n",
            "Epoch 118/500\n",
            "479/479 - 1s - loss: 4051511808.0000 - mae: 44953.0547 - val_loss: 6726298112.0000 - val_mae: 62122.1211 - 925ms/epoch - 2ms/step\n",
            "Epoch 119/500\n",
            "479/479 - 1s - loss: 4048711680.0000 - mae: 44932.8672 - val_loss: 6738176512.0000 - val_mae: 62164.9609 - 856ms/epoch - 2ms/step\n",
            "Epoch 120/500\n",
            "479/479 - 1s - loss: 4045775104.0000 - mae: 44823.3594 - val_loss: 6655574016.0000 - val_mae: 61890.9648 - 914ms/epoch - 2ms/step\n",
            "Epoch 121/500\n",
            "479/479 - 1s - loss: 4044688128.0000 - mae: 44891.4336 - val_loss: 6680024576.0000 - val_mae: 61957.3750 - 833ms/epoch - 2ms/step\n",
            "Epoch 122/500\n",
            "479/479 - 1s - loss: 4041402880.0000 - mae: 44810.7539 - val_loss: 6681037824.0000 - val_mae: 61998.1172 - 848ms/epoch - 2ms/step\n",
            "Epoch 123/500\n",
            "479/479 - 1s - loss: 4039247872.0000 - mae: 44847.6602 - val_loss: 6723950592.0000 - val_mae: 62186.6641 - 935ms/epoch - 2ms/step\n",
            "Epoch 124/500\n",
            "479/479 - 1s - loss: 4035765248.0000 - mae: 44840.0742 - val_loss: 6735943168.0000 - val_mae: 62205.1484 - 1s/epoch - 2ms/step\n",
            "Epoch 125/500\n",
            "479/479 - 1s - loss: 4035241472.0000 - mae: 44732.3281 - val_loss: 6682218496.0000 - val_mae: 62054.3203 - 1s/epoch - 3ms/step\n",
            "Epoch 126/500\n",
            "479/479 - 1s - loss: 4032967936.0000 - mae: 44828.9531 - val_loss: 6752837632.0000 - val_mae: 62310.5430 - 1s/epoch - 2ms/step\n",
            "Epoch 127/500\n",
            "479/479 - 1s - loss: 4030275840.0000 - mae: 44781.8516 - val_loss: 6702841344.0000 - val_mae: 62162.9453 - 894ms/epoch - 2ms/step\n",
            "Epoch 128/500\n",
            "479/479 - 1s - loss: 4028486400.0000 - mae: 44803.2930 - val_loss: 6723486208.0000 - val_mae: 62249.5430 - 832ms/epoch - 2ms/step\n",
            "Epoch 129/500\n",
            "479/479 - 1s - loss: 4026498816.0000 - mae: 44738.0391 - val_loss: 6714172928.0000 - val_mae: 62216.7500 - 921ms/epoch - 2ms/step\n",
            "Epoch 130/500\n",
            "479/479 - 1s - loss: 4022964480.0000 - mae: 44688.6055 - val_loss: 6688410624.0000 - val_mae: 62158.4531 - 856ms/epoch - 2ms/step\n",
            "Epoch 131/500\n",
            "479/479 - 1s - loss: 4021622528.0000 - mae: 44729.4414 - val_loss: 6723704320.0000 - val_mae: 62205.0977 - 833ms/epoch - 2ms/step\n",
            "Epoch 132/500\n",
            "479/479 - 1s - loss: 4019632128.0000 - mae: 44696.0781 - val_loss: 6713468416.0000 - val_mae: 62156.0859 - 902ms/epoch - 2ms/step\n",
            "Epoch 133/500\n",
            "479/479 - 1s - loss: 4016960256.0000 - mae: 44677.3594 - val_loss: 6711838720.0000 - val_mae: 62242.1328 - 829ms/epoch - 2ms/step\n",
            "Epoch 134/500\n",
            "479/479 - 1s - loss: 4015559680.0000 - mae: 44668.4727 - val_loss: 6719632384.0000 - val_mae: 62209.3867 - 870ms/epoch - 2ms/step\n",
            "Epoch 135/500\n",
            "479/479 - 1s - loss: 4012566528.0000 - mae: 44662.4141 - val_loss: 6690056192.0000 - val_mae: 62142.1211 - 933ms/epoch - 2ms/step\n",
            "Epoch 136/500\n",
            "479/479 - 1s - loss: 4010896128.0000 - mae: 44651.0312 - val_loss: 6720038400.0000 - val_mae: 62221.4688 - 825ms/epoch - 2ms/step\n",
            "Epoch 137/500\n",
            "479/479 - 1s - loss: 4007928064.0000 - mae: 44661.6953 - val_loss: 6763589120.0000 - val_mae: 62441.2969 - 918ms/epoch - 2ms/step\n",
            "Epoch 138/500\n",
            "479/479 - 1s - loss: 4005711104.0000 - mae: 44594.1875 - val_loss: 6760993280.0000 - val_mae: 62456.9258 - 1s/epoch - 3ms/step\n",
            "Epoch 139/500\n",
            "479/479 - 1s - loss: 4003490816.0000 - mae: 44582.6953 - val_loss: 6720338944.0000 - val_mae: 62259.7266 - 1s/epoch - 3ms/step\n",
            "Epoch 140/500\n",
            "479/479 - 1s - loss: 4002759936.0000 - mae: 44552.3750 - val_loss: 6699589632.0000 - val_mae: 62221.3047 - 940ms/epoch - 2ms/step\n",
            "Epoch 141/500\n",
            "479/479 - 1s - loss: 3999943168.0000 - mae: 44594.3438 - val_loss: 6734771200.0000 - val_mae: 62346.5039 - 932ms/epoch - 2ms/step\n",
            "Epoch 142/500\n",
            "479/479 - 1s - loss: 3997865472.0000 - mae: 44541.5234 - val_loss: 6775855616.0000 - val_mae: 62498.4688 - 811ms/epoch - 2ms/step\n",
            "Epoch 143/500\n",
            "479/479 - 1s - loss: 3995910656.0000 - mae: 44571.5273 - val_loss: 6747439104.0000 - val_mae: 62389.9570 - 898ms/epoch - 2ms/step\n",
            "Epoch 144/500\n",
            "479/479 - 1s - loss: 3993480960.0000 - mae: 44507.7070 - val_loss: 6759269376.0000 - val_mae: 62461.6406 - 818ms/epoch - 2ms/step\n",
            "Epoch 145/500\n",
            "479/479 - 1s - loss: 3991764224.0000 - mae: 44505.0703 - val_loss: 6775413248.0000 - val_mae: 62558.1562 - 821ms/epoch - 2ms/step\n",
            "Epoch 146/500\n",
            "479/479 - 1s - loss: 3988480768.0000 - mae: 44483.7305 - val_loss: 6764187136.0000 - val_mae: 62535.7383 - 815ms/epoch - 2ms/step\n",
            "Epoch 147/500\n",
            "479/479 - 1s - loss: 3988058368.0000 - mae: 44469.1719 - val_loss: 6789785088.0000 - val_mae: 62680.8711 - 893ms/epoch - 2ms/step\n",
            "Epoch 148/500\n",
            "479/479 - 1s - loss: 3986042880.0000 - mae: 44447.4336 - val_loss: 6754942464.0000 - val_mae: 62579.8125 - 858ms/epoch - 2ms/step\n",
            "Epoch 149/500\n",
            "479/479 - 1s - loss: 3983001856.0000 - mae: 44498.4219 - val_loss: 6784307712.0000 - val_mae: 62617.1641 - 832ms/epoch - 2ms/step\n",
            "Epoch 150/500\n",
            "479/479 - 1s - loss: 3980993792.0000 - mae: 44439.8906 - val_loss: 6762938368.0000 - val_mae: 62602.3711 - 902ms/epoch - 2ms/step\n",
            "Epoch 151/500\n",
            "479/479 - 1s - loss: 3979516928.0000 - mae: 44450.9844 - val_loss: 6761718784.0000 - val_mae: 62590.3711 - 1s/epoch - 2ms/step\n",
            "Epoch 152/500\n",
            "479/479 - 1s - loss: 3975433728.0000 - mae: 44410.8516 - val_loss: 6796890112.0000 - val_mae: 62784.7539 - 1s/epoch - 3ms/step\n",
            "Epoch 153/500\n",
            "479/479 - 1s - loss: 3974285824.0000 - mae: 44374.8906 - val_loss: 6729182720.0000 - val_mae: 62562.4688 - 1s/epoch - 2ms/step\n",
            "Epoch 154/500\n",
            "479/479 - 1s - loss: 3972789248.0000 - mae: 44448.9219 - val_loss: 6771832320.0000 - val_mae: 62692.1992 - 834ms/epoch - 2ms/step\n",
            "Epoch 155/500\n",
            "479/479 - 1s - loss: 3969966592.0000 - mae: 44366.5039 - val_loss: 6826157568.0000 - val_mae: 62862.2500 - 896ms/epoch - 2ms/step\n",
            "Epoch 156/500\n",
            "479/479 - 1s - loss: 3968556032.0000 - mae: 44386.4219 - val_loss: 6792271360.0000 - val_mae: 62754.9805 - 909ms/epoch - 2ms/step\n",
            "Epoch 157/500\n",
            "479/479 - 1s - loss: 3966133248.0000 - mae: 44346.4883 - val_loss: 6803465728.0000 - val_mae: 62763.5391 - 907ms/epoch - 2ms/step\n",
            "Epoch 158/500\n",
            "479/479 - 1s - loss: 3961996800.0000 - mae: 44305.8086 - val_loss: 6756916224.0000 - val_mae: 62643.9062 - 825ms/epoch - 2ms/step\n",
            "Epoch 159/500\n",
            "479/479 - 1s - loss: 3962198784.0000 - mae: 44336.0391 - val_loss: 6800376832.0000 - val_mae: 62801.0078 - 931ms/epoch - 2ms/step\n",
            "Epoch 160/500\n",
            "479/479 - 1s - loss: 3959519488.0000 - mae: 44337.1328 - val_loss: 6818915840.0000 - val_mae: 62928.8945 - 854ms/epoch - 2ms/step\n",
            "Epoch 161/500\n",
            "479/479 - 1s - loss: 3957410560.0000 - mae: 44271.4102 - val_loss: 6844835328.0000 - val_mae: 63031.8242 - 916ms/epoch - 2ms/step\n",
            "Epoch 162/500\n",
            "479/479 - 1s - loss: 3954666240.0000 - mae: 44289.3789 - val_loss: 6847783424.0000 - val_mae: 63013.1406 - 887ms/epoch - 2ms/step\n",
            "Epoch 163/500\n",
            "479/479 - 1s - loss: 3952151296.0000 - mae: 44205.9531 - val_loss: 6777603072.0000 - val_mae: 62785.7383 - 850ms/epoch - 2ms/step\n",
            "Epoch 164/500\n",
            "479/479 - 1s - loss: 3951133184.0000 - mae: 44274.5508 - val_loss: 6827757056.0000 - val_mae: 62978.8242 - 955ms/epoch - 2ms/step\n",
            "Epoch 165/500\n",
            "479/479 - 1s - loss: 3947795712.0000 - mae: 44210.1133 - val_loss: 6842193408.0000 - val_mae: 63048.6250 - 1s/epoch - 3ms/step\n",
            "Epoch 166/500\n",
            "479/479 - 1s - loss: 3946060544.0000 - mae: 44210.9531 - val_loss: 6871879680.0000 - val_mae: 63129.3125 - 1s/epoch - 2ms/step\n",
            "Epoch 167/500\n",
            "479/479 - 1s - loss: 3943093760.0000 - mae: 44182.8555 - val_loss: 6851113472.0000 - val_mae: 63141.2109 - 911ms/epoch - 2ms/step\n",
            "Epoch 168/500\n",
            "479/479 - 1s - loss: 3940386304.0000 - mae: 44183.5898 - val_loss: 6812369408.0000 - val_mae: 63020.7734 - 862ms/epoch - 2ms/step\n",
            "Epoch 169/500\n",
            "479/479 - 1s - loss: 3937958912.0000 - mae: 44179.3125 - val_loss: 6861303808.0000 - val_mae: 63142.3516 - 932ms/epoch - 2ms/step\n",
            "Epoch 170/500\n",
            "479/479 - 1s - loss: 3935433216.0000 - mae: 44141.5625 - val_loss: 6884510208.0000 - val_mae: 63273.3281 - 850ms/epoch - 2ms/step\n",
            "Epoch 171/500\n",
            "479/479 - 1s - loss: 3931993856.0000 - mae: 44067.2109 - val_loss: 6831233536.0000 - val_mae: 63108.3867 - 938ms/epoch - 2ms/step\n",
            "Epoch 172/500\n",
            "479/479 - 1s - loss: 3930568960.0000 - mae: 44156.6953 - val_loss: 6874863104.0000 - val_mae: 63322.5234 - 837ms/epoch - 2ms/step\n",
            "Epoch 173/500\n",
            "479/479 - 1s - loss: 3927250176.0000 - mae: 44128.0625 - val_loss: 6865388032.0000 - val_mae: 63282.5898 - 909ms/epoch - 2ms/step\n",
            "Epoch 174/500\n",
            "479/479 - 1s - loss: 3925972224.0000 - mae: 44009.6562 - val_loss: 6858097664.0000 - val_mae: 63265.7852 - 897ms/epoch - 2ms/step\n",
            "Epoch 175/500\n",
            "479/479 - 1s - loss: 3922660352.0000 - mae: 44079.3516 - val_loss: 6869850112.0000 - val_mae: 63291.3945 - 814ms/epoch - 2ms/step\n",
            "Epoch 176/500\n",
            "479/479 - 1s - loss: 3920969984.0000 - mae: 44050.6133 - val_loss: 6892824064.0000 - val_mae: 63388.8984 - 916ms/epoch - 2ms/step\n",
            "Epoch 177/500\n",
            "479/479 - 1s - loss: 3918350848.0000 - mae: 44023.4648 - val_loss: 6889815552.0000 - val_mae: 63444.8047 - 800ms/epoch - 2ms/step\n",
            "Epoch 178/500\n",
            "479/479 - 1s - loss: 3914660608.0000 - mae: 44034.3945 - val_loss: 6931463680.0000 - val_mae: 63605.9766 - 1s/epoch - 3ms/step\n",
            "Epoch 179/500\n",
            "479/479 - 1s - loss: 3912178944.0000 - mae: 44009.6133 - val_loss: 6934673920.0000 - val_mae: 63602.5820 - 1s/epoch - 3ms/step\n",
            "Epoch 180/500\n",
            "479/479 - 1s - loss: 3909995776.0000 - mae: 43940.0156 - val_loss: 6901363200.0000 - val_mae: 63523.4922 - 893ms/epoch - 2ms/step\n",
            "Epoch 181/500\n",
            "479/479 - 1s - loss: 3907098880.0000 - mae: 43993.1758 - val_loss: 6929497600.0000 - val_mae: 63605.0781 - 893ms/epoch - 2ms/step\n",
            "Epoch 182/500\n",
            "479/479 - 1s - loss: 3904278784.0000 - mae: 43953.3672 - val_loss: 6939592704.0000 - val_mae: 63619.2188 - 827ms/epoch - 2ms/step\n",
            "Epoch 183/500\n",
            "479/479 - 1s - loss: 3900649472.0000 - mae: 43893.2422 - val_loss: 6915392000.0000 - val_mae: 63563.5078 - 820ms/epoch - 2ms/step\n",
            "Epoch 184/500\n",
            "479/479 - 1s - loss: 3898314496.0000 - mae: 43921.8516 - val_loss: 6993895424.0000 - val_mae: 63896.5938 - 898ms/epoch - 2ms/step\n",
            "Epoch 185/500\n",
            "479/479 - 1s - loss: 3895401216.0000 - mae: 43838.4375 - val_loss: 6940152832.0000 - val_mae: 63726.4883 - 813ms/epoch - 2ms/step\n",
            "Epoch 186/500\n",
            "479/479 - 1s - loss: 3892899328.0000 - mae: 43898.9766 - val_loss: 6969947136.0000 - val_mae: 63825.5938 - 833ms/epoch - 2ms/step\n",
            "Epoch 187/500\n",
            "479/479 - 1s - loss: 3889487872.0000 - mae: 43849.0156 - val_loss: 6929176576.0000 - val_mae: 63668.1797 - 804ms/epoch - 2ms/step\n",
            "Epoch 188/500\n",
            "479/479 - 1s - loss: 3888066048.0000 - mae: 43825.0078 - val_loss: 6975582720.0000 - val_mae: 63889.1719 - 892ms/epoch - 2ms/step\n",
            "Epoch 189/500\n",
            "479/479 - 1s - loss: 3885295360.0000 - mae: 43784.2891 - val_loss: 6975029248.0000 - val_mae: 63893.2422 - 883ms/epoch - 2ms/step\n",
            "Epoch 190/500\n",
            "479/479 - 1s - loss: 3881155072.0000 - mae: 43793.5156 - val_loss: 6970939392.0000 - val_mae: 63886.1172 - 820ms/epoch - 2ms/step\n",
            "Epoch 191/500\n",
            "479/479 - 1s - loss: 3879696384.0000 - mae: 43788.5156 - val_loss: 6987335680.0000 - val_mae: 63918.2773 - 906ms/epoch - 2ms/step\n",
            "Epoch 192/500\n",
            "479/479 - 1s - loss: 3876294144.0000 - mae: 43761.3164 - val_loss: 6972134400.0000 - val_mae: 63920.6914 - 1s/epoch - 3ms/step\n",
            "Epoch 193/500\n",
            "479/479 - 1s - loss: 3873935104.0000 - mae: 43755.0273 - val_loss: 7038532096.0000 - val_mae: 64226.9023 - 1s/epoch - 3ms/step\n",
            "Epoch 194/500\n",
            "479/479 - 1s - loss: 3870440960.0000 - mae: 43744.9297 - val_loss: 7032521216.0000 - val_mae: 64159.5117 - 904ms/epoch - 2ms/step\n",
            "Epoch 195/500\n",
            "479/479 - 1s - loss: 3868180992.0000 - mae: 43683.4141 - val_loss: 7038456832.0000 - val_mae: 64193.8945 - 918ms/epoch - 2ms/step\n",
            "Epoch 196/500\n",
            "479/479 - 1s - loss: 3864408576.0000 - mae: 43642.5156 - val_loss: 7084856320.0000 - val_mae: 64403.0195 - 828ms/epoch - 2ms/step\n",
            "Epoch 197/500\n",
            "479/479 - 1s - loss: 3862028288.0000 - mae: 43705.4844 - val_loss: 7060041216.0000 - val_mae: 64334.3750 - 916ms/epoch - 2ms/step\n",
            "Epoch 198/500\n",
            "479/479 - 1s - loss: 3858816256.0000 - mae: 43619.2383 - val_loss: 7037628928.0000 - val_mae: 64216.4219 - 827ms/epoch - 2ms/step\n",
            "Epoch 199/500\n",
            "479/479 - 1s - loss: 3857736704.0000 - mae: 43602.0664 - val_loss: 7095407616.0000 - val_mae: 64424.5000 - 835ms/epoch - 2ms/step\n",
            "Epoch 200/500\n",
            "479/479 - 1s - loss: 3853434112.0000 - mae: 43609.6367 - val_loss: 7067489792.0000 - val_mae: 64366.1289 - 852ms/epoch - 2ms/step\n",
            "Epoch 201/500\n",
            "479/479 - 1s - loss: 3851845376.0000 - mae: 43578.9922 - val_loss: 7118161408.0000 - val_mae: 64538.3906 - 830ms/epoch - 2ms/step\n",
            "Epoch 202/500\n",
            "479/479 - 1s - loss: 3847567360.0000 - mae: 43571.0195 - val_loss: 7082329088.0000 - val_mae: 64476.0508 - 937ms/epoch - 2ms/step\n",
            "Epoch 203/500\n",
            "479/479 - 1s - loss: 3844795904.0000 - mae: 43528.3906 - val_loss: 7144241664.0000 - val_mae: 64620.4766 - 849ms/epoch - 2ms/step\n",
            "Epoch 204/500\n",
            "479/479 - 1s - loss: 3842802176.0000 - mae: 43513.6953 - val_loss: 7123218432.0000 - val_mae: 64590.8203 - 850ms/epoch - 2ms/step\n",
            "Epoch 205/500\n",
            "479/479 - 1s - loss: 3838867968.0000 - mae: 43547.1367 - val_loss: 7184085504.0000 - val_mae: 64794.5508 - 1s/epoch - 2ms/step\n",
            "Epoch 206/500\n",
            "479/479 - 1s - loss: 3835484672.0000 - mae: 43448.9180 - val_loss: 7189892608.0000 - val_mae: 64910.3711 - 1s/epoch - 3ms/step\n",
            "Epoch 207/500\n",
            "479/479 - 1s - loss: 3833629184.0000 - mae: 43459.1172 - val_loss: 7206822912.0000 - val_mae: 64947.2266 - 942ms/epoch - 2ms/step\n",
            "Epoch 208/500\n",
            "479/479 - 1s - loss: 3831298560.0000 - mae: 43430.8281 - val_loss: 7158896128.0000 - val_mae: 64795.5625 - 835ms/epoch - 2ms/step\n",
            "Epoch 209/500\n",
            "479/479 - 1s - loss: 3828573184.0000 - mae: 43404.5430 - val_loss: 7137490432.0000 - val_mae: 64669.1445 - 852ms/epoch - 2ms/step\n",
            "Epoch 210/500\n",
            "479/479 - 1s - loss: 3825680384.0000 - mae: 43456.4453 - val_loss: 7181495808.0000 - val_mae: 64860.9492 - 844ms/epoch - 2ms/step\n",
            "Epoch 211/500\n",
            "479/479 - 1s - loss: 3823143168.0000 - mae: 43350.4453 - val_loss: 7154059264.0000 - val_mae: 64766.0938 - 927ms/epoch - 2ms/step\n",
            "Epoch 212/500\n",
            "479/479 - 1s - loss: 3819550976.0000 - mae: 43367.6680 - val_loss: 7198884352.0000 - val_mae: 64930.0859 - 923ms/epoch - 2ms/step\n",
            "Epoch 213/500\n",
            "479/479 - 1s - loss: 3816569600.0000 - mae: 43365.2070 - val_loss: 7186858496.0000 - val_mae: 64874.0781 - 929ms/epoch - 2ms/step\n",
            "Epoch 214/500\n",
            "479/479 - 1s - loss: 3813368832.0000 - mae: 43278.9219 - val_loss: 7207172096.0000 - val_mae: 64968.5352 - 932ms/epoch - 2ms/step\n",
            "Epoch 215/500\n",
            "479/479 - 1s - loss: 3809744384.0000 - mae: 43291.2500 - val_loss: 7225391616.0000 - val_mae: 64995.0430 - 852ms/epoch - 2ms/step\n",
            "Epoch 216/500\n",
            "479/479 - 1s - loss: 3808062208.0000 - mae: 43244.1758 - val_loss: 7176516608.0000 - val_mae: 64851.5781 - 913ms/epoch - 2ms/step\n",
            "Epoch 217/500\n",
            "479/479 - 1s - loss: 3805119232.0000 - mae: 43281.3594 - val_loss: 7229593088.0000 - val_mae: 65074.3750 - 829ms/epoch - 2ms/step\n",
            "Epoch 218/500\n",
            "479/479 - 1s - loss: 3801758976.0000 - mae: 43273.5586 - val_loss: 7275420672.0000 - val_mae: 65227.2695 - 1s/epoch - 2ms/step\n",
            "Epoch 219/500\n",
            "479/479 - 1s - loss: 3800162048.0000 - mae: 43165.2969 - val_loss: 7238669312.0000 - val_mae: 65114.0312 - 1s/epoch - 3ms/step\n",
            "Epoch 220/500\n",
            "479/479 - 1s - loss: 3796248064.0000 - mae: 43214.8203 - val_loss: 7220454912.0000 - val_mae: 65052.9922 - 1s/epoch - 2ms/step\n",
            "Epoch 221/500\n",
            "479/479 - 1s - loss: 3793718784.0000 - mae: 43172.4180 - val_loss: 7221532672.0000 - val_mae: 65034.5781 - 864ms/epoch - 2ms/step\n",
            "Epoch 222/500\n",
            "479/479 - 1s - loss: 3790564864.0000 - mae: 43148.9922 - val_loss: 7212558848.0000 - val_mae: 64936.9805 - 877ms/epoch - 2ms/step\n",
            "Epoch 223/500\n",
            "479/479 - 1s - loss: 3787531264.0000 - mae: 43148.2969 - val_loss: 7213649408.0000 - val_mae: 64999.0820 - 972ms/epoch - 2ms/step\n",
            "Epoch 224/500\n",
            "479/479 - 1s - loss: 3784689920.0000 - mae: 43136.7891 - val_loss: 7267637760.0000 - val_mae: 65219.5859 - 991ms/epoch - 2ms/step\n",
            "Epoch 225/500\n",
            "479/479 - 1s - loss: 3782528512.0000 - mae: 43066.7773 - val_loss: 7259437056.0000 - val_mae: 65157.0391 - 914ms/epoch - 2ms/step\n",
            "Epoch 226/500\n",
            "479/479 - 1s - loss: 3778191872.0000 - mae: 43076.0820 - val_loss: 7297449472.0000 - val_mae: 65306.8477 - 862ms/epoch - 2ms/step\n",
            "Epoch 227/500\n",
            "479/479 - 1s - loss: 3776141568.0000 - mae: 43086.3984 - val_loss: 7351379968.0000 - val_mae: 65504.8945 - 851ms/epoch - 2ms/step\n",
            "Epoch 228/500\n",
            "479/479 - 1s - loss: 3774335744.0000 - mae: 43016.9336 - val_loss: 7277223424.0000 - val_mae: 65260.5781 - 922ms/epoch - 2ms/step\n",
            "Epoch 229/500\n",
            "479/479 - 1s - loss: 3770649600.0000 - mae: 43006.1641 - val_loss: 7283093504.0000 - val_mae: 65322.0273 - 941ms/epoch - 2ms/step\n",
            "Epoch 230/500\n",
            "479/479 - 1s - loss: 3768826880.0000 - mae: 43028.2578 - val_loss: 7317275648.0000 - val_mae: 65411.8203 - 884ms/epoch - 2ms/step\n",
            "Epoch 231/500\n",
            "479/479 - 1s - loss: 3764411648.0000 - mae: 42962.2188 - val_loss: 7313778176.0000 - val_mae: 65427.0039 - 1s/epoch - 2ms/step\n",
            "Epoch 232/500\n",
            "479/479 - 1s - loss: 3761259776.0000 - mae: 42937.9102 - val_loss: 7288247296.0000 - val_mae: 65271.7773 - 1s/epoch - 3ms/step\n",
            "Epoch 233/500\n",
            "479/479 - 1s - loss: 3758954240.0000 - mae: 42972.4570 - val_loss: 7293998080.0000 - val_mae: 65267.7656 - 1s/epoch - 2ms/step\n",
            "Epoch 234/500\n",
            "479/479 - 1s - loss: 3756296960.0000 - mae: 42941.2266 - val_loss: 7324474368.0000 - val_mae: 65406.4844 - 941ms/epoch - 2ms/step\n",
            "Epoch 235/500\n",
            "479/479 - 1s - loss: 3752973312.0000 - mae: 42888.2656 - val_loss: 7324938240.0000 - val_mae: 65421.4414 - 927ms/epoch - 2ms/step\n",
            "Epoch 236/500\n",
            "479/479 - 1s - loss: 3750602496.0000 - mae: 42829.1328 - val_loss: 7314223616.0000 - val_mae: 65409.2266 - 894ms/epoch - 2ms/step\n",
            "Epoch 237/500\n",
            "479/479 - 1s - loss: 3747436288.0000 - mae: 42878.7617 - val_loss: 7328887296.0000 - val_mae: 65423.2734 - 899ms/epoch - 2ms/step\n",
            "Epoch 238/500\n",
            "479/479 - 1s - loss: 3743656960.0000 - mae: 42829.0352 - val_loss: 7383508480.0000 - val_mae: 65694.8750 - 865ms/epoch - 2ms/step\n",
            "Epoch 239/500\n",
            "479/479 - 1s - loss: 3741098496.0000 - mae: 42845.2070 - val_loss: 7361207808.0000 - val_mae: 65567.3828 - 947ms/epoch - 2ms/step\n",
            "Epoch 240/500\n",
            "479/479 - 1s - loss: 3739964416.0000 - mae: 42793.2422 - val_loss: 7316746240.0000 - val_mae: 65430.0312 - 843ms/epoch - 2ms/step\n",
            "Epoch 241/500\n",
            "479/479 - 1s - loss: 3736390400.0000 - mae: 42773.8242 - val_loss: 7312942592.0000 - val_mae: 65419.6406 - 926ms/epoch - 2ms/step\n",
            "Epoch 242/500\n",
            "479/479 - 1s - loss: 3733716736.0000 - mae: 42775.8320 - val_loss: 7383864832.0000 - val_mae: 65655.9062 - 851ms/epoch - 2ms/step\n",
            "Epoch 243/500\n",
            "479/479 - 1s - loss: 3731002112.0000 - mae: 42723.0742 - val_loss: 7357535232.0000 - val_mae: 65544.2344 - 940ms/epoch - 2ms/step\n",
            "Epoch 244/500\n",
            "479/479 - 1s - loss: 3728096512.0000 - mae: 42740.9336 - val_loss: 7362121216.0000 - val_mae: 65481.7461 - 1s/epoch - 3ms/step\n",
            "Epoch 245/500\n",
            "479/479 - 1s - loss: 3725637120.0000 - mae: 42666.9766 - val_loss: 7288186880.0000 - val_mae: 65321.8633 - 1s/epoch - 3ms/step\n",
            "Epoch 246/500\n",
            "479/479 - 1s - loss: 3722761728.0000 - mae: 42736.1641 - val_loss: 7380811264.0000 - val_mae: 65602.9062 - 895ms/epoch - 2ms/step\n",
            "Epoch 247/500\n",
            "479/479 - 1s - loss: 3720260096.0000 - mae: 42627.7578 - val_loss: 7355673600.0000 - val_mae: 65506.0195 - 857ms/epoch - 2ms/step\n",
            "Epoch 248/500\n",
            "479/479 - 1s - loss: 3717111808.0000 - mae: 42629.5234 - val_loss: 7328330752.0000 - val_mae: 65382.8555 - 864ms/epoch - 2ms/step\n",
            "Epoch 249/500\n",
            "479/479 - 1s - loss: 3715428864.0000 - mae: 42665.8125 - val_loss: 7383207424.0000 - val_mae: 65637.4609 - 854ms/epoch - 2ms/step\n",
            "Epoch 250/500\n",
            "479/479 - 1s - loss: 3711834368.0000 - mae: 42588.7656 - val_loss: 7321887744.0000 - val_mae: 65419.8906 - 850ms/epoch - 2ms/step\n",
            "Epoch 251/500\n",
            "479/479 - 1s - loss: 3708994304.0000 - mae: 42563.9805 - val_loss: 7345437184.0000 - val_mae: 65491.8008 - 958ms/epoch - 2ms/step\n",
            "Epoch 252/500\n",
            "479/479 - 1s - loss: 3706688256.0000 - mae: 42602.1914 - val_loss: 7381228032.0000 - val_mae: 65602.2969 - 856ms/epoch - 2ms/step\n",
            "Epoch 253/500\n",
            "479/479 - 1s - loss: 3703810816.0000 - mae: 42552.6289 - val_loss: 7418101760.0000 - val_mae: 65716.4688 - 916ms/epoch - 2ms/step\n",
            "Epoch 254/500\n",
            "479/479 - 1s - loss: 3701704704.0000 - mae: 42517.7852 - val_loss: 7351442944.0000 - val_mae: 65517.7266 - 856ms/epoch - 2ms/step\n",
            "Epoch 255/500\n",
            "479/479 - 1s - loss: 3699820544.0000 - mae: 42473.4844 - val_loss: 7377341952.0000 - val_mae: 65593.6719 - 950ms/epoch - 2ms/step\n",
            "Epoch 256/500\n",
            "479/479 - 1s - loss: 3696117760.0000 - mae: 42486.4102 - val_loss: 7397605376.0000 - val_mae: 65607.4375 - 936ms/epoch - 2ms/step\n",
            "Epoch 257/500\n",
            "479/479 - 1s - loss: 3693448192.0000 - mae: 42458.2305 - val_loss: 7381078016.0000 - val_mae: 65568.7344 - 1s/epoch - 2ms/step\n",
            "Epoch 258/500\n",
            "479/479 - 1s - loss: 3690178816.0000 - mae: 42413.2656 - val_loss: 7365099008.0000 - val_mae: 65490.8828 - 1s/epoch - 3ms/step\n",
            "Epoch 259/500\n",
            "479/479 - 1s - loss: 3686866944.0000 - mae: 42486.0469 - val_loss: 7415894016.0000 - val_mae: 65643.7344 - 990ms/epoch - 2ms/step\n",
            "Epoch 260/500\n",
            "479/479 - 1s - loss: 3683779840.0000 - mae: 42361.0117 - val_loss: 7352096768.0000 - val_mae: 65505.6523 - 865ms/epoch - 2ms/step\n",
            "Epoch 261/500\n",
            "479/479 - 1s - loss: 3681990656.0000 - mae: 42377.9141 - val_loss: 7359731200.0000 - val_mae: 65421.9766 - 843ms/epoch - 2ms/step\n",
            "Epoch 262/500\n",
            "479/479 - 1s - loss: 3679716352.0000 - mae: 42368.4219 - val_loss: 7397751296.0000 - val_mae: 65562.6562 - 886ms/epoch - 2ms/step\n",
            "Epoch 263/500\n",
            "479/479 - 1s - loss: 3675672832.0000 - mae: 42382.8281 - val_loss: 7395519488.0000 - val_mae: 65587.2109 - 933ms/epoch - 2ms/step\n",
            "Epoch 264/500\n",
            "479/479 - 1s - loss: 3673650688.0000 - mae: 42271.4961 - val_loss: 7350225408.0000 - val_mae: 65461.4531 - 941ms/epoch - 2ms/step\n",
            "Epoch 265/500\n",
            "479/479 - 1s - loss: 3671085056.0000 - mae: 42305.5391 - val_loss: 7341671424.0000 - val_mae: 65435.9062 - 832ms/epoch - 2ms/step\n",
            "Epoch 266/500\n",
            "479/479 - 1s - loss: 3669262336.0000 - mae: 42283.4766 - val_loss: 7385081856.0000 - val_mae: 65564.4062 - 859ms/epoch - 2ms/step\n",
            "Epoch 267/500\n",
            "479/479 - 1s - loss: 3665450240.0000 - mae: 42273.1797 - val_loss: 7402411008.0000 - val_mae: 65640.3750 - 865ms/epoch - 2ms/step\n",
            "Epoch 268/500\n",
            "479/479 - 1s - loss: 3663089408.0000 - mae: 42242.8750 - val_loss: 7447606272.0000 - val_mae: 65749.0469 - 829ms/epoch - 2ms/step\n",
            "Epoch 269/500\n",
            "479/479 - 1s - loss: 3659456256.0000 - mae: 42291.4883 - val_loss: 7436225024.0000 - val_mae: 65719.1328 - 849ms/epoch - 2ms/step\n",
            "Epoch 270/500\n",
            "479/479 - 1s - loss: 3659245568.0000 - mae: 42203.6211 - val_loss: 7384484864.0000 - val_mae: 65579.9688 - 942ms/epoch - 2ms/step\n",
            "Epoch 271/500\n",
            "479/479 - 1s - loss: 3655208192.0000 - mae: 42185.1250 - val_loss: 7395194368.0000 - val_mae: 65558.1016 - 1s/epoch - 3ms/step\n",
            "Epoch 272/500\n",
            "479/479 - 1s - loss: 3651415552.0000 - mae: 42224.4883 - val_loss: 7393376768.0000 - val_mae: 65566.3281 - 1s/epoch - 3ms/step\n",
            "Epoch 273/500\n",
            "479/479 - 1s - loss: 3648768256.0000 - mae: 42155.0547 - val_loss: 7409765376.0000 - val_mae: 65640.7969 - 829ms/epoch - 2ms/step\n",
            "Epoch 274/500\n",
            "479/479 - 1s - loss: 3648282624.0000 - mae: 42134.1133 - val_loss: 7412697088.0000 - val_mae: 65647.0234 - 911ms/epoch - 2ms/step\n",
            "Epoch 275/500\n",
            "479/479 - 1s - loss: 3643357696.0000 - mae: 42135.9609 - val_loss: 7409547776.0000 - val_mae: 65619.8281 - 827ms/epoch - 2ms/step\n",
            "Epoch 276/500\n",
            "479/479 - 1s - loss: 3641622784.0000 - mae: 42078.5977 - val_loss: 7372498944.0000 - val_mae: 65403.1719 - 801ms/epoch - 2ms/step\n",
            "Epoch 277/500\n",
            "479/479 - 1s - loss: 3638839040.0000 - mae: 42096.2305 - val_loss: 7353581568.0000 - val_mae: 65375.3633 - 838ms/epoch - 2ms/step\n",
            "Epoch 278/500\n",
            "479/479 - 1s - loss: 3635691520.0000 - mae: 42059.4219 - val_loss: 7368229888.0000 - val_mae: 65417.4180 - 928ms/epoch - 2ms/step\n",
            "Epoch 279/500\n",
            "479/479 - 1s - loss: 3633394176.0000 - mae: 42034.5938 - val_loss: 7387666432.0000 - val_mae: 65501.4766 - 871ms/epoch - 2ms/step\n",
            "Epoch 280/500\n",
            "479/479 - 1s - loss: 3630575104.0000 - mae: 41984.0039 - val_loss: 7415604736.0000 - val_mae: 65588.0156 - 925ms/epoch - 2ms/step\n",
            "Epoch 281/500\n",
            "479/479 - 1s - loss: 3628199680.0000 - mae: 42018.3398 - val_loss: 7371641856.0000 - val_mae: 65390.7891 - 872ms/epoch - 2ms/step\n",
            "Epoch 282/500\n",
            "479/479 - 1s - loss: 3625145344.0000 - mae: 42014.8281 - val_loss: 7378940416.0000 - val_mae: 65347.0508 - 858ms/epoch - 2ms/step\n",
            "Epoch 283/500\n",
            "479/479 - 1s - loss: 3622512384.0000 - mae: 41965.9102 - val_loss: 7349642752.0000 - val_mae: 65306.8281 - 933ms/epoch - 2ms/step\n",
            "Epoch 284/500\n",
            "479/479 - 1s - loss: 3620616704.0000 - mae: 41920.7852 - val_loss: 7344512000.0000 - val_mae: 65293.3516 - 1s/epoch - 3ms/step\n",
            "Epoch 285/500\n",
            "479/479 - 1s - loss: 3617364992.0000 - mae: 41953.9609 - val_loss: 7353977856.0000 - val_mae: 65309.3750 - 1s/epoch - 3ms/step\n",
            "Epoch 286/500\n",
            "479/479 - 1s - loss: 3615342080.0000 - mae: 41899.2383 - val_loss: 7363880448.0000 - val_mae: 65371.9258 - 868ms/epoch - 2ms/step\n",
            "Epoch 287/500\n",
            "479/479 - 1s - loss: 3611915776.0000 - mae: 41875.8125 - val_loss: 7329515520.0000 - val_mae: 65207.8555 - 881ms/epoch - 2ms/step\n",
            "Epoch 288/500\n",
            "479/479 - 1s - loss: 3610437120.0000 - mae: 41895.7969 - val_loss: 7342858240.0000 - val_mae: 65309.6602 - 938ms/epoch - 2ms/step\n",
            "Epoch 289/500\n",
            "479/479 - 1s - loss: 3606689792.0000 - mae: 41885.2734 - val_loss: 7373869056.0000 - val_mae: 65379.2109 - 947ms/epoch - 2ms/step\n",
            "Epoch 290/500\n",
            "479/479 - 1s - loss: 3604826880.0000 - mae: 41831.1289 - val_loss: 7310063104.0000 - val_mae: 65110.5781 - 986ms/epoch - 2ms/step\n",
            "Epoch 291/500\n",
            "479/479 - 1s - loss: 3601591808.0000 - mae: 41804.5000 - val_loss: 7366410240.0000 - val_mae: 65286.5586 - 870ms/epoch - 2ms/step\n",
            "Epoch 292/500\n",
            "479/479 - 1s - loss: 3599172096.0000 - mae: 41810.5195 - val_loss: 7303207424.0000 - val_mae: 65119.8867 - 903ms/epoch - 2ms/step\n",
            "Epoch 293/500\n",
            "479/479 - 1s - loss: 3596468480.0000 - mae: 41737.9219 - val_loss: 7257990144.0000 - val_mae: 64959.8477 - 858ms/epoch - 2ms/step\n",
            "Epoch 294/500\n",
            "479/479 - 1s - loss: 3594141696.0000 - mae: 41774.7812 - val_loss: 7293367296.0000 - val_mae: 65107.8086 - 841ms/epoch - 2ms/step\n",
            "Epoch 295/500\n",
            "479/479 - 1s - loss: 3590191616.0000 - mae: 41766.1055 - val_loss: 7348152832.0000 - val_mae: 65199.6719 - 933ms/epoch - 2ms/step\n",
            "Epoch 296/500\n",
            "479/479 - 1s - loss: 3588807168.0000 - mae: 41684.1758 - val_loss: 7321334272.0000 - val_mae: 65134.3047 - 955ms/epoch - 2ms/step\n",
            "Epoch 297/500\n",
            "479/479 - 1s - loss: 3585316352.0000 - mae: 41718.0078 - val_loss: 7283241984.0000 - val_mae: 65035.3594 - 1s/epoch - 3ms/step\n",
            "Epoch 298/500\n",
            "479/479 - 1s - loss: 3583181568.0000 - mae: 41675.3516 - val_loss: 7291864064.0000 - val_mae: 65063.8438 - 1s/epoch - 3ms/step\n",
            "Epoch 299/500\n",
            "479/479 - 1s - loss: 3580210944.0000 - mae: 41694.9180 - val_loss: 7307999744.0000 - val_mae: 65120.5508 - 946ms/epoch - 2ms/step\n",
            "Epoch 300/500\n",
            "479/479 - 1s - loss: 3577353216.0000 - mae: 41632.6406 - val_loss: 7269755904.0000 - val_mae: 64970.7617 - 935ms/epoch - 2ms/step\n",
            "Epoch 301/500\n",
            "479/479 - 1s - loss: 3574696448.0000 - mae: 41651.5742 - val_loss: 7281974784.0000 - val_mae: 64961.7148 - 876ms/epoch - 2ms/step\n",
            "Epoch 302/500\n",
            "479/479 - 1s - loss: 3571366144.0000 - mae: 41588.6992 - val_loss: 7243788800.0000 - val_mae: 64837.0273 - 843ms/epoch - 2ms/step\n",
            "Epoch 303/500\n",
            "479/479 - 1s - loss: 3569311744.0000 - mae: 41582.2773 - val_loss: 7268036608.0000 - val_mae: 64915.9297 - 933ms/epoch - 2ms/step\n",
            "Epoch 304/500\n",
            "479/479 - 1s - loss: 3566707712.0000 - mae: 41568.6875 - val_loss: 7272493056.0000 - val_mae: 64914.8125 - 871ms/epoch - 2ms/step\n",
            "Epoch 305/500\n",
            "479/479 - 1s - loss: 3563090688.0000 - mae: 41519.9531 - val_loss: 7263205376.0000 - val_mae: 64838.8516 - 846ms/epoch - 2ms/step\n",
            "Epoch 306/500\n",
            "479/479 - 1s - loss: 3561099776.0000 - mae: 41506.1172 - val_loss: 7212910080.0000 - val_mae: 64636.6133 - 877ms/epoch - 2ms/step\n",
            "Epoch 307/500\n",
            "479/479 - 1s - loss: 3558493184.0000 - mae: 41509.9844 - val_loss: 7208977408.0000 - val_mae: 64663.7852 - 934ms/epoch - 2ms/step\n",
            "Epoch 308/500\n",
            "479/479 - 1s - loss: 3555368448.0000 - mae: 41489.2930 - val_loss: 7250460672.0000 - val_mae: 64869.3555 - 891ms/epoch - 2ms/step\n",
            "Epoch 309/500\n",
            "479/479 - 1s - loss: 3553360896.0000 - mae: 41470.9453 - val_loss: 7232483840.0000 - val_mae: 64768.8008 - 1s/epoch - 2ms/step\n",
            "Epoch 310/500\n",
            "479/479 - 1s - loss: 3551124224.0000 - mae: 41440.0156 - val_loss: 7217208832.0000 - val_mae: 64707.2695 - 1s/epoch - 3ms/step\n",
            "Epoch 311/500\n",
            "479/479 - 1s - loss: 3547932160.0000 - mae: 41433.4727 - val_loss: 7196935680.0000 - val_mae: 64721.4766 - 1s/epoch - 2ms/step\n",
            "Epoch 312/500\n",
            "479/479 - 1s - loss: 3545060864.0000 - mae: 41467.3359 - val_loss: 7215546880.0000 - val_mae: 64730.1367 - 889ms/epoch - 2ms/step\n",
            "Epoch 313/500\n",
            "479/479 - 1s - loss: 3543466240.0000 - mae: 41352.7227 - val_loss: 7205545984.0000 - val_mae: 64684.8789 - 826ms/epoch - 2ms/step\n",
            "Epoch 314/500\n",
            "479/479 - 1s - loss: 3540331520.0000 - mae: 41400.5117 - val_loss: 7202393600.0000 - val_mae: 64633.2031 - 841ms/epoch - 2ms/step\n",
            "Epoch 315/500\n",
            "479/479 - 1s - loss: 3538247424.0000 - mae: 41331.3086 - val_loss: 7184319488.0000 - val_mae: 64518.6016 - 871ms/epoch - 2ms/step\n",
            "Epoch 316/500\n",
            "479/479 - 1s - loss: 3535566848.0000 - mae: 41301.4727 - val_loss: 7139524608.0000 - val_mae: 64448.5430 - 849ms/epoch - 2ms/step\n",
            "Epoch 317/500\n",
            "479/479 - 1s - loss: 3533238016.0000 - mae: 41347.7227 - val_loss: 7134652928.0000 - val_mae: 64419.1289 - 940ms/epoch - 2ms/step\n",
            "Epoch 318/500\n",
            "479/479 - 1s - loss: 3531095552.0000 - mae: 41277.0859 - val_loss: 7118234624.0000 - val_mae: 64317.6250 - 904ms/epoch - 2ms/step\n",
            "Epoch 319/500\n",
            "479/479 - 1s - loss: 3527579904.0000 - mae: 41282.5352 - val_loss: 7092827648.0000 - val_mae: 64309.7031 - 841ms/epoch - 2ms/step\n",
            "Epoch 320/500\n",
            "479/479 - 1s - loss: 3525335552.0000 - mae: 41280.7227 - val_loss: 7110156288.0000 - val_mae: 64278.2930 - 824ms/epoch - 2ms/step\n",
            "Epoch 321/500\n",
            "479/479 - 1s - loss: 3521842432.0000 - mae: 41231.7812 - val_loss: 7103827456.0000 - val_mae: 64269.1211 - 849ms/epoch - 2ms/step\n",
            "Epoch 322/500\n",
            "479/479 - 1s - loss: 3520614144.0000 - mae: 41273.3203 - val_loss: 7099929600.0000 - val_mae: 64244.5430 - 931ms/epoch - 2ms/step\n",
            "Epoch 323/500\n",
            "479/479 - 1s - loss: 3518160640.0000 - mae: 41224.4609 - val_loss: 7086684160.0000 - val_mae: 64155.9453 - 1s/epoch - 3ms/step\n",
            "Epoch 324/500\n",
            "479/479 - 1s - loss: 3516127744.0000 - mae: 41185.5742 - val_loss: 7056357888.0000 - val_mae: 64076.6406 - 1s/epoch - 3ms/step\n",
            "Epoch 325/500\n",
            "479/479 - 1s - loss: 3512459520.0000 - mae: 41204.3438 - val_loss: 7092407296.0000 - val_mae: 64238.4141 - 877ms/epoch - 2ms/step\n",
            "Epoch 326/500\n",
            "479/479 - 1s - loss: 3512066816.0000 - mae: 41159.7070 - val_loss: 7083567616.0000 - val_mae: 64154.2500 - 905ms/epoch - 2ms/step\n",
            "Epoch 327/500\n",
            "479/479 - 1s - loss: 3508326144.0000 - mae: 41122.1445 - val_loss: 7074314752.0000 - val_mae: 64140.4062 - 886ms/epoch - 2ms/step\n",
            "Epoch 328/500\n",
            "479/479 - 1s - loss: 3505730304.0000 - mae: 41124.0625 - val_loss: 7093219328.0000 - val_mae: 64181.0547 - 879ms/epoch - 2ms/step\n",
            "Epoch 329/500\n",
            "479/479 - 1s - loss: 3503134464.0000 - mae: 41070.2031 - val_loss: 7057081856.0000 - val_mae: 64133.0781 - 963ms/epoch - 2ms/step\n",
            "Epoch 330/500\n",
            "479/479 - 1s - loss: 3500353024.0000 - mae: 41090.5508 - val_loss: 7018285056.0000 - val_mae: 63962.7266 - 952ms/epoch - 2ms/step\n",
            "Epoch 331/500\n",
            "479/479 - 1s - loss: 3498652416.0000 - mae: 41097.3086 - val_loss: 7042534912.0000 - val_mae: 64053.4453 - 960ms/epoch - 2ms/step\n",
            "Epoch 332/500\n",
            "479/479 - 1s - loss: 3495202304.0000 - mae: 41017.9062 - val_loss: 7018525696.0000 - val_mae: 63997.7422 - 875ms/epoch - 2ms/step\n",
            "Epoch 333/500\n",
            "479/479 - 1s - loss: 3493403136.0000 - mae: 41077.1367 - val_loss: 7007529984.0000 - val_mae: 63842.9258 - 887ms/epoch - 2ms/step\n",
            "Epoch 334/500\n",
            "479/479 - 1s - loss: 3491385088.0000 - mae: 41010.6250 - val_loss: 6989260288.0000 - val_mae: 63847.8906 - 953ms/epoch - 2ms/step\n",
            "Epoch 335/500\n",
            "479/479 - 1s - loss: 3487604992.0000 - mae: 40991.3477 - val_loss: 7013987840.0000 - val_mae: 63923.3047 - 1s/epoch - 2ms/step\n",
            "Epoch 336/500\n",
            "479/479 - 1s - loss: 3485598208.0000 - mae: 41037.0078 - val_loss: 7052334080.0000 - val_mae: 64054.5508 - 1s/epoch - 3ms/step\n",
            "Epoch 337/500\n",
            "479/479 - 1s - loss: 3483184128.0000 - mae: 40974.6328 - val_loss: 7024978944.0000 - val_mae: 63892.8438 - 1s/epoch - 2ms/step\n",
            "Epoch 338/500\n",
            "479/479 - 1s - loss: 3480463872.0000 - mae: 40952.3359 - val_loss: 7014416896.0000 - val_mae: 63867.7930 - 944ms/epoch - 2ms/step\n",
            "Epoch 339/500\n",
            "479/479 - 1s - loss: 3478380288.0000 - mae: 40900.5703 - val_loss: 6964285952.0000 - val_mae: 63757.2617 - 864ms/epoch - 2ms/step\n",
            "Epoch 340/500\n",
            "479/479 - 1s - loss: 3474921472.0000 - mae: 40902.0195 - val_loss: 6927534080.0000 - val_mae: 63642.7109 - 855ms/epoch - 2ms/step\n",
            "Epoch 341/500\n",
            "479/479 - 1s - loss: 3473631488.0000 - mae: 40910.7070 - val_loss: 6940106240.0000 - val_mae: 63680.9492 - 952ms/epoch - 2ms/step\n",
            "Epoch 342/500\n",
            "479/479 - 1s - loss: 3470620416.0000 - mae: 40920.5547 - val_loss: 6975549952.0000 - val_mae: 63711.0742 - 878ms/epoch - 2ms/step\n",
            "Epoch 343/500\n",
            "479/479 - 1s - loss: 3467400960.0000 - mae: 40801.7578 - val_loss: 6887097856.0000 - val_mae: 63501.2461 - 909ms/epoch - 2ms/step\n",
            "Epoch 344/500\n",
            "479/479 - 1s - loss: 3463391232.0000 - mae: 40886.6055 - val_loss: 6930255872.0000 - val_mae: 63655.6523 - 934ms/epoch - 2ms/step\n",
            "Epoch 345/500\n",
            "479/479 - 1s - loss: 3463794176.0000 - mae: 40820.3711 - val_loss: 6908361216.0000 - val_mae: 63568.5273 - 859ms/epoch - 2ms/step\n",
            "Epoch 346/500\n",
            "479/479 - 1s - loss: 3460172032.0000 - mae: 40822.9844 - val_loss: 6918493184.0000 - val_mae: 63571.9102 - 873ms/epoch - 2ms/step\n",
            "Epoch 347/500\n",
            "479/479 - 1s - loss: 3457769216.0000 - mae: 40791.2070 - val_loss: 6916808704.0000 - val_mae: 63508.5547 - 867ms/epoch - 2ms/step\n",
            "Epoch 348/500\n",
            "479/479 - 1s - loss: 3456535552.0000 - mae: 40755.9766 - val_loss: 6904893952.0000 - val_mae: 63543.6250 - 1s/epoch - 3ms/step\n",
            "Epoch 349/500\n",
            "479/479 - 1s - loss: 3452850176.0000 - mae: 40766.4453 - val_loss: 6882136576.0000 - val_mae: 63438.6953 - 1s/epoch - 3ms/step\n",
            "Epoch 350/500\n",
            "479/479 - 1s - loss: 3450938880.0000 - mae: 40741.3359 - val_loss: 6867238400.0000 - val_mae: 63415.9492 - 896ms/epoch - 2ms/step\n",
            "Epoch 351/500\n",
            "479/479 - 1s - loss: 3448290560.0000 - mae: 40698.0625 - val_loss: 6848033792.0000 - val_mae: 63388.7852 - 833ms/epoch - 2ms/step\n",
            "Epoch 352/500\n",
            "479/479 - 1s - loss: 3447140608.0000 - mae: 40736.3867 - val_loss: 6853391360.0000 - val_mae: 63356.8008 - 920ms/epoch - 2ms/step\n",
            "Epoch 353/500\n",
            "479/479 - 1s - loss: 3444376576.0000 - mae: 40722.2109 - val_loss: 6878704640.0000 - val_mae: 63423.4961 - 879ms/epoch - 2ms/step\n",
            "Epoch 354/500\n",
            "479/479 - 1s - loss: 3441354496.0000 - mae: 40710.7852 - val_loss: 6881838080.0000 - val_mae: 63400.0000 - 949ms/epoch - 2ms/step\n",
            "Epoch 355/500\n",
            "479/479 - 1s - loss: 3440314624.0000 - mae: 40656.0742 - val_loss: 6846925312.0000 - val_mae: 63332.0273 - 925ms/epoch - 2ms/step\n",
            "Epoch 356/500\n",
            "479/479 - 1s - loss: 3438274048.0000 - mae: 40655.8945 - val_loss: 6847572992.0000 - val_mae: 63345.8359 - 882ms/epoch - 2ms/step\n",
            "Epoch 357/500\n",
            "479/479 - 1s - loss: 3435190272.0000 - mae: 40651.3203 - val_loss: 6856276480.0000 - val_mae: 63368.6016 - 920ms/epoch - 2ms/step\n",
            "Epoch 358/500\n",
            "479/479 - 1s - loss: 3432646400.0000 - mae: 40651.9883 - val_loss: 6838249984.0000 - val_mae: 63296.1992 - 942ms/epoch - 2ms/step\n",
            "Epoch 359/500\n",
            "479/479 - 1s - loss: 3430374144.0000 - mae: 40581.8867 - val_loss: 6829134848.0000 - val_mae: 63215.7695 - 896ms/epoch - 2ms/step\n",
            "Epoch 360/500\n",
            "479/479 - 1s - loss: 3429560064.0000 - mae: 40595.1484 - val_loss: 6852416000.0000 - val_mae: 63377.9219 - 900ms/epoch - 2ms/step\n",
            "Epoch 361/500\n",
            "479/479 - 1s - loss: 3427236352.0000 - mae: 40586.1992 - val_loss: 6848351744.0000 - val_mae: 63421.7930 - 1s/epoch - 3ms/step\n",
            "Epoch 362/500\n",
            "479/479 - 1s - loss: 3424513792.0000 - mae: 40560.4805 - val_loss: 6833513472.0000 - val_mae: 63333.6172 - 1s/epoch - 3ms/step\n",
            "Epoch 363/500\n",
            "479/479 - 1s - loss: 3421619200.0000 - mae: 40560.5352 - val_loss: 6852687872.0000 - val_mae: 63338.9219 - 993ms/epoch - 2ms/step\n",
            "Epoch 364/500\n",
            "479/479 - 1s - loss: 3419391744.0000 - mae: 40526.3711 - val_loss: 6811784704.0000 - val_mae: 63220.5664 - 917ms/epoch - 2ms/step\n",
            "Epoch 365/500\n",
            "479/479 - 1s - loss: 3417402112.0000 - mae: 40492.5234 - val_loss: 6825515520.0000 - val_mae: 63200.0000 - 834ms/epoch - 2ms/step\n",
            "Epoch 366/500\n",
            "479/479 - 1s - loss: 3415016448.0000 - mae: 40501.6680 - val_loss: 6792359424.0000 - val_mae: 63197.1250 - 934ms/epoch - 2ms/step\n",
            "Epoch 367/500\n",
            "479/479 - 1s - loss: 3412973056.0000 - mae: 40547.6172 - val_loss: 6841420288.0000 - val_mae: 63284.0781 - 926ms/epoch - 2ms/step\n",
            "Epoch 368/500\n",
            "479/479 - 1s - loss: 3410675456.0000 - mae: 40449.0430 - val_loss: 6824968192.0000 - val_mae: 63285.6562 - 876ms/epoch - 2ms/step\n",
            "Epoch 369/500\n",
            "479/479 - 1s - loss: 3408997376.0000 - mae: 40446.9570 - val_loss: 6808335872.0000 - val_mae: 63292.3906 - 853ms/epoch - 2ms/step\n",
            "Epoch 370/500\n",
            "479/479 - 1s - loss: 3407548416.0000 - mae: 40470.5078 - val_loss: 6821405184.0000 - val_mae: 63317.1484 - 926ms/epoch - 2ms/step\n",
            "Epoch 371/500\n",
            "479/479 - 1s - loss: 3404546048.0000 - mae: 40415.0781 - val_loss: 6868047360.0000 - val_mae: 63393.2031 - 850ms/epoch - 2ms/step\n",
            "Epoch 372/500\n",
            "479/479 - 1s - loss: 3402302464.0000 - mae: 40437.3789 - val_loss: 6842339840.0000 - val_mae: 63362.8828 - 874ms/epoch - 2ms/step\n",
            "Epoch 373/500\n",
            "479/479 - 1s - loss: 3400256256.0000 - mae: 40363.5938 - val_loss: 6812803584.0000 - val_mae: 63312.6133 - 906ms/epoch - 2ms/step\n",
            "Epoch 374/500\n",
            "479/479 - 1s - loss: 3397732864.0000 - mae: 40369.2422 - val_loss: 6765985792.0000 - val_mae: 63167.4414 - 1s/epoch - 2ms/step\n",
            "Epoch 375/500\n",
            "479/479 - 1s - loss: 3396631040.0000 - mae: 40431.4180 - val_loss: 6794211840.0000 - val_mae: 63187.4336 - 1s/epoch - 3ms/step\n",
            "Epoch 376/500\n",
            "479/479 - 1s - loss: 3394403328.0000 - mae: 40322.6602 - val_loss: 6834023936.0000 - val_mae: 63283.7383 - 966ms/epoch - 2ms/step\n",
            "Epoch 377/500\n",
            "479/479 - 1s - loss: 3391705856.0000 - mae: 40330.0820 - val_loss: 6778356736.0000 - val_mae: 63182.6367 - 850ms/epoch - 2ms/step\n",
            "Epoch 378/500\n",
            "479/479 - 1s - loss: 3389393920.0000 - mae: 40328.8242 - val_loss: 6792901120.0000 - val_mae: 63167.1719 - 847ms/epoch - 2ms/step\n",
            "Epoch 379/500\n",
            "479/479 - 1s - loss: 3388373504.0000 - mae: 40363.1094 - val_loss: 6774307328.0000 - val_mae: 63212.8555 - 942ms/epoch - 2ms/step\n",
            "Epoch 380/500\n",
            "479/479 - 1s - loss: 3385504512.0000 - mae: 40349.1914 - val_loss: 6863339520.0000 - val_mae: 63400.3242 - 890ms/epoch - 2ms/step\n",
            "Epoch 381/500\n",
            "479/479 - 1s - loss: 3384343296.0000 - mae: 40268.2188 - val_loss: 6822972928.0000 - val_mae: 63320.3359 - 865ms/epoch - 2ms/step\n",
            "Epoch 382/500\n",
            "479/479 - 1s - loss: 3381184512.0000 - mae: 40252.9570 - val_loss: 6825416704.0000 - val_mae: 63299.7656 - 846ms/epoch - 2ms/step\n",
            "Epoch 383/500\n",
            "479/479 - 1s - loss: 3379676672.0000 - mae: 40283.1992 - val_loss: 6815327744.0000 - val_mae: 63290.8008 - 926ms/epoch - 2ms/step\n",
            "Epoch 384/500\n",
            "479/479 - 1s - loss: 3377601536.0000 - mae: 40194.0859 - val_loss: 6764325376.0000 - val_mae: 63150.6406 - 943ms/epoch - 2ms/step\n",
            "Epoch 385/500\n",
            "479/479 - 1s - loss: 3375744256.0000 - mae: 40210.7500 - val_loss: 6769554944.0000 - val_mae: 63243.6094 - 866ms/epoch - 2ms/step\n",
            "Epoch 386/500\n",
            "479/479 - 1s - loss: 3374400512.0000 - mae: 40275.2539 - val_loss: 6784491008.0000 - val_mae: 63194.9570 - 829ms/epoch - 2ms/step\n",
            "Epoch 387/500\n",
            "479/479 - 1s - loss: 3371569920.0000 - mae: 40199.0312 - val_loss: 6778504704.0000 - val_mae: 63237.6797 - 1s/epoch - 2ms/step\n",
            "Epoch 388/500\n",
            "479/479 - 1s - loss: 3369657344.0000 - mae: 40190.0547 - val_loss: 6774497280.0000 - val_mae: 63200.2812 - 1s/epoch - 3ms/step\n",
            "Epoch 389/500\n",
            "479/479 - 1s - loss: 3368466432.0000 - mae: 40207.0781 - val_loss: 6794869760.0000 - val_mae: 63250.0625 - 1s/epoch - 2ms/step\n",
            "Epoch 390/500\n",
            "479/479 - 1s - loss: 3366212864.0000 - mae: 40138.9844 - val_loss: 6808648192.0000 - val_mae: 63299.9570 - 887ms/epoch - 2ms/step\n",
            "Epoch 391/500\n",
            "479/479 - 1s - loss: 3363856128.0000 - mae: 40174.2656 - val_loss: 6816356352.0000 - val_mae: 63367.5586 - 857ms/epoch - 2ms/step\n",
            "Epoch 392/500\n",
            "479/479 - 1s - loss: 3361912064.0000 - mae: 40148.0703 - val_loss: 6802828800.0000 - val_mae: 63333.0547 - 907ms/epoch - 2ms/step\n",
            "Epoch 393/500\n",
            "479/479 - 1s - loss: 3360200192.0000 - mae: 40148.7422 - val_loss: 6817763328.0000 - val_mae: 63421.0859 - 943ms/epoch - 2ms/step\n",
            "Epoch 394/500\n",
            "479/479 - 1s - loss: 3358970368.0000 - mae: 40091.2344 - val_loss: 6778198016.0000 - val_mae: 63208.8984 - 898ms/epoch - 2ms/step\n",
            "Epoch 395/500\n",
            "479/479 - 1s - loss: 3356908288.0000 - mae: 40095.5312 - val_loss: 6760734720.0000 - val_mae: 63212.3203 - 901ms/epoch - 2ms/step\n",
            "Epoch 396/500\n",
            "479/479 - 1s - loss: 3355060480.0000 - mae: 40113.5781 - val_loss: 6777757696.0000 - val_mae: 63341.4531 - 824ms/epoch - 2ms/step\n",
            "Epoch 397/500\n",
            "479/479 - 1s - loss: 3353185280.0000 - mae: 40071.0234 - val_loss: 6751884288.0000 - val_mae: 63190.9336 - 834ms/epoch - 2ms/step\n",
            "Epoch 398/500\n",
            "479/479 - 1s - loss: 3351451904.0000 - mae: 40070.3438 - val_loss: 6757797376.0000 - val_mae: 63184.5469 - 921ms/epoch - 2ms/step\n",
            "Epoch 399/500\n",
            "479/479 - 1s - loss: 3349442816.0000 - mae: 40086.5352 - val_loss: 6781469696.0000 - val_mae: 63186.4453 - 940ms/epoch - 2ms/step\n",
            "Epoch 400/500\n",
            "479/479 - 1s - loss: 3348354048.0000 - mae: 40034.9570 - val_loss: 6750924800.0000 - val_mae: 63154.1875 - 1s/epoch - 2ms/step\n",
            "Epoch 401/500\n",
            "479/479 - 1s - loss: 3345434112.0000 - mae: 40033.8164 - val_loss: 6782755328.0000 - val_mae: 63257.5547 - 1s/epoch - 3ms/step\n",
            "Epoch 402/500\n",
            "479/479 - 1s - loss: 3343296512.0000 - mae: 40006.8398 - val_loss: 6737519104.0000 - val_mae: 63202.5078 - 1s/epoch - 3ms/step\n",
            "Epoch 403/500\n",
            "479/479 - 1s - loss: 3341821184.0000 - mae: 40014.7344 - val_loss: 6753312768.0000 - val_mae: 63284.0469 - 917ms/epoch - 2ms/step\n",
            "Epoch 404/500\n",
            "479/479 - 1s - loss: 3340224256.0000 - mae: 40018.0547 - val_loss: 6787026432.0000 - val_mae: 63313.4180 - 830ms/epoch - 2ms/step\n",
            "Epoch 405/500\n",
            "479/479 - 1s - loss: 3338893056.0000 - mae: 39971.1328 - val_loss: 6749761536.0000 - val_mae: 63297.2227 - 916ms/epoch - 2ms/step\n",
            "Epoch 406/500\n",
            "479/479 - 1s - loss: 3336382976.0000 - mae: 39972.6797 - val_loss: 6808287232.0000 - val_mae: 63485.0664 - 925ms/epoch - 2ms/step\n",
            "Epoch 407/500\n",
            "479/479 - 1s - loss: 3335695360.0000 - mae: 39996.5859 - val_loss: 6804681728.0000 - val_mae: 63357.9609 - 914ms/epoch - 2ms/step\n",
            "Epoch 408/500\n",
            "479/479 - 1s - loss: 3333805568.0000 - mae: 39938.4883 - val_loss: 6798896640.0000 - val_mae: 63367.9219 - 938ms/epoch - 2ms/step\n",
            "Epoch 409/500\n",
            "479/479 - 1s - loss: 3331252992.0000 - mae: 39902.2344 - val_loss: 6742835712.0000 - val_mae: 63241.8008 - 871ms/epoch - 2ms/step\n",
            "Epoch 410/500\n",
            "479/479 - 1s - loss: 3330723840.0000 - mae: 39941.4375 - val_loss: 6766928384.0000 - val_mae: 63293.8008 - 930ms/epoch - 2ms/step\n",
            "Epoch 411/500\n",
            "479/479 - 1s - loss: 3328153600.0000 - mae: 39952.0742 - val_loss: 6774304256.0000 - val_mae: 63391.5078 - 927ms/epoch - 2ms/step\n",
            "Epoch 412/500\n",
            "479/479 - 1s - loss: 3326565120.0000 - mae: 39945.4141 - val_loss: 6789210112.0000 - val_mae: 63440.7852 - 917ms/epoch - 2ms/step\n",
            "Epoch 413/500\n",
            "479/479 - 1s - loss: 3325506048.0000 - mae: 39888.2344 - val_loss: 6757451776.0000 - val_mae: 63324.3008 - 1s/epoch - 2ms/step\n",
            "Epoch 414/500\n",
            "479/479 - 1s - loss: 3322868480.0000 - mae: 39883.3867 - val_loss: 6720521728.0000 - val_mae: 63266.9414 - 1s/epoch - 3ms/step\n",
            "Epoch 415/500\n",
            "479/479 - 1s - loss: 3320119296.0000 - mae: 39876.3203 - val_loss: 6774623232.0000 - val_mae: 63420.8711 - 1s/epoch - 2ms/step\n",
            "Epoch 416/500\n",
            "479/479 - 1s - loss: 3319292672.0000 - mae: 39844.9922 - val_loss: 6783370240.0000 - val_mae: 63453.5000 - 964ms/epoch - 2ms/step\n",
            "Epoch 417/500\n",
            "479/479 - 1s - loss: 3317236224.0000 - mae: 39845.0000 - val_loss: 6729530880.0000 - val_mae: 63266.2773 - 933ms/epoch - 2ms/step\n",
            "Epoch 418/500\n",
            "479/479 - 1s - loss: 3316491008.0000 - mae: 39880.3125 - val_loss: 6798854656.0000 - val_mae: 63475.8945 - 865ms/epoch - 2ms/step\n",
            "Epoch 419/500\n",
            "479/479 - 1s - loss: 3314226688.0000 - mae: 39837.9375 - val_loss: 6743055872.0000 - val_mae: 63318.2695 - 922ms/epoch - 2ms/step\n",
            "Epoch 420/500\n",
            "479/479 - 1s - loss: 3312893184.0000 - mae: 39806.2383 - val_loss: 6748340736.0000 - val_mae: 63284.0547 - 888ms/epoch - 2ms/step\n",
            "Epoch 421/500\n",
            "479/479 - 1s - loss: 3311588608.0000 - mae: 39792.9180 - val_loss: 6744372736.0000 - val_mae: 63343.9023 - 957ms/epoch - 2ms/step\n",
            "Epoch 422/500\n",
            "479/479 - 1s - loss: 3309691392.0000 - mae: 39811.7617 - val_loss: 6788637696.0000 - val_mae: 63492.3242 - 941ms/epoch - 2ms/step\n",
            "Epoch 423/500\n",
            "479/479 - 1s - loss: 3308092416.0000 - mae: 39802.7070 - val_loss: 6766864896.0000 - val_mae: 63487.4062 - 950ms/epoch - 2ms/step\n",
            "Epoch 424/500\n",
            "479/479 - 1s - loss: 3306480896.0000 - mae: 39769.6875 - val_loss: 6756090368.0000 - val_mae: 63326.0000 - 875ms/epoch - 2ms/step\n",
            "Epoch 425/500\n",
            "479/479 - 1s - loss: 3304781312.0000 - mae: 39766.1797 - val_loss: 6786944000.0000 - val_mae: 63419.2969 - 852ms/epoch - 2ms/step\n",
            "Epoch 426/500\n",
            "479/479 - 1s - loss: 3302725376.0000 - mae: 39797.5391 - val_loss: 6808619008.0000 - val_mae: 63555.4727 - 1s/epoch - 3ms/step\n",
            "Epoch 427/500\n",
            "479/479 - 1s - loss: 3302130432.0000 - mae: 39755.9297 - val_loss: 6778590720.0000 - val_mae: 63356.1094 - 1s/epoch - 3ms/step\n",
            "Epoch 428/500\n",
            "479/479 - 1s - loss: 3299364608.0000 - mae: 39706.8906 - val_loss: 6717275136.0000 - val_mae: 63247.6562 - 887ms/epoch - 2ms/step\n",
            "Epoch 429/500\n",
            "479/479 - 1s - loss: 3298386688.0000 - mae: 39737.4297 - val_loss: 6765310976.0000 - val_mae: 63405.7695 - 953ms/epoch - 2ms/step\n",
            "Epoch 430/500\n",
            "479/479 - 1s - loss: 3296494080.0000 - mae: 39729.4922 - val_loss: 6759281664.0000 - val_mae: 63453.4023 - 944ms/epoch - 2ms/step\n",
            "Epoch 431/500\n",
            "479/479 - 1s - loss: 3294937600.0000 - mae: 39748.7695 - val_loss: 6773208064.0000 - val_mae: 63495.2578 - 868ms/epoch - 2ms/step\n",
            "Epoch 432/500\n",
            "479/479 - 1s - loss: 3292474368.0000 - mae: 39687.0234 - val_loss: 6765359104.0000 - val_mae: 63387.6523 - 859ms/epoch - 2ms/step\n",
            "Epoch 433/500\n",
            "479/479 - 1s - loss: 3291996928.0000 - mae: 39701.1250 - val_loss: 6750885376.0000 - val_mae: 63431.3789 - 845ms/epoch - 2ms/step\n",
            "Epoch 434/500\n",
            "479/479 - 1s - loss: 3288565248.0000 - mae: 39658.5195 - val_loss: 6729226240.0000 - val_mae: 63400.5117 - 910ms/epoch - 2ms/step\n",
            "Epoch 435/500\n",
            "479/479 - 1s - loss: 3287322880.0000 - mae: 39722.9961 - val_loss: 6804777984.0000 - val_mae: 63577.1250 - 886ms/epoch - 2ms/step\n",
            "Epoch 436/500\n",
            "479/479 - 1s - loss: 3284658432.0000 - mae: 39645.3828 - val_loss: 6763291136.0000 - val_mae: 63517.9492 - 949ms/epoch - 2ms/step\n",
            "Epoch 437/500\n",
            "479/479 - 1s - loss: 3284380928.0000 - mae: 39650.5234 - val_loss: 6749680128.0000 - val_mae: 63376.1055 - 858ms/epoch - 2ms/step\n",
            "Epoch 438/500\n",
            "479/479 - 1s - loss: 3282220032.0000 - mae: 39632.4219 - val_loss: 6727051776.0000 - val_mae: 63281.1016 - 855ms/epoch - 2ms/step\n",
            "Epoch 439/500\n",
            "479/479 - 1s - loss: 3280968448.0000 - mae: 39650.1484 - val_loss: 6757214208.0000 - val_mae: 63532.2383 - 1s/epoch - 2ms/step\n",
            "Epoch 440/500\n",
            "479/479 - 1s - loss: 3279072512.0000 - mae: 39621.9141 - val_loss: 6733624832.0000 - val_mae: 63424.8789 - 1s/epoch - 3ms/step\n",
            "Epoch 441/500\n",
            "479/479 - 1s - loss: 3277711616.0000 - mae: 39591.9297 - val_loss: 6763842048.0000 - val_mae: 63568.8008 - 1s/epoch - 2ms/step\n",
            "Epoch 442/500\n",
            "479/479 - 1s - loss: 3275169792.0000 - mae: 39596.5625 - val_loss: 6758683648.0000 - val_mae: 63548.3672 - 840ms/epoch - 2ms/step\n",
            "Epoch 443/500\n",
            "479/479 - 1s - loss: 3273401344.0000 - mae: 39601.9141 - val_loss: 6742392832.0000 - val_mae: 63408.1289 - 849ms/epoch - 2ms/step\n",
            "Epoch 444/500\n",
            "479/479 - 1s - loss: 3272141312.0000 - mae: 39599.1484 - val_loss: 6772839424.0000 - val_mae: 63494.3438 - 874ms/epoch - 2ms/step\n",
            "Epoch 445/500\n",
            "479/479 - 1s - loss: 3271181824.0000 - mae: 39566.9609 - val_loss: 6801595392.0000 - val_mae: 63678.4414 - 930ms/epoch - 2ms/step\n",
            "Epoch 446/500\n",
            "479/479 - 1s - loss: 3268638720.0000 - mae: 39550.2734 - val_loss: 6792798720.0000 - val_mae: 63668.3398 - 877ms/epoch - 2ms/step\n",
            "Epoch 447/500\n",
            "479/479 - 1s - loss: 3266429440.0000 - mae: 39539.1719 - val_loss: 6765587456.0000 - val_mae: 63559.6523 - 957ms/epoch - 2ms/step\n",
            "Epoch 448/500\n",
            "479/479 - 1s - loss: 3265518336.0000 - mae: 39549.3516 - val_loss: 6761112064.0000 - val_mae: 63546.3711 - 889ms/epoch - 2ms/step\n",
            "Epoch 449/500\n",
            "479/479 - 1s - loss: 3264221184.0000 - mae: 39533.4375 - val_loss: 6726066176.0000 - val_mae: 63397.9453 - 859ms/epoch - 2ms/step\n",
            "Epoch 450/500\n",
            "479/479 - 1s - loss: 3262166528.0000 - mae: 39492.3047 - val_loss: 6771016192.0000 - val_mae: 63563.3750 - 860ms/epoch - 2ms/step\n",
            "Epoch 451/500\n",
            "479/479 - 1s - loss: 3260255232.0000 - mae: 39472.6094 - val_loss: 6748882944.0000 - val_mae: 63514.3828 - 992ms/epoch - 2ms/step\n",
            "Epoch 452/500\n",
            "479/479 - 1s - loss: 3258446848.0000 - mae: 39492.1914 - val_loss: 6757695488.0000 - val_mae: 63636.8750 - 1s/epoch - 3ms/step\n",
            "Epoch 453/500\n",
            "479/479 - 1s - loss: 3256529152.0000 - mae: 39484.1016 - val_loss: 6795956224.0000 - val_mae: 63766.7305 - 1s/epoch - 3ms/step\n",
            "Epoch 454/500\n",
            "479/479 - 1s - loss: 3256068864.0000 - mae: 39449.7656 - val_loss: 6732803072.0000 - val_mae: 63590.6367 - 986ms/epoch - 2ms/step\n",
            "Epoch 455/500\n",
            "479/479 - 1s - loss: 3253398784.0000 - mae: 39442.6328 - val_loss: 6769322496.0000 - val_mae: 63613.6523 - 916ms/epoch - 2ms/step\n",
            "Epoch 456/500\n",
            "479/479 - 1s - loss: 3252538368.0000 - mae: 39469.3750 - val_loss: 6753024512.0000 - val_mae: 63689.8086 - 880ms/epoch - 2ms/step\n",
            "Epoch 457/500\n",
            "479/479 - 1s - loss: 3249779200.0000 - mae: 39444.3633 - val_loss: 6709886464.0000 - val_mae: 63436.1523 - 878ms/epoch - 2ms/step\n",
            "Epoch 458/500\n",
            "479/479 - 1s - loss: 3248504576.0000 - mae: 39433.8281 - val_loss: 6743063040.0000 - val_mae: 63570.9180 - 942ms/epoch - 2ms/step\n",
            "Epoch 459/500\n",
            "479/479 - 1s - loss: 3247156480.0000 - mae: 39394.1484 - val_loss: 6710985728.0000 - val_mae: 63527.6094 - 884ms/epoch - 2ms/step\n",
            "Epoch 460/500\n",
            "479/479 - 1s - loss: 3244575232.0000 - mae: 39414.7539 - val_loss: 6773824000.0000 - val_mae: 63718.4219 - 887ms/epoch - 2ms/step\n",
            "Epoch 461/500\n",
            "479/479 - 1s - loss: 3243673600.0000 - mae: 39377.6211 - val_loss: 6746009600.0000 - val_mae: 63710.3438 - 854ms/epoch - 2ms/step\n",
            "Epoch 462/500\n",
            "479/479 - 1s - loss: 3242731008.0000 - mae: 39412.6445 - val_loss: 6771074048.0000 - val_mae: 63710.0859 - 857ms/epoch - 2ms/step\n",
            "Epoch 463/500\n",
            "479/479 - 1s - loss: 3241015296.0000 - mae: 39361.7773 - val_loss: 6750520832.0000 - val_mae: 63588.7422 - 948ms/epoch - 2ms/step\n",
            "Epoch 464/500\n",
            "479/479 - 1s - loss: 3239371264.0000 - mae: 39349.2734 - val_loss: 6745872896.0000 - val_mae: 63592.9961 - 931ms/epoch - 2ms/step\n",
            "Epoch 465/500\n",
            "479/479 - 1s - loss: 3237958656.0000 - mae: 39377.4414 - val_loss: 6756866048.0000 - val_mae: 63644.7383 - 1s/epoch - 3ms/step\n",
            "Epoch 466/500\n",
            "479/479 - 1s - loss: 3235831040.0000 - mae: 39337.0547 - val_loss: 6734080512.0000 - val_mae: 63569.5195 - 1s/epoch - 3ms/step\n",
            "Epoch 467/500\n",
            "479/479 - 1s - loss: 3233417216.0000 - mae: 39303.6953 - val_loss: 6728667648.0000 - val_mae: 63586.8555 - 872ms/epoch - 2ms/step\n",
            "Epoch 468/500\n",
            "479/479 - 1s - loss: 3232662016.0000 - mae: 39341.8711 - val_loss: 6730248704.0000 - val_mae: 63531.1562 - 916ms/epoch - 2ms/step\n",
            "Epoch 469/500\n",
            "479/479 - 1s - loss: 3230672896.0000 - mae: 39294.0352 - val_loss: 6759149056.0000 - val_mae: 63556.4531 - 845ms/epoch - 2ms/step\n",
            "Epoch 470/500\n",
            "479/479 - 1s - loss: 3229791744.0000 - mae: 39304.1914 - val_loss: 6750376960.0000 - val_mae: 63669.4961 - 858ms/epoch - 2ms/step\n",
            "Epoch 471/500\n"
          ]
        },
        {
          "output_type": "error",
          "ename": "KeyboardInterrupt",
          "evalue": "ignored",
          "traceback": [
            "\u001b[0;31m---------------------------------------------------------------------------\u001b[0m",
            "\u001b[0;31mKeyboardInterrupt\u001b[0m                         Traceback (most recent call last)",
            "\u001b[0;32m<ipython-input-21-f6f52f4bffb4>\u001b[0m in \u001b[0;36m<module>\u001b[0;34m\u001b[0m\n\u001b[0;32m----> 1\u001b[0;31m history = model.fit(x_train, \n\u001b[0m\u001b[1;32m      2\u001b[0m                     \u001b[0my_train\u001b[0m\u001b[0;34m,\u001b[0m\u001b[0;34m\u001b[0m\u001b[0;34m\u001b[0m\u001b[0m\n\u001b[1;32m      3\u001b[0m                     \u001b[0mepochs\u001b[0m\u001b[0;34m=\u001b[0m\u001b[0;36m500\u001b[0m\u001b[0;34m,\u001b[0m\u001b[0;34m\u001b[0m\u001b[0;34m\u001b[0m\u001b[0m\n\u001b[1;32m      4\u001b[0m                     \u001b[0mvalidation_split\u001b[0m\u001b[0;34m=\u001b[0m\u001b[0;36m0.1\u001b[0m\u001b[0;34m,\u001b[0m\u001b[0;34m\u001b[0m\u001b[0;34m\u001b[0m\u001b[0m\n\u001b[1;32m      5\u001b[0m                     verbose=2)\n",
            "\u001b[0;32m/usr/local/lib/python3.9/dist-packages/keras/utils/traceback_utils.py\u001b[0m in \u001b[0;36merror_handler\u001b[0;34m(*args, **kwargs)\u001b[0m\n\u001b[1;32m     63\u001b[0m         \u001b[0mfiltered_tb\u001b[0m \u001b[0;34m=\u001b[0m \u001b[0;32mNone\u001b[0m\u001b[0;34m\u001b[0m\u001b[0;34m\u001b[0m\u001b[0m\n\u001b[1;32m     64\u001b[0m         \u001b[0;32mtry\u001b[0m\u001b[0;34m:\u001b[0m\u001b[0;34m\u001b[0m\u001b[0;34m\u001b[0m\u001b[0m\n\u001b[0;32m---> 65\u001b[0;31m             \u001b[0;32mreturn\u001b[0m \u001b[0mfn\u001b[0m\u001b[0;34m(\u001b[0m\u001b[0;34m*\u001b[0m\u001b[0margs\u001b[0m\u001b[0;34m,\u001b[0m \u001b[0;34m**\u001b[0m\u001b[0mkwargs\u001b[0m\u001b[0;34m)\u001b[0m\u001b[0;34m\u001b[0m\u001b[0;34m\u001b[0m\u001b[0m\n\u001b[0m\u001b[1;32m     66\u001b[0m         \u001b[0;32mexcept\u001b[0m \u001b[0mException\u001b[0m \u001b[0;32mas\u001b[0m \u001b[0me\u001b[0m\u001b[0;34m:\u001b[0m\u001b[0;34m\u001b[0m\u001b[0;34m\u001b[0m\u001b[0m\n\u001b[1;32m     67\u001b[0m             \u001b[0mfiltered_tb\u001b[0m \u001b[0;34m=\u001b[0m \u001b[0m_process_traceback_frames\u001b[0m\u001b[0;34m(\u001b[0m\u001b[0me\u001b[0m\u001b[0;34m.\u001b[0m\u001b[0m__traceback__\u001b[0m\u001b[0;34m)\u001b[0m\u001b[0;34m\u001b[0m\u001b[0;34m\u001b[0m\u001b[0m\n",
            "\u001b[0;32m/usr/local/lib/python3.9/dist-packages/keras/engine/training.py\u001b[0m in \u001b[0;36mfit\u001b[0;34m(self, x, y, batch_size, epochs, verbose, callbacks, validation_split, validation_data, shuffle, class_weight, sample_weight, initial_epoch, steps_per_epoch, validation_steps, validation_batch_size, validation_freq, max_queue_size, workers, use_multiprocessing)\u001b[0m\n\u001b[1;32m   1637\u001b[0m             \u001b[0;32mfor\u001b[0m \u001b[0mepoch\u001b[0m\u001b[0;34m,\u001b[0m \u001b[0miterator\u001b[0m \u001b[0;32min\u001b[0m \u001b[0mdata_handler\u001b[0m\u001b[0;34m.\u001b[0m\u001b[0menumerate_epochs\u001b[0m\u001b[0;34m(\u001b[0m\u001b[0;34m)\u001b[0m\u001b[0;34m:\u001b[0m\u001b[0;34m\u001b[0m\u001b[0;34m\u001b[0m\u001b[0m\n\u001b[1;32m   1638\u001b[0m                 \u001b[0mself\u001b[0m\u001b[0;34m.\u001b[0m\u001b[0mreset_metrics\u001b[0m\u001b[0;34m(\u001b[0m\u001b[0;34m)\u001b[0m\u001b[0;34m\u001b[0m\u001b[0;34m\u001b[0m\u001b[0m\n\u001b[0;32m-> 1639\u001b[0;31m                 \u001b[0mcallbacks\u001b[0m\u001b[0;34m.\u001b[0m\u001b[0mon_epoch_begin\u001b[0m\u001b[0;34m(\u001b[0m\u001b[0mepoch\u001b[0m\u001b[0;34m)\u001b[0m\u001b[0;34m\u001b[0m\u001b[0;34m\u001b[0m\u001b[0m\n\u001b[0m\u001b[1;32m   1640\u001b[0m                 \u001b[0;32mwith\u001b[0m \u001b[0mdata_handler\u001b[0m\u001b[0;34m.\u001b[0m\u001b[0mcatch_stop_iteration\u001b[0m\u001b[0;34m(\u001b[0m\u001b[0;34m)\u001b[0m\u001b[0;34m:\u001b[0m\u001b[0;34m\u001b[0m\u001b[0;34m\u001b[0m\u001b[0m\n\u001b[1;32m   1641\u001b[0m                     \u001b[0;32mfor\u001b[0m \u001b[0mstep\u001b[0m \u001b[0;32min\u001b[0m \u001b[0mdata_handler\u001b[0m\u001b[0;34m.\u001b[0m\u001b[0msteps\u001b[0m\u001b[0;34m(\u001b[0m\u001b[0;34m)\u001b[0m\u001b[0;34m:\u001b[0m\u001b[0;34m\u001b[0m\u001b[0;34m\u001b[0m\u001b[0m\n",
            "\u001b[0;32m/usr/local/lib/python3.9/dist-packages/keras/callbacks.py\u001b[0m in \u001b[0;36mon_epoch_begin\u001b[0;34m(self, epoch, logs)\u001b[0m\n\u001b[1;32m    437\u001b[0m         \u001b[0mlogs\u001b[0m \u001b[0;34m=\u001b[0m \u001b[0mself\u001b[0m\u001b[0;34m.\u001b[0m\u001b[0m_process_logs\u001b[0m\u001b[0;34m(\u001b[0m\u001b[0mlogs\u001b[0m\u001b[0;34m)\u001b[0m\u001b[0;34m\u001b[0m\u001b[0;34m\u001b[0m\u001b[0m\n\u001b[1;32m    438\u001b[0m         \u001b[0;32mfor\u001b[0m \u001b[0mcallback\u001b[0m \u001b[0;32min\u001b[0m \u001b[0mself\u001b[0m\u001b[0;34m.\u001b[0m\u001b[0mcallbacks\u001b[0m\u001b[0;34m:\u001b[0m\u001b[0;34m\u001b[0m\u001b[0;34m\u001b[0m\u001b[0m\n\u001b[0;32m--> 439\u001b[0;31m             \u001b[0mcallback\u001b[0m\u001b[0;34m.\u001b[0m\u001b[0mon_epoch_begin\u001b[0m\u001b[0;34m(\u001b[0m\u001b[0mepoch\u001b[0m\u001b[0;34m,\u001b[0m \u001b[0mlogs\u001b[0m\u001b[0;34m)\u001b[0m\u001b[0;34m\u001b[0m\u001b[0;34m\u001b[0m\u001b[0m\n\u001b[0m\u001b[1;32m    440\u001b[0m \u001b[0;34m\u001b[0m\u001b[0m\n\u001b[1;32m    441\u001b[0m     \u001b[0;32mdef\u001b[0m \u001b[0mon_epoch_end\u001b[0m\u001b[0;34m(\u001b[0m\u001b[0mself\u001b[0m\u001b[0;34m,\u001b[0m \u001b[0mepoch\u001b[0m\u001b[0;34m,\u001b[0m \u001b[0mlogs\u001b[0m\u001b[0;34m=\u001b[0m\u001b[0;32mNone\u001b[0m\u001b[0;34m)\u001b[0m\u001b[0;34m:\u001b[0m\u001b[0;34m\u001b[0m\u001b[0;34m\u001b[0m\u001b[0m\n",
            "\u001b[0;32m/usr/local/lib/python3.9/dist-packages/keras/callbacks.py\u001b[0m in \u001b[0;36mon_epoch_begin\u001b[0;34m(self, epoch, logs)\u001b[0m\n\u001b[1;32m   1089\u001b[0m         \u001b[0mself\u001b[0m\u001b[0;34m.\u001b[0m\u001b[0m_maybe_init_progbar\u001b[0m\u001b[0;34m(\u001b[0m\u001b[0;34m)\u001b[0m\u001b[0;34m\u001b[0m\u001b[0;34m\u001b[0m\u001b[0m\n\u001b[1;32m   1090\u001b[0m         \u001b[0;32mif\u001b[0m \u001b[0mself\u001b[0m\u001b[0;34m.\u001b[0m\u001b[0mverbose\u001b[0m \u001b[0;32mand\u001b[0m \u001b[0mself\u001b[0m\u001b[0;34m.\u001b[0m\u001b[0mepochs\u001b[0m \u001b[0;34m>\u001b[0m \u001b[0;36m1\u001b[0m\u001b[0;34m:\u001b[0m\u001b[0;34m\u001b[0m\u001b[0;34m\u001b[0m\u001b[0m\n\u001b[0;32m-> 1091\u001b[0;31m             \u001b[0mio_utils\u001b[0m\u001b[0;34m.\u001b[0m\u001b[0mprint_msg\u001b[0m\u001b[0;34m(\u001b[0m\u001b[0;34mf\"Epoch {epoch + 1}/{self.epochs}\"\u001b[0m\u001b[0;34m)\u001b[0m\u001b[0;34m\u001b[0m\u001b[0;34m\u001b[0m\u001b[0m\n\u001b[0m\u001b[1;32m   1092\u001b[0m \u001b[0;34m\u001b[0m\u001b[0m\n\u001b[1;32m   1093\u001b[0m     \u001b[0;32mdef\u001b[0m \u001b[0mon_train_batch_end\u001b[0m\u001b[0;34m(\u001b[0m\u001b[0mself\u001b[0m\u001b[0;34m,\u001b[0m \u001b[0mbatch\u001b[0m\u001b[0;34m,\u001b[0m \u001b[0mlogs\u001b[0m\u001b[0;34m=\u001b[0m\u001b[0;32mNone\u001b[0m\u001b[0;34m)\u001b[0m\u001b[0;34m:\u001b[0m\u001b[0;34m\u001b[0m\u001b[0;34m\u001b[0m\u001b[0m\n",
            "\u001b[0;32m/usr/local/lib/python3.9/dist-packages/keras/utils/io_utils.py\u001b[0m in \u001b[0;36mprint_msg\u001b[0;34m(message, line_break)\u001b[0m\n\u001b[1;32m     78\u001b[0m         \u001b[0;32melse\u001b[0m\u001b[0;34m:\u001b[0m\u001b[0;34m\u001b[0m\u001b[0;34m\u001b[0m\u001b[0m\n\u001b[1;32m     79\u001b[0m             \u001b[0msys\u001b[0m\u001b[0;34m.\u001b[0m\u001b[0mstdout\u001b[0m\u001b[0;34m.\u001b[0m\u001b[0mwrite\u001b[0m\u001b[0;34m(\u001b[0m\u001b[0mmessage\u001b[0m\u001b[0;34m)\u001b[0m\u001b[0;34m\u001b[0m\u001b[0;34m\u001b[0m\u001b[0m\n\u001b[0;32m---> 80\u001b[0;31m         \u001b[0msys\u001b[0m\u001b[0;34m.\u001b[0m\u001b[0mstdout\u001b[0m\u001b[0;34m.\u001b[0m\u001b[0mflush\u001b[0m\u001b[0;34m(\u001b[0m\u001b[0;34m)\u001b[0m\u001b[0;34m\u001b[0m\u001b[0;34m\u001b[0m\u001b[0m\n\u001b[0m\u001b[1;32m     81\u001b[0m     \u001b[0;32melse\u001b[0m\u001b[0;34m:\u001b[0m\u001b[0;34m\u001b[0m\u001b[0;34m\u001b[0m\u001b[0m\n\u001b[1;32m     82\u001b[0m         \u001b[0mlogging\u001b[0m\u001b[0;34m.\u001b[0m\u001b[0minfo\u001b[0m\u001b[0;34m(\u001b[0m\u001b[0mmessage\u001b[0m\u001b[0;34m)\u001b[0m\u001b[0;34m\u001b[0m\u001b[0;34m\u001b[0m\u001b[0m\n",
            "\u001b[0;32m/usr/local/lib/python3.9/dist-packages/ipykernel/iostream.py\u001b[0m in \u001b[0;36mflush\u001b[0;34m(self)\u001b[0m\n\u001b[1;32m    350\u001b[0m                 \u001b[0mself\u001b[0m\u001b[0;34m.\u001b[0m\u001b[0mpub_thread\u001b[0m\u001b[0;34m.\u001b[0m\u001b[0mschedule\u001b[0m\u001b[0;34m(\u001b[0m\u001b[0mevt\u001b[0m\u001b[0;34m.\u001b[0m\u001b[0mset\u001b[0m\u001b[0;34m)\u001b[0m\u001b[0;34m\u001b[0m\u001b[0;34m\u001b[0m\u001b[0m\n\u001b[1;32m    351\u001b[0m                 \u001b[0;31m# and give a timeout to avoid\u001b[0m\u001b[0;34m\u001b[0m\u001b[0;34m\u001b[0m\u001b[0m\n\u001b[0;32m--> 352\u001b[0;31m                 \u001b[0;32mif\u001b[0m \u001b[0;32mnot\u001b[0m \u001b[0mevt\u001b[0m\u001b[0;34m.\u001b[0m\u001b[0mwait\u001b[0m\u001b[0;34m(\u001b[0m\u001b[0mself\u001b[0m\u001b[0;34m.\u001b[0m\u001b[0mflush_timeout\u001b[0m\u001b[0;34m)\u001b[0m\u001b[0;34m:\u001b[0m\u001b[0;34m\u001b[0m\u001b[0;34m\u001b[0m\u001b[0m\n\u001b[0m\u001b[1;32m    353\u001b[0m                     \u001b[0;31m# write directly to __stderr__ instead of warning because\u001b[0m\u001b[0;34m\u001b[0m\u001b[0;34m\u001b[0m\u001b[0m\n\u001b[1;32m    354\u001b[0m                     \u001b[0;31m# if this is happening sys.stderr may be the problem.\u001b[0m\u001b[0;34m\u001b[0m\u001b[0;34m\u001b[0m\u001b[0m\n",
            "\u001b[0;32m/usr/lib/python3.9/threading.py\u001b[0m in \u001b[0;36mwait\u001b[0;34m(self, timeout)\u001b[0m\n\u001b[1;32m    579\u001b[0m             \u001b[0msignaled\u001b[0m \u001b[0;34m=\u001b[0m \u001b[0mself\u001b[0m\u001b[0;34m.\u001b[0m\u001b[0m_flag\u001b[0m\u001b[0;34m\u001b[0m\u001b[0;34m\u001b[0m\u001b[0m\n\u001b[1;32m    580\u001b[0m             \u001b[0;32mif\u001b[0m \u001b[0;32mnot\u001b[0m \u001b[0msignaled\u001b[0m\u001b[0;34m:\u001b[0m\u001b[0;34m\u001b[0m\u001b[0;34m\u001b[0m\u001b[0m\n\u001b[0;32m--> 581\u001b[0;31m                 \u001b[0msignaled\u001b[0m \u001b[0;34m=\u001b[0m \u001b[0mself\u001b[0m\u001b[0;34m.\u001b[0m\u001b[0m_cond\u001b[0m\u001b[0;34m.\u001b[0m\u001b[0mwait\u001b[0m\u001b[0;34m(\u001b[0m\u001b[0mtimeout\u001b[0m\u001b[0;34m)\u001b[0m\u001b[0;34m\u001b[0m\u001b[0;34m\u001b[0m\u001b[0m\n\u001b[0m\u001b[1;32m    582\u001b[0m             \u001b[0;32mreturn\u001b[0m \u001b[0msignaled\u001b[0m\u001b[0;34m\u001b[0m\u001b[0;34m\u001b[0m\u001b[0m\n\u001b[1;32m    583\u001b[0m \u001b[0;34m\u001b[0m\u001b[0m\n",
            "\u001b[0;32m/usr/lib/python3.9/threading.py\u001b[0m in \u001b[0;36mwait\u001b[0;34m(self, timeout)\u001b[0m\n\u001b[1;32m    314\u001b[0m             \u001b[0;32melse\u001b[0m\u001b[0;34m:\u001b[0m\u001b[0;34m\u001b[0m\u001b[0;34m\u001b[0m\u001b[0m\n\u001b[1;32m    315\u001b[0m                 \u001b[0;32mif\u001b[0m \u001b[0mtimeout\u001b[0m \u001b[0;34m>\u001b[0m \u001b[0;36m0\u001b[0m\u001b[0;34m:\u001b[0m\u001b[0;34m\u001b[0m\u001b[0;34m\u001b[0m\u001b[0m\n\u001b[0;32m--> 316\u001b[0;31m                     \u001b[0mgotit\u001b[0m \u001b[0;34m=\u001b[0m \u001b[0mwaiter\u001b[0m\u001b[0;34m.\u001b[0m\u001b[0macquire\u001b[0m\u001b[0;34m(\u001b[0m\u001b[0;32mTrue\u001b[0m\u001b[0;34m,\u001b[0m \u001b[0mtimeout\u001b[0m\u001b[0;34m)\u001b[0m\u001b[0;34m\u001b[0m\u001b[0;34m\u001b[0m\u001b[0m\n\u001b[0m\u001b[1;32m    317\u001b[0m                 \u001b[0;32melse\u001b[0m\u001b[0;34m:\u001b[0m\u001b[0;34m\u001b[0m\u001b[0;34m\u001b[0m\u001b[0m\n\u001b[1;32m    318\u001b[0m                     \u001b[0mgotit\u001b[0m \u001b[0;34m=\u001b[0m \u001b[0mwaiter\u001b[0m\u001b[0;34m.\u001b[0m\u001b[0macquire\u001b[0m\u001b[0;34m(\u001b[0m\u001b[0;32mFalse\u001b[0m\u001b[0;34m)\u001b[0m\u001b[0;34m\u001b[0m\u001b[0;34m\u001b[0m\u001b[0m\n",
            "\u001b[0;31mKeyboardInterrupt\u001b[0m: "
          ]
        }
      ]
    },
    {
      "cell_type": "markdown",
      "metadata": {
        "id": "m_6XDRknyO8Q"
      },
      "source": [
        "## Визуализация качества обучения"
      ]
    },
    {
      "cell_type": "code",
      "metadata": {
        "id": "k-VXHvPjySTw",
        "outputId": "f3a8b601-2936-420f-8dbd-3e33ed677e01",
        "colab": {
          "base_uri": "https://localhost:8080/",
          "height": 236
        }
      },
      "source": [
        "plt.plot(history.history['mae'], \n",
        "         label='Средняя абсолютная ошибка на обучающем наборе')\n",
        "plt.plot(history.history['val_mae'], \n",
        "         label='Средняя абсолютная ошибка на проверочном наборе')\n",
        "plt.xlabel('Эпоха обучения')\n",
        "plt.ylabel('Средняя абсолютная ошибка')\n",
        "plt.legend()\n",
        "plt.show()"
      ],
      "execution_count": null,
      "outputs": [
        {
          "output_type": "error",
          "ename": "NameError",
          "evalue": "ignored",
          "traceback": [
            "\u001b[0;31m---------------------------------------------------------------------------\u001b[0m",
            "\u001b[0;31mNameError\u001b[0m                                 Traceback (most recent call last)",
            "\u001b[0;32m<ipython-input-22-122d225e5ff0>\u001b[0m in \u001b[0;36m<module>\u001b[0;34m\u001b[0m\n\u001b[0;32m----> 1\u001b[0;31m plt.plot(history.history['mae'], \n\u001b[0m\u001b[1;32m      2\u001b[0m          label='Средняя абсолютная ошибка на обучающем наборе')\n\u001b[1;32m      3\u001b[0m plt.plot(history.history['val_mae'], \n\u001b[1;32m      4\u001b[0m          label='Средняя абсолютная ошибка на проверочном наборе')\n\u001b[1;32m      5\u001b[0m \u001b[0mplt\u001b[0m\u001b[0;34m.\u001b[0m\u001b[0mxlabel\u001b[0m\u001b[0;34m(\u001b[0m\u001b[0;34m'Эпоха обучения'\u001b[0m\u001b[0;34m)\u001b[0m\u001b[0;34m\u001b[0m\u001b[0;34m\u001b[0m\u001b[0m\n",
            "\u001b[0;31mNameError\u001b[0m: name 'history' is not defined"
          ]
        }
      ]
    },
    {
      "cell_type": "markdown",
      "metadata": {
        "id": "s4kt3k8sxNq6"
      },
      "source": [
        "## Проверяем работу модели на тестовом наборе данных"
      ]
    },
    {
      "cell_type": "code",
      "metadata": {
        "id": "W4zh-jfuxUJo",
        "outputId": "b40ff753-5834-4748-d692-c4acbea6b2bb",
        "colab": {
          "base_uri": "https://localhost:8080/"
        }
      },
      "source": [
        "scores = model.evaluate(x_test, y_test, verbose=1)"
      ],
      "execution_count": null,
      "outputs": [
        {
          "output_type": "stream",
          "name": "stdout",
          "text": [
            "94/94 [==============================] - 0s 2ms/step - loss: 3677411328.0000 - mae: 42131.3047\n"
          ]
        }
      ]
    },
    {
      "cell_type": "code",
      "metadata": {
        "id": "EhAMQvdDx_pA",
        "outputId": "085fb80b-b2bb-4b1a-8974-4569af26d484",
        "colab": {
          "base_uri": "https://localhost:8080/"
        }
      },
      "source": [
        "print(\"Средняя абсолютная ошибка на тестовых данных:\", round(scores[1], 4))"
      ],
      "execution_count": null,
      "outputs": [
        {
          "output_type": "stream",
          "name": "stdout",
          "text": [
            "Средняя абсолютная ошибка на тестовых данных: 42131.3047\n"
          ]
        }
      ]
    },
    {
      "cell_type": "markdown",
      "metadata": {
        "id": "UDHMw_dEH7_0"
      },
      "source": [
        "## Используем модель для предсказаний"
      ]
    },
    {
      "cell_type": "markdown",
      "metadata": {
        "id": "pHOIK7qaOns1"
      },
      "source": [
        "**Выполняем предсказание для тестовой выборки**"
      ]
    },
    {
      "cell_type": "code",
      "metadata": {
        "id": "5LYrptorOjPe",
        "colab": {
          "base_uri": "https://localhost:8080/"
        },
        "outputId": "63a6efde-65ba-4c65-ff26-369651f35691"
      },
      "source": [
        "pred = model.predict(x_test).flatten()"
      ],
      "execution_count": null,
      "outputs": [
        {
          "output_type": "stream",
          "name": "stdout",
          "text": [
            "94/94 [==============================] - 0s 1ms/step\n"
          ]
        }
      ]
    },
    {
      "cell_type": "code",
      "metadata": {
        "id": "_D55LA1i7E4J",
        "outputId": "3798ec88-dd67-4bbe-d052-8426e78e3cb2",
        "colab": {
          "base_uri": "https://localhost:8080/",
          "height": 34
        }
      },
      "source": [
        "print(pred)"
      ],
      "execution_count": null,
      "outputs": [
        {
          "output_type": "stream",
          "text": [
            "[381243.7  203283.61 276867.38 ...  94460.89 119167.45 504349.12]\n"
          ],
          "name": "stdout"
        }
      ]
    },
    {
      "cell_type": "markdown",
      "metadata": {
        "id": "TTw_JA5TOiYF"
      },
      "source": [
        "**Печатаем примеры результатов**"
      ]
    },
    {
      "cell_type": "code",
      "metadata": {
        "id": "L5KdJducOuwt",
        "outputId": "8c47e7c7-69bd-4791-9768-b11ec71e1d9c",
        "colab": {
          "base_uri": "https://localhost:8080/"
        }
      },
      "source": [
        "test_index=0\n",
        "print(\"Предсказанная стоимость:\", pred[test_index], \", правильная стоимость:\", y_test[test_index])"
      ],
      "execution_count": null,
      "outputs": [
        {
          "output_type": "stream",
          "name": "stdout",
          "text": [
            "Предсказанная стоимость: 376281.1 , правильная стоимость: 344700.0\n"
          ]
        }
      ]
    },
    {
      "cell_type": "markdown",
      "metadata": {
        "id": "JsOHd3RvChv0"
      },
      "source": [
        "## Визуализируем результаты предсказаний"
      ]
    },
    {
      "cell_type": "markdown",
      "metadata": {
        "id": "bf-IZgHpDQs0"
      },
      "source": [
        "График предсказаний"
      ]
    },
    {
      "cell_type": "code",
      "metadata": {
        "id": "eW4Jyk56CT4A",
        "colab": {
          "base_uri": "https://localhost:8080/",
          "height": 279
        },
        "outputId": "e83e71b4-5198-407a-894e-deefa303a3a7"
      },
      "source": [
        "plt.scatter(y_test, pred)\n",
        "plt.xlabel('Правильные значение, $1K')\n",
        "plt.ylabel('Предсказания, $1K')\n",
        "plt.axis('equal')\n",
        "plt.xlim(plt.xlim())\n",
        "plt.ylim(plt.ylim())\n",
        "plt.plot([-100, 100], [-100, 100])\n",
        "plt.show()"
      ],
      "execution_count": null,
      "outputs": [
        {
          "output_type": "display_data",
          "data": {
            "text/plain": [
              "<Figure size 432x288 with 1 Axes>"
            ],
            "image/png": "[encoded data removed]"
          },
          "metadata": {
            "needs_background": "light"
          }
        }
      ]
    },
    {
      "cell_type": "markdown",
      "metadata": {
        "id": "IjAxrbvLDsI-"
      },
      "source": [
        "Гистограмма ошибок"
      ]
    },
    {
      "cell_type": "code",
      "metadata": {
        "id": "K4SHKjI_DuaE",
        "colab": {
          "base_uri": "https://localhost:8080/",
          "height": 279
        },
        "outputId": "18f54bf5-1d66-4c73-d468-9092b4de511e"
      },
      "source": [
        "error = pred - y_test\n",
        "plt.hist(error, bins = 50)\n",
        "plt.xlabel(\"Значение ошибки, $1K\")\n",
        "plt.ylabel(\"Количество\")\n",
        "plt.show()"
      ],
      "execution_count": null,
      "outputs": [
        {
          "output_type": "display_data",
          "data": {
            "text/plain": [
              "<Figure size 432x288 with 1 Axes>"
            ],
            "image/png": "[encoded data removed]"
          },
          "metadata": {
            "needs_background": "light"
          }
        }
      ]
    }
  ]
}