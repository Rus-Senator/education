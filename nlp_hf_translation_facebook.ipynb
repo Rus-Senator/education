{
  "nbformat": 4,
  "nbformat_minor": 0,
  "metadata": {
    "colab": {
      "provenance": [],
      "include_colab_link": true
    },
    "kernelspec": {
      "name": "python3",
      "display_name": "Python 3"
    },
    "language_info": {
      "name": "python"
    }
  },
  "cells": [
    {
      "cell_type": "markdown",
      "metadata": {
        "id": "view-in-github",
        "colab_type": "text"
      },
      "source": [
        "<a href=\"https://colab.research.google.com/github/Rus-Senator/education/blob/master/nlp_hf_translation_facebook.ipynb\" target=\"_parent\"><img src=\"https://colab.research.google.com/assets/colab-badge.svg\" alt=\"Open In Colab\"/></a>"
      ]
    },
    {
      "cell_type": "markdown",
      "source": [
        "# Пример решения задачи автоматического перевода с использованием библиотеки Hugging Face"
      ],
      "metadata": {
        "id": "2nqxFEmUEJtN"
      }
    },
    {
      "cell_type": "markdown",
      "source": [
        "Устанавливаем и подключаем необходимые библиотеки"
      ],
      "metadata": {
        "id": "xx5vh22PEaJU"
      }
    },
    {
      "cell_type": "code",
      "execution_count": null,
      "metadata": {
        "id": "W8zXoAgHEHaY"
      },
      "outputs": [],
      "source": [
        "!pip install transformers sentencepiece"
      ]
    },
    {
      "cell_type": "code",
      "source": [
        "from transformers import pipeline"
      ],
      "metadata": {
        "id": "29_zjsOiEVbw"
      },
      "execution_count": null,
      "outputs": []
    },
    {
      "cell_type": "markdown",
      "source": [
        "Создаем pipeline для автоматического перевода в Hugging Face"
      ],
      "metadata": {
        "id": "f8kqDfHgEc4D"
      }
    },
    {
      "cell_type": "code",
      "source": [
        "translator = pipeline(\"translation_ru_to_en\", model=\"facebook/wmt19-ru-en\")"
      ],
      "metadata": {
        "id": "RqnjYkLWEo--"
      },
      "execution_count": null,
      "outputs": []
    },
    {
      "cell_type": "markdown",
      "source": [
        "Используем модель для перевода"
      ],
      "metadata": {
        "id": "UyOjgAYOE-jY"
      }
    },
    {
      "cell_type": "code",
      "source": [
        "results = translator(\"Меня зовут Андрей и я живу в Екатеринбурге\")"
      ],
      "metadata": {
        "id": "T47hpOgVE9ls"
      },
      "execution_count": null,
      "outputs": []
    },
    {
      "cell_type": "code",
      "source": [
        "results"
      ],
      "metadata": {
        "colab": {
          "base_uri": "https://localhost:8080/"
        },
        "id": "6X_5c0MfFJQD",
        "outputId": "ca79cd2e-67c0-419e-f418-8000be914a1e"
      },
      "execution_count": null,
      "outputs": [
        {
          "output_type": "execute_result",
          "data": {
            "text/plain": [
              "[{'translation_text': 'My name is Andrey and I live in Yekaterinburg'}]"
            ]
          },
          "metadata": {},
          "execution_count": 8
        }
      ]
    }
  ]
}